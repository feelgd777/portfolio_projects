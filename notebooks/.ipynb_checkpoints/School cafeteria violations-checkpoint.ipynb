{
 "cells": [
  {
   "attachments": {},
   "cell_type": "markdown",
   "metadata": {},
   "source": [
    "# School cafeteria violations analysis"
   ]
  },
  {
   "attachments": {},
   "cell_type": "markdown",
   "metadata": {},
   "source": [
    "### Overview"
   ]
  },
  {
   "attachments": {},
   "cell_type": "markdown",
   "metadata": {},
   "source": [
    "This project provides a concise analysis of cafeteria violations in public and private schools, aiming to contrast and compare the quantity and nature of violations in different neighborhoods to identify areas with the greatest potential risk to public health. We explore key insights, including the distribution of violation types, the prevalence of critical violations, and geographic trends. The analysis highlights the need for increased oversight and regulations in specific areas to enhance public health and safety."
   ]
  },
  {
   "attachments": {},
   "cell_type": "markdown",
   "metadata": {},
   "source": [
    "### Data Understanding"
   ]
  },
  {
   "attachments": {},
   "cell_type": "markdown",
   "metadata": {},
   "source": [
    "The dataset, provided by the Department of Health and Mental Hygiene, comprises current inspection data for school cafeterias in NYC, covering public, private, and parochial schools. These cafeterias must adhere to food safety regulations, and inspections are conducted at least annually. The dataset includes information from the permitting process and inspection results for active school cafeterias over the past three years. It contains 7,662 violations, with 2,125 classified as critical, posing a substantial public health risk. Notably, this dataset is not suitable for historical comparisons, as it excludes ceased operations and may change due to adjudication for private for-profit schools."
   ]
  },
  {
   "attachments": {},
   "cell_type": "markdown",
   "metadata": {
    "jp-MarkdownHeadingCollapsed": true
   },
   "source": [
    "### Imports"
   ]
  },
  {
   "cell_type": "code",
   "execution_count": 21,
   "metadata": {},
   "outputs": [],
   "source": [
    "import pandas as pd\n",
    "import numpy as np\n",
    "import sqlite3 "
   ]
  },
  {
   "attachments": {},
   "cell_type": "markdown",
   "metadata": {
    "jp-MarkdownHeadingCollapsed": true
   },
   "source": [
    "### Data Cleaning"
   ]
  },
  {
   "cell_type": "markdown",
   "metadata": {},
   "source": [
    "#### Displaying all the Columns"
   ]
  },
  {
   "cell_type": "code",
   "execution_count": 22,
   "metadata": {},
   "outputs": [],
   "source": [
    "pd.set_option('display.max_columns', None)"
   ]
  },
  {
   "cell_type": "markdown",
   "metadata": {},
   "source": [
    "#### Importing Data"
   ]
  },
  {
   "cell_type": "code",
   "execution_count": 23,
   "metadata": {
    "scrolled": true
   },
   "outputs": [
    {
     "data": {
      "text/html": [
       "<div>\n",
       "<style scoped>\n",
       "    .dataframe tbody tr th:only-of-type {\n",
       "        vertical-align: middle;\n",
       "    }\n",
       "\n",
       "    .dataframe tbody tr th {\n",
       "        vertical-align: top;\n",
       "    }\n",
       "\n",
       "    .dataframe thead th {\n",
       "        text-align: right;\n",
       "    }\n",
       "</style>\n",
       "<table border=\"1\" class=\"dataframe\">\n",
       "  <thead>\n",
       "    <tr style=\"text-align: right;\">\n",
       "      <th></th>\n",
       "      <th>Record ID</th>\n",
       "      <th>SchoolName</th>\n",
       "      <th>Number</th>\n",
       "      <th>Street</th>\n",
       "      <th>City</th>\n",
       "      <th>State</th>\n",
       "      <th>Borough</th>\n",
       "      <th>ZipCode</th>\n",
       "      <th>LastInspection</th>\n",
       "      <th>Permittee</th>\n",
       "      <th>InspectionDate</th>\n",
       "      <th>PTET</th>\n",
       "      <th>Site Type</th>\n",
       "      <th>Level</th>\n",
       "      <th>Code</th>\n",
       "      <th>ViolationDescription</th>\n",
       "      <th>LATITUDE</th>\n",
       "      <th>LONGITUDE</th>\n",
       "      <th>COMMUNITYBOARD</th>\n",
       "      <th>COUNCILDISTRICT</th>\n",
       "      <th>CENSUSTRACT</th>\n",
       "      <th>BIN</th>\n",
       "      <th>BBL</th>\n",
       "      <th>NTA</th>\n",
       "      <th>BOROCODE</th>\n",
       "    </tr>\n",
       "  </thead>\n",
       "  <tbody>\n",
       "    <tr>\n",
       "      <th>0</th>\n",
       "      <td>40542839</td>\n",
       "      <td>P.S. 127 MCKINLEY PARK, RALPH A. FABRIZIO SCHO...</td>\n",
       "      <td>7805</td>\n",
       "      <td>7 AVENUE</td>\n",
       "      <td>Brooklyn</td>\n",
       "      <td>NY</td>\n",
       "      <td>Brooklyn</td>\n",
       "      <td>11228.0</td>\n",
       "      <td>02/02/2023</td>\n",
       "      <td>NEW YORK CITY DEPARTMENT OF EDUCATION</td>\n",
       "      <td>07/28/2022</td>\n",
       "      <td>2530</td>\n",
       "      <td>FSE (Public School Cafeteria)</td>\n",
       "      <td>NaN</td>\n",
       "      <td>NaN</td>\n",
       "      <td>NaN</td>\n",
       "      <td>40.624125</td>\n",
       "      <td>-74.018826</td>\n",
       "      <td>310.0</td>\n",
       "      <td>43.0</td>\n",
       "      <td>20600.0</td>\n",
       "      <td>3150481.0</td>\n",
       "      <td>3059730001</td>\n",
       "      <td>BK30</td>\n",
       "      <td>3</td>\n",
       "    </tr>\n",
       "    <tr>\n",
       "      <th>1</th>\n",
       "      <td>40736086</td>\n",
       "      <td>BAIS YITZHAK SCHOOL</td>\n",
       "      <td>141315</td>\n",
       "      <td>45 STREET</td>\n",
       "      <td>BROOKLYN</td>\n",
       "      <td>NY</td>\n",
       "      <td>Brooklyn</td>\n",
       "      <td>NaN</td>\n",
       "      <td>02/15/2023</td>\n",
       "      <td>CONGREGATION KHAL CHASIDEI SKWERE - BAIS YITZA...</td>\n",
       "      <td>03/01/2022</td>\n",
       "      <td>2533</td>\n",
       "      <td>FSE (Private School Cafeteria - Not-For-Profit)</td>\n",
       "      <td>G</td>\n",
       "      <td>10A</td>\n",
       "      <td>Toilet facility not maintained and provided wi...</td>\n",
       "      <td>0.000000</td>\n",
       "      <td>0.000000</td>\n",
       "      <td>NaN</td>\n",
       "      <td>NaN</td>\n",
       "      <td>NaN</td>\n",
       "      <td>NaN</td>\n",
       "      <td>3</td>\n",
       "      <td>NaN</td>\n",
       "      <td>3</td>\n",
       "    </tr>\n",
       "    <tr>\n",
       "      <th>2</th>\n",
       "      <td>40542116</td>\n",
       "      <td>P.S. 135 SHELDON A. BROOKNER</td>\n",
       "      <td>684</td>\n",
       "      <td>LINDEN BOULEVARD</td>\n",
       "      <td>Brooklyn</td>\n",
       "      <td>NY</td>\n",
       "      <td>Brooklyn</td>\n",
       "      <td>11203.0</td>\n",
       "      <td>01/23/2023</td>\n",
       "      <td>NEW YORK CITY DEPARTMENT OF EDUCATION</td>\n",
       "      <td>11/17/2022</td>\n",
       "      <td>2530</td>\n",
       "      <td>FSE (Public School Cafeteria)</td>\n",
       "      <td>C</td>\n",
       "      <td>04A</td>\n",
       "      <td>Food Protection Certificate (FPC) not held by ...</td>\n",
       "      <td>40.653633</td>\n",
       "      <td>-73.933114</td>\n",
       "      <td>317.0</td>\n",
       "      <td>41.0</td>\n",
       "      <td>87000.0</td>\n",
       "      <td>3102005.0</td>\n",
       "      <td>3046730001</td>\n",
       "      <td>BK91</td>\n",
       "      <td>3</td>\n",
       "    </tr>\n",
       "    <tr>\n",
       "      <th>3</th>\n",
       "      <td>40542900</td>\n",
       "      <td>PAN AMERICAN INTERNATIONAL HIGH SCHOOL AT MONR...</td>\n",
       "      <td>1300</td>\n",
       "      <td>BOYNTON AVENUE</td>\n",
       "      <td>Bronx</td>\n",
       "      <td>NY</td>\n",
       "      <td>Bronx</td>\n",
       "      <td>10472.0</td>\n",
       "      <td>03/09/2023</td>\n",
       "      <td>NEW YORK CITY DEPARTMENT OF EDUCATION</td>\n",
       "      <td>03/09/2023</td>\n",
       "      <td>2530</td>\n",
       "      <td>FSE (Public School Cafeteria)</td>\n",
       "      <td>C</td>\n",
       "      <td>04L</td>\n",
       "      <td>Evidence of mice or live mice in establishment...</td>\n",
       "      <td>40.831594</td>\n",
       "      <td>-73.878911</td>\n",
       "      <td>209.0</td>\n",
       "      <td>18.0</td>\n",
       "      <td>5600.0</td>\n",
       "      <td>2027459.0</td>\n",
       "      <td>2038640001</td>\n",
       "      <td>BX08</td>\n",
       "      <td>2</td>\n",
       "    </tr>\n",
       "    <tr>\n",
       "      <th>4</th>\n",
       "      <td>40541560</td>\n",
       "      <td>PS811M @ PS 149M, SUCCESS ACADEMY CHARTER-HARL...</td>\n",
       "      <td>34</td>\n",
       "      <td>WEST  118 STREET</td>\n",
       "      <td>New York</td>\n",
       "      <td>NY</td>\n",
       "      <td>Manhattan</td>\n",
       "      <td>10026.0</td>\n",
       "      <td>01/31/2023</td>\n",
       "      <td>NEW YORK CITY DEPARTMENT OF EDUCATION</td>\n",
       "      <td>08/01/2022</td>\n",
       "      <td>2530</td>\n",
       "      <td>FSE (Public School Cafeteria)</td>\n",
       "      <td>C</td>\n",
       "      <td>04M</td>\n",
       "      <td>Live roaches in facility's food or non-food area.</td>\n",
       "      <td>40.802464</td>\n",
       "      <td>-73.946715</td>\n",
       "      <td>110.0</td>\n",
       "      <td>9.0</td>\n",
       "      <td>19000.0</td>\n",
       "      <td>1051434.0</td>\n",
       "      <td>1016010001</td>\n",
       "      <td>MN11</td>\n",
       "      <td>1</td>\n",
       "    </tr>\n",
       "  </tbody>\n",
       "</table>\n",
       "</div>"
      ],
      "text/plain": [
       "  Record ID                                         SchoolName  Number  \\\n",
       "0  40542839  P.S. 127 MCKINLEY PARK, RALPH A. FABRIZIO SCHO...    7805   \n",
       "1  40736086                                BAIS YITZHAK SCHOOL  141315   \n",
       "2  40542116                       P.S. 135 SHELDON A. BROOKNER     684   \n",
       "3  40542900  PAN AMERICAN INTERNATIONAL HIGH SCHOOL AT MONR...    1300   \n",
       "4  40541560  PS811M @ PS 149M, SUCCESS ACADEMY CHARTER-HARL...      34   \n",
       "\n",
       "             Street      City State    Borough  ZipCode LastInspection  \\\n",
       "0          7 AVENUE  Brooklyn    NY   Brooklyn  11228.0     02/02/2023   \n",
       "1         45 STREET  BROOKLYN    NY   Brooklyn      NaN     02/15/2023   \n",
       "2  LINDEN BOULEVARD  Brooklyn    NY   Brooklyn  11203.0     01/23/2023   \n",
       "3    BOYNTON AVENUE     Bronx    NY      Bronx  10472.0     03/09/2023   \n",
       "4  WEST  118 STREET  New York    NY  Manhattan  10026.0     01/31/2023   \n",
       "\n",
       "                                           Permittee InspectionDate  PTET  \\\n",
       "0              NEW YORK CITY DEPARTMENT OF EDUCATION     07/28/2022  2530   \n",
       "1  CONGREGATION KHAL CHASIDEI SKWERE - BAIS YITZA...     03/01/2022  2533   \n",
       "2              NEW YORK CITY DEPARTMENT OF EDUCATION     11/17/2022  2530   \n",
       "3              NEW YORK CITY DEPARTMENT OF EDUCATION     03/09/2023  2530   \n",
       "4              NEW YORK CITY DEPARTMENT OF EDUCATION     08/01/2022  2530   \n",
       "\n",
       "                                         Site Type Level Code  \\\n",
       "0                    FSE (Public School Cafeteria)   NaN  NaN   \n",
       "1  FSE (Private School Cafeteria - Not-For-Profit)     G  10A   \n",
       "2                    FSE (Public School Cafeteria)     C  04A   \n",
       "3                    FSE (Public School Cafeteria)     C  04L   \n",
       "4                    FSE (Public School Cafeteria)     C  04M   \n",
       "\n",
       "                                ViolationDescription   LATITUDE  LONGITUDE  \\\n",
       "0                                                NaN  40.624125 -74.018826   \n",
       "1  Toilet facility not maintained and provided wi...   0.000000   0.000000   \n",
       "2  Food Protection Certificate (FPC) not held by ...  40.653633 -73.933114   \n",
       "3  Evidence of mice or live mice in establishment...  40.831594 -73.878911   \n",
       "4  Live roaches in facility's food or non-food area.  40.802464 -73.946715   \n",
       "\n",
       "   COMMUNITYBOARD  COUNCILDISTRICT  CENSUSTRACT        BIN         BBL   NTA  \\\n",
       "0           310.0             43.0      20600.0  3150481.0  3059730001  BK30   \n",
       "1             NaN              NaN          NaN        NaN           3   NaN   \n",
       "2           317.0             41.0      87000.0  3102005.0  3046730001  BK91   \n",
       "3           209.0             18.0       5600.0  2027459.0  2038640001  BX08   \n",
       "4           110.0              9.0      19000.0  1051434.0  1016010001  MN11   \n",
       "\n",
       "   BOROCODE  \n",
       "0         3  \n",
       "1         3  \n",
       "2         3  \n",
       "3         2  \n",
       "4         1  "
      ]
     },
     "execution_count": 23,
     "metadata": {},
     "output_type": "execute_result"
    }
   ],
   "source": [
    "df = pd.read_csv('../data/DOHMH_School_Cafeteria_inspections__2020_-_Present_.csv')\n",
    "df.head()"
   ]
  },
  {
   "cell_type": "markdown",
   "metadata": {},
   "source": [
    "<em>Displaying the first few rows of the data to understand its structure.<em/>"
   ]
  },
  {
   "cell_type": "markdown",
   "metadata": {},
   "source": [
    "#### Data Information"
   ]
  },
  {
   "cell_type": "code",
   "execution_count": 24,
   "metadata": {
    "scrolled": true
   },
   "outputs": [
    {
     "name": "stdout",
     "output_type": "stream",
     "text": [
      "<class 'pandas.core.frame.DataFrame'>\n",
      "RangeIndex: 11093 entries, 0 to 11092\n",
      "Data columns (total 25 columns):\n",
      " #   Column                Non-Null Count  Dtype  \n",
      "---  ------                --------------  -----  \n",
      " 0   Record ID             11093 non-null  object \n",
      " 1   SchoolName            11093 non-null  object \n",
      " 2   Number                11093 non-null  object \n",
      " 3   Street                11093 non-null  object \n",
      " 4   City                  10657 non-null  object \n",
      " 5   State                 11093 non-null  object \n",
      " 6   Borough               11093 non-null  object \n",
      " 7   ZipCode               10942 non-null  float64\n",
      " 8   LastInspection        11093 non-null  object \n",
      " 9   Permittee             11093 non-null  object \n",
      " 10  InspectionDate        11093 non-null  object \n",
      " 11  PTET                  11093 non-null  int64  \n",
      " 12  Site Type             11093 non-null  object \n",
      " 13  Level                 7974 non-null   object \n",
      " 14  Code                  7974 non-null   object \n",
      " 15  ViolationDescription  7974 non-null   object \n",
      " 16  LATITUDE              11093 non-null  float64\n",
      " 17  LONGITUDE             11093 non-null  float64\n",
      " 18  COMMUNITYBOARD        10942 non-null  float64\n",
      " 19  COUNCILDISTRICT       10942 non-null  float64\n",
      " 20  CENSUSTRACT           10942 non-null  float64\n",
      " 21  BIN                   10880 non-null  float64\n",
      " 22  BBL                   11093 non-null  int64  \n",
      " 23  NTA                   10942 non-null  object \n",
      " 24  BOROCODE              11093 non-null  int64  \n",
      "dtypes: float64(7), int64(3), object(15)\n",
      "memory usage: 2.1+ MB\n"
     ]
    }
   ],
   "source": [
    "#info of our data\n",
    "df.info()"
   ]
  },
  {
   "cell_type": "markdown",
   "metadata": {},
   "source": [
    "<em>The dataset contains 11,093 rows and 25 columns.<em/>"
   ]
  },
  {
   "cell_type": "markdown",
   "metadata": {},
   "source": [
    "#### Dropping Unneeded Columns"
   ]
  },
  {
   "cell_type": "code",
   "execution_count": 25,
   "metadata": {},
   "outputs": [],
   "source": [
    "\n",
    "columns_to_drop = ['Permittee',\n",
    "       'PTET', 'COMMUNITYBOARD', 'COUNCILDISTRICT',\n",
    "    'BIN', 'BBL', 'BOROCODE']\n",
    "\n",
    "df.drop(columns_to_drop, axis=1, inplace=True)"
   ]
  },
  {
   "cell_type": "markdown",
   "metadata": {},
   "source": [
    "<em>Dropped columns that do not contribute to the analysis.<em/>"
   ]
  },
  {
   "cell_type": "markdown",
   "metadata": {},
   "source": [
    "#### Dropping Null Values"
   ]
  },
  {
   "cell_type": "code",
   "execution_count": 26,
   "metadata": {},
   "outputs": [],
   "source": [
    "df['NTA'].dropna(inplace=True)"
   ]
  },
  {
   "cell_type": "markdown",
   "metadata": {},
   "source": [
    "<em>Removing rows with null values in the 'NTA' column to ensure data consistency.<em/>"
   ]
  },
  {
   "cell_type": "markdown",
   "metadata": {},
   "source": [
    "#### Grouping Violations by Date and Institution"
   ]
  },
  {
   "cell_type": "code",
   "execution_count": 27,
   "metadata": {},
   "outputs": [],
   "source": [
    "df['Inspection event'] = df.apply(lambda row: str(row['Record ID']) + '_' + str(row['InspectionDate']), axis=1)"
   ]
  },
  {
   "cell_type": "markdown",
   "metadata": {},
   "source": [
    "<em>Created an 'Inspection event' column to uniquely identify each inspection by combining 'Record ID' and 'InspectionDate'.<em/>"
   ]
  },
  {
   "cell_type": "markdown",
   "metadata": {},
   "source": [
    "#### Renaming Columns"
   ]
  },
  {
   "cell_type": "code",
   "execution_count": 28,
   "metadata": {},
   "outputs": [],
   "source": [
    "df.rename(columns={'NTA': 'NTA Code'}, inplace=True)"
   ]
  },
  {
   "cell_type": "code",
   "execution_count": 29,
   "metadata": {
    "scrolled": true
   },
   "outputs": [
    {
     "data": {
      "text/plain": [
       "Site Type\n",
       "FSE (Private School Cafeteria - For Profit)         155\n",
       "FSE (Private School Cafeteria - Not-For-Profit)     473\n",
       "FSE (Private School Cafeteria)                      105\n",
       "FSE (Public School Cafeteria)                      1414\n",
       "Name: Record ID, dtype: int64"
      ]
     },
     "execution_count": 29,
     "metadata": {},
     "output_type": "execute_result"
    }
   ],
   "source": [
    "# Types of schools\n",
    "count_unique = df.groupby('Site Type')['Record ID'].nunique()\n",
    "count_unique"
   ]
  },
  {
   "cell_type": "markdown",
   "metadata": {},
   "source": [
    "<em>Renamed 'NTA' to 'NTA Code' for clarity.<em/>"
   ]
  },
  {
   "cell_type": "markdown",
   "metadata": {
    "jp-MarkdownHeadingCollapsed": true
   },
   "source": [
    "### Types of Schools"
   ]
  },
  {
   "cell_type": "code",
   "execution_count": 91,
   "metadata": {
    "scrolled": true
   },
   "outputs": [
    {
     "data": {
      "text/plain": [
       "Site Type\n",
       "FSE (Private School Cafeteria - For Profit)         155\n",
       "FSE (Private School Cafeteria - Not-For-Profit)     473\n",
       "FSE (Private School Cafeteria)                      105\n",
       "FSE (Public School Cafeteria)                      1414\n",
       "Name: Record ID, dtype: int64"
      ]
     },
     "execution_count": 91,
     "metadata": {},
     "output_type": "execute_result"
    }
   ],
   "source": [
    "count_unique = df.groupby('Site Type')['Record ID'].nunique()\n",
    "count_unique"
   ]
  },
  {
   "attachments": {},
   "cell_type": "markdown",
   "metadata": {},
   "source": [
    "<em>Identified four target categories of schools. For analysis, these are aggregated into two main categories: Private and Public.<em/>"
   ]
  },
  {
   "cell_type": "markdown",
   "metadata": {},
   "source": [
    "#### Grouping Schools"
   ]
  },
  {
   "cell_type": "code",
   "execution_count": 30,
   "metadata": {},
   "outputs": [],
   "source": [
    "df['School Type'] = df['Site Type'].apply(lambda x: 'Public' if 'Public' in str(x) else 'Private')"
   ]
  },
  {
   "attachments": {},
   "cell_type": "markdown",
   "metadata": {},
   "source": [
    "<em>Grouped school types into 'Public' and 'Private'.<em/>"
   ]
  },
  {
   "cell_type": "markdown",
   "metadata": {},
   "source": [
    "#### Handling Null Values in Violation Descriptions"
   ]
  },
  {
   "cell_type": "code",
   "execution_count": 31,
   "metadata": {},
   "outputs": [],
   "source": [
    "# Null values in Violation description indicate that no violation was found per data description.\n",
    "df['ViolationDescription'] =  df['ViolationDescription'].apply(lambda x: 'no violation' if pd.isna(x) else x)"
   ]
  },
  {
   "attachments": {},
   "cell_type": "markdown",
   "metadata": {},
   "source": [
    "<em>Replaced null values in 'ViolationDescription' with 'no violation'.<em/>"
   ]
  },
  {
   "cell_type": "markdown",
   "metadata": {},
   "source": [
    "### Importing demographics information."
   ]
  },
  {
   "cell_type": "code",
   "execution_count": 33,
   "metadata": {
    "scrolled": true
   },
   "outputs": [
    {
     "name": "stdout",
     "output_type": "stream",
     "text": [
      "<class 'pandas.core.frame.DataFrame'>\n",
      "RangeIndex: 193 entries, 0 to 192\n",
      "Data columns (total 8 columns):\n",
      " #   Column                                   Non-Null Count  Dtype  \n",
      "---  ------                                   --------------  -----  \n",
      " 0   Neighborhood Tabulation Area (NTA) Name  193 non-null    object \n",
      " 1   NTA Code                                 189 non-null    object \n",
      " 2   populatio                                193 non-null    int64  \n",
      " 3   Latino                                   193 non-null    float64\n",
      " 4   % White                                  193 non-null    float64\n",
      " 5   % African American                       193 non-null    float64\n",
      " 6   % Asian                                  193 non-null    float64\n",
      " 7   % Other                                  193 non-null    float64\n",
      "dtypes: float64(5), int64(1), object(2)\n",
      "memory usage: 12.2+ KB\n"
     ]
    },
    {
     "data": {
      "text/html": [
       "<div>\n",
       "<style scoped>\n",
       "    .dataframe tbody tr th:only-of-type {\n",
       "        vertical-align: middle;\n",
       "    }\n",
       "\n",
       "    .dataframe tbody tr th {\n",
       "        vertical-align: top;\n",
       "    }\n",
       "\n",
       "    .dataframe thead th {\n",
       "        text-align: right;\n",
       "    }\n",
       "</style>\n",
       "<table border=\"1\" class=\"dataframe\">\n",
       "  <thead>\n",
       "    <tr style=\"text-align: right;\">\n",
       "      <th></th>\n",
       "      <th>Neighborhood Tabulation Area (NTA) Name</th>\n",
       "      <th>NTA Code</th>\n",
       "      <th>populatio</th>\n",
       "      <th>Latino</th>\n",
       "      <th>% White</th>\n",
       "      <th>% African American</th>\n",
       "      <th>% Asian</th>\n",
       "      <th>% Other</th>\n",
       "    </tr>\n",
       "  </thead>\n",
       "  <tbody>\n",
       "    <tr>\n",
       "      <th>0</th>\n",
       "      <td>Claremont-Bathgate</td>\n",
       "      <td>BX01</td>\n",
       "      <td>35560</td>\n",
       "      <td>60.6</td>\n",
       "      <td>1.0</td>\n",
       "      <td>37.3</td>\n",
       "      <td>0.1</td>\n",
       "      <td>0.010</td>\n",
       "    </tr>\n",
       "    <tr>\n",
       "      <th>1</th>\n",
       "      <td>Eastchester-Edenwald-Baychester</td>\n",
       "      <td>BX03</td>\n",
       "      <td>37887</td>\n",
       "      <td>24.6</td>\n",
       "      <td>3.1</td>\n",
       "      <td>66.0</td>\n",
       "      <td>4.2</td>\n",
       "      <td>0.022</td>\n",
       "    </tr>\n",
       "    <tr>\n",
       "      <th>2</th>\n",
       "      <td>Bedford Park-Fordham North</td>\n",
       "      <td>BX05</td>\n",
       "      <td>57685</td>\n",
       "      <td>75.0</td>\n",
       "      <td>4.2</td>\n",
       "      <td>15.6</td>\n",
       "      <td>3.8</td>\n",
       "      <td>0.015</td>\n",
       "    </tr>\n",
       "    <tr>\n",
       "      <th>3</th>\n",
       "      <td>Belmont</td>\n",
       "      <td>BX06</td>\n",
       "      <td>29115</td>\n",
       "      <td>61.0</td>\n",
       "      <td>18.2</td>\n",
       "      <td>16.3</td>\n",
       "      <td>2.1</td>\n",
       "      <td>0.024</td>\n",
       "    </tr>\n",
       "    <tr>\n",
       "      <th>4</th>\n",
       "      <td>Bronxdale</td>\n",
       "      <td>BX07</td>\n",
       "      <td>39423</td>\n",
       "      <td>54.9</td>\n",
       "      <td>13.9</td>\n",
       "      <td>26.1</td>\n",
       "      <td>2.9</td>\n",
       "      <td>0.022</td>\n",
       "    </tr>\n",
       "  </tbody>\n",
       "</table>\n",
       "</div>"
      ],
      "text/plain": [
       "  Neighborhood Tabulation Area (NTA) Name NTA Code  populatio  Latino  \\\n",
       "0                      Claremont-Bathgate     BX01      35560    60.6   \n",
       "1         Eastchester-Edenwald-Baychester     BX03      37887    24.6   \n",
       "2              Bedford Park-Fordham North     BX05      57685    75.0   \n",
       "3                                 Belmont     BX06      29115    61.0   \n",
       "4                               Bronxdale     BX07      39423    54.9   \n",
       "\n",
       "   % White  % African American  % Asian  % Other  \n",
       "0      1.0                37.3      0.1    0.010  \n",
       "1      3.1                66.0      4.2    0.022  \n",
       "2      4.2                15.6      3.8    0.015  \n",
       "3     18.2                16.3      2.1    0.024  \n",
       "4     13.9                26.1      2.9    0.022  "
      ]
     },
     "execution_count": 33,
     "metadata": {},
     "output_type": "execute_result"
    }
   ],
   "source": [
    "nta_demographics_df = pd.read_excel('../data/Demographics_by_NTA.xlsx')\n",
    "nta_demographics_df.info()\n",
    "nta_demographics_df.head()"
   ]
  },
  {
   "attachments": {},
   "cell_type": "markdown",
   "metadata": {},
   "source": [
    "<em>Examined demographic data to compare populations across different neighborhoods.<em/>"
   ]
  },
  {
   "cell_type": "markdown",
   "metadata": {},
   "source": [
    "#### Cleaning Demographics Data"
   ]
  },
  {
   "cell_type": "code",
   "execution_count": null,
   "metadata": {},
   "outputs": [],
   "source": [
    "nta_demographics_df.dropna(inplace=True)\n",
    "nta_demographics = nta_demographics_df.copy()[['Neighborhood Tabulation Area (NTA) Name','NTA Code','populatio']]\n",
    "nta_demographics.rename(columns={'Neighborhood Tabulation Area (NTA) Name': 'NTA Name', 'populatio': 'NTA Population'}, inplace=True)"
   ]
  },
  {
   "attachments": {},
   "cell_type": "markdown",
   "metadata": {},
   "source": [
    "<em>Dropped nulls and filtered columns needed for merging.<em/>"
   ]
  },
  {
   "cell_type": "markdown",
   "metadata": {},
   "source": [
    "#### Merging Dataframes"
   ]
  },
  {
   "cell_type": "code",
   "execution_count": null,
   "metadata": {},
   "outputs": [],
   "source": [
    "merged_df = df.merge(nta_demographics, on='NTA Code', how='inner')\n",
    "merged_df['# of schools in NTA'] = merged_df.groupby('NTA Code')['Record ID'].transform('nunique')\n",
    "merged_df.head(5)"
   ]
  },
  {
   "attachments": {},
   "cell_type": "markdown",
   "metadata": {},
   "source": [
    "<em>Merged the main dataset with demographics data and calculated the number of schools per NTA.<em/>"
   ]
  },
  {
   "cell_type": "markdown",
   "metadata": {},
   "source": [
    "#### Creating Inspection Event Count Column"
   ]
  },
  {
   "cell_type": "code",
   "execution_count": 41,
   "metadata": {},
   "outputs": [],
   "source": [
    "merged_df['InspectionEventCount'] = merged_df.groupby('Record ID')['Inspection event'].transform('count')"
   ]
  },
  {
   "attachments": {},
   "cell_type": "markdown",
   "metadata": {},
   "source": [
    "<em>Added a column to track how many times each school has been inspected.<em/>"
   ]
  },
  {
   "cell_type": "markdown",
   "metadata": {},
   "source": [
    "#### Transforming Violation Descriptions to Lowercase"
   ]
  },
  {
   "cell_type": "code",
   "execution_count": 42,
   "metadata": {
    "jupyter": {
     "source_hidden": true
    }
   },
   "outputs": [],
   "source": [
    "merged_df['ViolationDescription'] = merged_df['ViolationDescription'].str.lower()"
   ]
  },
  {
   "attachments": {},
   "cell_type": "markdown",
   "metadata": {},
   "source": [
    "<em>Normalized violation descriptions for consistent categorization.<em/>"
   ]
  },
  {
   "cell_type": "markdown",
   "metadata": {},
   "source": [
    "#### Grouping Violations into Categories"
   ]
  },
  {
   "cell_type": "code",
   "execution_count": 43,
   "metadata": {},
   "outputs": [],
   "source": [
    "# Creating a dictionary to Label violations categories\n",
    "\n",
    "violations_labels_dict = {'Storage temperature': [\n",
    "'Cold food item held above 41º F',\n",
    "'Hot TCS food item not held at or above 140 °F',\n",
    "'Cold TCS food item held above 41 °F',\n",
    "'Hot food item not held at or above 140º F',\n",
    "'hot tcs food item that has been cooked and  cooled is being held for service without first being reheated'],\n",
    "\n",
    "'Food handling' : ['food not cooked to required minimum internal temperature',\n",
    "'Food not protected from potential source of contamination',\n",
    "'food is adulterated, contaminated',\n",
    "'Food not cooled by an approved method',\n",
    "'TCS food not cooled by an approved method',\n",
    "'TCS food removed from cold holding',\n",
    "'Thawing procedure improper',\n",
    "'thawing procedures improper',\n",
    "'contents are not suitable for human consumption',\n",
    "'Unclean or cracked whole eggs',\n",
    "'Raw food not properly washed',\n",
    "'chemical or pesticide improperly stored',\n",
    "'Food, supplies, and equipment not protected',\n",
    "'Food, supplies, or equipment not protected',\n",
    "'Canned food product observed swollen',\n",
    "'Canned food product observed dented',\n",
    "'damaged canned food to be returned to distributor not segregated'],\n",
    "\n",
    "'Mice, rats, vermin': ['Mice',\n",
    "'Rats',\n",
    "'Live animal',\n",
    "'Vermin'],\n",
    "\n",
    "'Insects, pests': ['roaches',\n",
    "'flies',\n",
    "'insects',\n",
    "'pests'],\n",
    "\n",
    "'Facility': ['Plumbing not properly installed',\n",
    "'Non-food contact surface improperly constructed',\n",
    "'sewage disposal system',\n",
    "'Sanitized equipment or utensil',\n",
    "'Lighting Inadequate',\n",
    "'Toilet facility not maintained',\n",
    "'Toilet facility not provided',\n",
    "'No facilities available to wash',\n",
    "'Mechanical or natural ventilation not provided',\n",
    "'mechanical or natural ventilation system not provided',\n",
    "'facility not free from unsafe, hazardous, offensive or annoying condition',\n",
    "'Bulb not shielded or shatterproof, in areas where there is extreme heat',\n",
    "'contaminated by sewage or liquid waste',\n",
    "'Failure to comply with an Order of the Board of Health',\n",
    "'Lighting fixture',\n",
    "'noxious gas or vapor detected'],\n",
    "\n",
    "'Equipment issues':['Non-food contact surface or equipment',\n",
    "'thermometer not provided',\n",
    "'Single service item reused',\n",
    "'Proper sanitization not provided',\n",
    "'thermometer or thermocouple not provided',\n",
    "'Food contact surface not properly washed',\n",
    "'Food contact surface not properly maintained',\n",
    "'Single service article reused or not protected',\n",
    "'expanded polystyrene',\n",
    "'maintenance of food contact surface improper',\n",
    "'Cleaning and sanitizing of tableware, including dishes, utensils, and equipment deficient',\n",
    "'Garbage receptacle not pest or water resistant'],\n",
    "\n",
    "'General Hygiene': ['chemical improperly used',\n",
    "'Hand washing facility not provided',\n",
    "'Prohibited chemical used',\n",
    "'No hand washing facility',\n",
    "'Wiping cloths not stored clean',\n",
    "'Wiping cloths soiled'],\n",
    "\n",
    "'Personal Hygiene': ['worker does not wash hands thoroughly',\n",
    "'eating, or drinking from open container in food preparation',\n",
    "'vendor does not use utensil or other barrier to eliminate bare hand contact with food that will not receive adequate additional heat treatment',\n",
    "'Personal cleanliness is inadequate',\n",
    "'personal cleanliness inadequate'],\n",
    "\n",
    "'Documents and Signs': ['Food protection certificate',\n",
    "'Current valid permit',\n",
    "'sign not posted',\n",
    "'Establishment permit',\n",
    "'Written Standard Operating Procedure',\n",
    "'chemical improperly labeled',\n",
    "'allergy information poster not conspicuously posted',\n",
    "'acceptable manufacturer’s documentation not maintained on site',\n",
    "'Document issued by the Board of Health',\n",
    "'Permit not conspicuously displayed',\n",
    "'nutritional information statement not posted',\n",
    "'Food Protection Certificate']}\n"
   ]
  },
  {
   "cell_type": "code",
   "execution_count": 44,
   "metadata": {},
   "outputs": [
    {
     "name": "stdout",
     "output_type": "stream",
     "text": [
      "{'Storage temperature': ['cold food item held above 41º f', 'hot tcs food item not held at or above 140 °f', 'cold tcs food item held above 41 °f', 'hot food item not held at or above 140º f', 'hot tcs food item that has been cooked and  cooled is being held for service without first being reheated'], 'Food handling': ['food not cooked to required minimum internal temperature', 'food not protected from potential source of contamination', 'food is adulterated, contaminated', 'food not cooled by an approved method', 'tcs food not cooled by an approved method', 'tcs food removed from cold holding', 'thawing procedure improper', 'thawing procedures improper', 'contents are not suitable for human consumption', 'unclean or cracked whole eggs', 'raw food not properly washed', 'chemical or pesticide improperly stored', 'food, supplies, and equipment not protected', 'food, supplies, or equipment not protected', 'canned food product observed swollen', 'canned food product observed dented', 'damaged canned food to be returned to distributor not segregated'], 'Mice, rats, vermin': ['mice', 'rats', 'live animal', 'vermin'], 'Insects, pests': ['roaches', 'flies', 'insects', 'pests'], 'Facility': ['plumbing not properly installed', 'non-food contact surface improperly constructed', 'sewage disposal system', 'sanitized equipment or utensil', 'lighting inadequate', 'toilet facility not maintained', 'toilet facility not provided', 'no facilities available to wash', 'mechanical or natural ventilation not provided', 'mechanical or natural ventilation system not provided', 'facility not free from unsafe, hazardous, offensive or annoying condition', 'bulb not shielded or shatterproof, in areas where there is extreme heat', 'contaminated by sewage or liquid waste', 'failure to comply with an order of the board of health', 'lighting fixture', 'noxious gas or vapor detected'], 'Equipment issues': ['non-food contact surface or equipment', 'thermometer not provided', 'single service item reused', 'proper sanitization not provided', 'thermometer or thermocouple not provided', 'food contact surface not properly washed', 'food contact surface not properly maintained', 'single service article reused or not protected', 'expanded polystyrene', 'maintenance of food contact surface improper', 'cleaning and sanitizing of tableware, including dishes, utensils, and equipment deficient', 'garbage receptacle not pest or water resistant'], 'General Hygiene': ['chemical improperly used', 'hand washing facility not provided', 'prohibited chemical used', 'no hand washing facility', 'wiping cloths not stored clean', 'wiping cloths soiled'], 'Personal Hygiene': ['worker does not wash hands thoroughly', 'eating, or drinking from open container in food preparation', 'vendor does not use utensil or other barrier to eliminate bare hand contact with food that will not receive adequate additional heat treatment', 'personal cleanliness is inadequate', 'personal cleanliness inadequate'], 'Documents and Signs': ['food protection certificate', 'current valid permit', 'sign not posted', 'establishment permit', 'written standard operating procedure', 'chemical improperly labeled', 'allergy information poster not conspicuously posted', 'acceptable manufacturer’s documentation not maintained on site', 'document issued by the board of health', 'permit not conspicuously displayed', 'nutritional information statement not posted', 'food protection certificate']}\n"
     ]
    }
   ],
   "source": [
    "#transforming the dictionary to lower case \n",
    "lowercase_dict = {k: [v.lower() for v in values] for k, values in violations_labels_dict.items()}\n",
    "print(lowercase_dict)"
   ]
  },
  {
   "cell_type": "code",
   "execution_count": 45,
   "metadata": {},
   "outputs": [],
   "source": [
    "# Function to check if a violation description is contained in the dictionary values\n",
    "def get_violation_label(description):\n",
    "    if isinstance(description, float):\n",
    "        return None  # Return None if the description is a float value\n",
    "    for label, descriptions in lowercase_dict.items():\n",
    "        if any(desc in description for desc in descriptions):\n",
    "            return label\n",
    "    return None\n",
    "\n",
    "\n"
   ]
  },
  {
   "cell_type": "code",
   "execution_count": 46,
   "metadata": {},
   "outputs": [],
   "source": [
    "# Creating ViolationLabel column using our function to match violation descriptions\n",
    "merged_df['ViolationLabel'] = merged_df['ViolationDescription'].apply(lambda x: get_violation_label(x))"
   ]
  },
  {
   "cell_type": "code",
   "execution_count": 47,
   "metadata": {},
   "outputs": [
    {
     "data": {
      "text/plain": [
       "10665"
      ]
     },
     "execution_count": 47,
     "metadata": {},
     "output_type": "execute_result"
    }
   ],
   "source": [
    "len(merged_df)"
   ]
  },
  {
   "cell_type": "code",
   "execution_count": 52,
   "metadata": {},
   "outputs": [
    {
     "data": {
      "text/plain": [
       "10665"
      ]
     },
     "execution_count": 52,
     "metadata": {},
     "output_type": "execute_result"
    }
   ],
   "source": [
    "# Instantiating SQLite connection and database \n",
    "conn = sqlite3.Connection(\"data.sqlite\")\n",
    "db_path = '../data/school_database.db'  # Name of your SQLite database file\n",
    "connection = sqlite3.connect(db_path)\n",
    "table_name = 'schools'  # Table name                                                                                                                                    \n",
    "merged_df.to_sql(table_name, connection, if_exists='replace', index=False) "
   ]
  },
  {
   "cell_type": "code",
   "execution_count": 53,
   "metadata": {},
   "outputs": [],
   "source": [
    "connection.commit()"
   ]
  },
  {
   "cell_type": "markdown",
   "metadata": {},
   "source": [
    "I saved the dataframe containing all fo the cleaned data into a separate CSV file available in the data folder of this project's repository. This file was used for visualization in Tableau."
   ]
  },
  {
   "cell_type": "code",
   "execution_count": 51,
   "metadata": {},
   "outputs": [],
   "source": [
    "merged_df.to_csv('../data/clean_data_labels.csv', index=False)"
   ]
  },
  {
   "attachments": {},
   "cell_type": "markdown",
   "metadata": {},
   "source": [
    "### Exploratory Dataset Analysis\n",
    "\n",
    "EDA is conducted with Pandas and SQL."
   ]
  },
  {
   "cell_type": "code",
   "execution_count": 54,
   "metadata": {},
   "outputs": [
    {
     "data": {
      "text/html": [
       "<div>\n",
       "<style scoped>\n",
       "    .dataframe tbody tr th:only-of-type {\n",
       "        vertical-align: middle;\n",
       "    }\n",
       "\n",
       "    .dataframe tbody tr th {\n",
       "        vertical-align: top;\n",
       "    }\n",
       "\n",
       "    .dataframe thead th {\n",
       "        text-align: right;\n",
       "    }\n",
       "</style>\n",
       "<table border=\"1\" class=\"dataframe\">\n",
       "  <thead>\n",
       "    <tr style=\"text-align: right;\">\n",
       "      <th></th>\n",
       "      <th>School Type</th>\n",
       "      <th>count</th>\n",
       "    </tr>\n",
       "  </thead>\n",
       "  <tbody>\n",
       "    <tr>\n",
       "      <th>0</th>\n",
       "      <td>Private</td>\n",
       "      <td>710</td>\n",
       "    </tr>\n",
       "    <tr>\n",
       "      <th>1</th>\n",
       "      <td>Public</td>\n",
       "      <td>1358</td>\n",
       "    </tr>\n",
       "  </tbody>\n",
       "</table>\n",
       "</div>"
      ],
      "text/plain": [
       "  School Type  count\n",
       "0     Private    710\n",
       "1      Public   1358"
      ]
     },
     "execution_count": 54,
     "metadata": {},
     "output_type": "execute_result"
    }
   ],
   "source": [
    "#How many private and public schools are in our data?\n",
    "\n",
    "query = \"\"\"\n",
    "SELECT `School Type`, COUNT(DISTINCT `Record ID`) count\n",
    "FROM schools\n",
    "GROUP BY `School Type`;\n",
    "\"\"\"\n",
    "pd.read_sql(query, connection)"
   ]
  },
  {
   "cell_type": "code",
   "execution_count": 55,
   "metadata": {},
   "outputs": [
    {
     "data": {
      "text/plain": [
       "3.71"
      ]
     },
     "execution_count": 55,
     "metadata": {},
     "output_type": "execute_result"
    }
   ],
   "source": [
    "#average number of violations per school\n",
    "round(len(merged_df[merged_df['Level'].notna()])/len(merged_df['Record ID'].unique()), 2)"
   ]
  },
  {
   "cell_type": "code",
   "execution_count": 56,
   "metadata": {},
   "outputs": [
    {
     "data": {
      "text/html": [
       "<div>\n",
       "<style scoped>\n",
       "    .dataframe tbody tr th:only-of-type {\n",
       "        vertical-align: middle;\n",
       "    }\n",
       "\n",
       "    .dataframe tbody tr th {\n",
       "        vertical-align: top;\n",
       "    }\n",
       "\n",
       "    .dataframe thead th {\n",
       "        text-align: right;\n",
       "    }\n",
       "</style>\n",
       "<table border=\"1\" class=\"dataframe\">\n",
       "  <thead>\n",
       "    <tr style=\"text-align: right;\">\n",
       "      <th></th>\n",
       "      <th>Level</th>\n",
       "      <th>ViolationCount</th>\n",
       "    </tr>\n",
       "  </thead>\n",
       "  <tbody>\n",
       "    <tr>\n",
       "      <th>0</th>\n",
       "      <td>G</td>\n",
       "      <td>4738</td>\n",
       "    </tr>\n",
       "    <tr>\n",
       "      <th>1</th>\n",
       "      <td>None</td>\n",
       "      <td>3003</td>\n",
       "    </tr>\n",
       "    <tr>\n",
       "      <th>2</th>\n",
       "      <td>C</td>\n",
       "      <td>2125</td>\n",
       "    </tr>\n",
       "    <tr>\n",
       "      <th>3</th>\n",
       "      <td>AV</td>\n",
       "      <td>472</td>\n",
       "    </tr>\n",
       "    <tr>\n",
       "      <th>4</th>\n",
       "      <td>CH</td>\n",
       "      <td>186</td>\n",
       "    </tr>\n",
       "    <tr>\n",
       "      <th>5</th>\n",
       "      <td>CP</td>\n",
       "      <td>58</td>\n",
       "    </tr>\n",
       "    <tr>\n",
       "      <th>6</th>\n",
       "      <td>A</td>\n",
       "      <td>57</td>\n",
       "    </tr>\n",
       "    <tr>\n",
       "      <th>7</th>\n",
       "      <td>NV</td>\n",
       "      <td>26</td>\n",
       "    </tr>\n",
       "  </tbody>\n",
       "</table>\n",
       "</div>"
      ],
      "text/plain": [
       "  Level  ViolationCount\n",
       "0     G            4738\n",
       "1  None            3003\n",
       "2     C            2125\n",
       "3    AV             472\n",
       "4    CH             186\n",
       "5    CP              58\n",
       "6     A              57\n",
       "7    NV              26"
      ]
     },
     "execution_count": 56,
     "metadata": {},
     "output_type": "execute_result"
    }
   ],
   "source": [
    "# Total count of violations\n",
    "query = \"\"\"\n",
    "SELECT Level, COUNT(*) as ViolationCount\n",
    "FROM schools\n",
    "GROUP BY Level\n",
    "ORDER BY ViolationCount DESC;\n",
    "\"\"\"\n",
    "pd.read_sql(query, connection)"
   ]
  },
  {
   "cell_type": "code",
   "execution_count": 57,
   "metadata": {},
   "outputs": [
    {
     "data": {
      "text/html": [
       "<div>\n",
       "<style scoped>\n",
       "    .dataframe tbody tr th:only-of-type {\n",
       "        vertical-align: middle;\n",
       "    }\n",
       "\n",
       "    .dataframe tbody tr th {\n",
       "        vertical-align: top;\n",
       "    }\n",
       "\n",
       "    .dataframe thead th {\n",
       "        text-align: right;\n",
       "    }\n",
       "</style>\n",
       "<table border=\"1\" class=\"dataframe\">\n",
       "  <thead>\n",
       "    <tr style=\"text-align: right;\">\n",
       "      <th></th>\n",
       "      <th>TotalViolations</th>\n",
       "      <th>CriticalViolations</th>\n",
       "      <th>GeneralViolations</th>\n",
       "    </tr>\n",
       "  </thead>\n",
       "  <tbody>\n",
       "    <tr>\n",
       "      <th>0</th>\n",
       "      <td>98</td>\n",
       "      <td>37</td>\n",
       "      <td>29</td>\n",
       "    </tr>\n",
       "  </tbody>\n",
       "</table>\n",
       "</div>"
      ],
      "text/plain": [
       "   TotalViolations  CriticalViolations  GeneralViolations\n",
       "0               98                  37                 29"
      ]
     },
     "execution_count": 57,
     "metadata": {},
     "output_type": "execute_result"
    }
   ],
   "source": [
    "# Number of unique critical and general violations\n",
    "\n",
    "query = \"\"\"\n",
    "SELECT\n",
    "(SELECT COUNT(DISTINCT ViolationDescription) \n",
    "FROM schools) as TotalViolations,\n",
    "(SELECT COUNT(DISTINCT ViolationDescription) \n",
    "FROM schools\n",
    "WHERE Level = 'C') as CriticalViolations,\n",
    "(SELECT COUNT(DISTINCT ViolationDescription) \n",
    "FROM schools\n",
    "WHERE Level = 'G') as GeneralViolations\n",
    ";\n",
    "\"\"\"\n",
    "pd.read_sql(query, connection)"
   ]
  },
  {
   "cell_type": "code",
   "execution_count": 58,
   "metadata": {},
   "outputs": [
    {
     "data": {
      "text/html": [
       "<div>\n",
       "<style scoped>\n",
       "    .dataframe tbody tr th:only-of-type {\n",
       "        vertical-align: middle;\n",
       "    }\n",
       "\n",
       "    .dataframe tbody tr th {\n",
       "        vertical-align: top;\n",
       "    }\n",
       "\n",
       "    .dataframe thead th {\n",
       "        text-align: right;\n",
       "    }\n",
       "</style>\n",
       "<table border=\"1\" class=\"dataframe\">\n",
       "  <thead>\n",
       "    <tr style=\"text-align: right;\">\n",
       "      <th></th>\n",
       "      <th>School Type</th>\n",
       "      <th>ViolationsCount</th>\n",
       "    </tr>\n",
       "  </thead>\n",
       "  <tbody>\n",
       "    <tr>\n",
       "      <th>0</th>\n",
       "      <td>Public</td>\n",
       "      <td>3848</td>\n",
       "    </tr>\n",
       "    <tr>\n",
       "      <th>1</th>\n",
       "      <td>Private</td>\n",
       "      <td>3814</td>\n",
       "    </tr>\n",
       "  </tbody>\n",
       "</table>\n",
       "</div>"
      ],
      "text/plain": [
       "  School Type  ViolationsCount\n",
       "0      Public             3848\n",
       "1     Private             3814"
      ]
     },
     "execution_count": 58,
     "metadata": {},
     "output_type": "execute_result"
    }
   ],
   "source": [
    "# Number violations by school type\n",
    "query = \"\"\"\n",
    "SELECT \n",
    "       \"School Type\", \n",
    "       COUNT(*) as ViolationsCount\n",
    "FROM schools\n",
    "WHERE ViolationDescription != 'no violation'\n",
    "GROUP BY \"School Type\"\n",
    "ORDER BY ViolationsCount DESC;\n",
    "\"\"\"\n",
    "pd.read_sql(query, connection)\n"
   ]
  },
  {
   "cell_type": "code",
   "execution_count": 59,
   "metadata": {},
   "outputs": [
    {
     "data": {
      "text/html": [
       "<div>\n",
       "<style scoped>\n",
       "    .dataframe tbody tr th:only-of-type {\n",
       "        vertical-align: middle;\n",
       "    }\n",
       "\n",
       "    .dataframe tbody tr th {\n",
       "        vertical-align: top;\n",
       "    }\n",
       "\n",
       "    .dataframe thead th {\n",
       "        text-align: right;\n",
       "    }\n",
       "</style>\n",
       "<table border=\"1\" class=\"dataframe\">\n",
       "  <thead>\n",
       "    <tr style=\"text-align: right;\">\n",
       "      <th></th>\n",
       "      <th>School Type</th>\n",
       "      <th>TotalViolations</th>\n",
       "      <th>CriticalViolations</th>\n",
       "      <th>GeneralViolations</th>\n",
       "    </tr>\n",
       "  </thead>\n",
       "  <tbody>\n",
       "    <tr>\n",
       "      <th>0</th>\n",
       "      <td>Private</td>\n",
       "      <td>3814</td>\n",
       "      <td>1199</td>\n",
       "      <td>2041</td>\n",
       "    </tr>\n",
       "    <tr>\n",
       "      <th>1</th>\n",
       "      <td>Public</td>\n",
       "      <td>3848</td>\n",
       "      <td>926</td>\n",
       "      <td>2697</td>\n",
       "    </tr>\n",
       "  </tbody>\n",
       "</table>\n",
       "</div>"
      ],
      "text/plain": [
       "  School Type  TotalViolations  CriticalViolations  GeneralViolations\n",
       "0     Private             3814                1199               2041\n",
       "1      Public             3848                 926               2697"
      ]
     },
     "execution_count": 59,
     "metadata": {},
     "output_type": "execute_result"
    }
   ],
   "source": [
    "#Distribution of Critical and General violation per school type\n",
    "query = \"\"\"\n",
    "SELECT\n",
    "    `School Type`,\n",
    "    COUNT(ViolationDescription) as TotalViolations,\n",
    "    COUNT(CASE WHEN Level = 'C' THEN ViolationDescription ELSE NULL END) as CriticalViolations,\n",
    "    COUNT(CASE WHEN Level = 'G' THEN ViolationDescription ELSE NULL END) as GeneralViolations\n",
    "\n",
    "FROM schools \n",
    "WHERE ViolationDescription != 'no violation'\n",
    "GROUP BY `School Type`\n",
    "\n",
    "\n",
    "\n",
    "ORDER BY `School Type`;\n",
    "\n",
    "\"\"\"\n",
    "\n",
    "pd.read_sql(query, connection)"
   ]
  },
  {
   "cell_type": "code",
   "execution_count": 60,
   "metadata": {},
   "outputs": [
    {
     "data": {
      "text/html": [
       "<div>\n",
       "<style scoped>\n",
       "    .dataframe tbody tr th:only-of-type {\n",
       "        vertical-align: middle;\n",
       "    }\n",
       "\n",
       "    .dataframe tbody tr th {\n",
       "        vertical-align: top;\n",
       "    }\n",
       "\n",
       "    .dataframe thead th {\n",
       "        text-align: right;\n",
       "    }\n",
       "</style>\n",
       "<table border=\"1\" class=\"dataframe\">\n",
       "  <thead>\n",
       "    <tr style=\"text-align: right;\">\n",
       "      <th></th>\n",
       "      <th>School Type</th>\n",
       "      <th>CriticalViolationsRatio</th>\n",
       "      <th>GeneralViolationsRatio</th>\n",
       "    </tr>\n",
       "  </thead>\n",
       "  <tbody>\n",
       "    <tr>\n",
       "      <th>0</th>\n",
       "      <td>Private</td>\n",
       "      <td>0.31</td>\n",
       "      <td>0.54</td>\n",
       "    </tr>\n",
       "    <tr>\n",
       "      <th>1</th>\n",
       "      <td>Public</td>\n",
       "      <td>0.24</td>\n",
       "      <td>0.70</td>\n",
       "    </tr>\n",
       "  </tbody>\n",
       "</table>\n",
       "</div>"
      ],
      "text/plain": [
       "  School Type  CriticalViolationsRatio  GeneralViolationsRatio\n",
       "0     Private                     0.31                    0.54\n",
       "1      Public                     0.24                    0.70"
      ]
     },
     "execution_count": 60,
     "metadata": {},
     "output_type": "execute_result"
    }
   ],
   "source": [
    "# Ratio of Critical and General violations to all possible violations by school type\n",
    "\n",
    "query = \"\"\"\n",
    "SELECT\n",
    "    `School Type`,\n",
    "    ROUND(CAST(COUNT(CASE WHEN Level = 'C' THEN ViolationDescription ELSE NULL END) AS FLOAT) / (COUNT(*)), 2) as CriticalViolationsRatio,\n",
    "    ROUND(CAST(COUNT(CASE WHEN Level = 'G' THEN ViolationDescription ELSE NULL END) AS FLOAT) / COUNT(*), 2) as GeneralViolationsRatio\n",
    "\n",
    "FROM \n",
    "\n",
    "schools\n",
    "WHERE ViolationDescription != 'no violation'\n",
    "\n",
    "GROUP BY `School Type`\n",
    "ORDER BY `School Type`;\n",
    "\n",
    "\"\"\"\n",
    "\n",
    "pd.read_sql(query, connection)"
   ]
  },
  {
   "cell_type": "code",
   "execution_count": 61,
   "metadata": {},
   "outputs": [
    {
     "data": {
      "text/html": [
       "<div>\n",
       "<style scoped>\n",
       "    .dataframe tbody tr th:only-of-type {\n",
       "        vertical-align: middle;\n",
       "    }\n",
       "\n",
       "    .dataframe tbody tr th {\n",
       "        vertical-align: top;\n",
       "    }\n",
       "\n",
       "    .dataframe thead th {\n",
       "        text-align: right;\n",
       "    }\n",
       "</style>\n",
       "<table border=\"1\" class=\"dataframe\">\n",
       "  <thead>\n",
       "    <tr style=\"text-align: right;\">\n",
       "      <th></th>\n",
       "      <th>School Type</th>\n",
       "      <th>avg_critical</th>\n",
       "      <th>avg_general</th>\n",
       "    </tr>\n",
       "  </thead>\n",
       "  <tbody>\n",
       "    <tr>\n",
       "      <th>0</th>\n",
       "      <td>Private</td>\n",
       "      <td>1.93</td>\n",
       "      <td>3.29</td>\n",
       "    </tr>\n",
       "    <tr>\n",
       "      <th>1</th>\n",
       "      <td>Public</td>\n",
       "      <td>0.84</td>\n",
       "      <td>2.45</td>\n",
       "    </tr>\n",
       "  </tbody>\n",
       "</table>\n",
       "</div>"
      ],
      "text/plain": [
       "  School Type  avg_critical  avg_general\n",
       "0     Private          1.93         3.29\n",
       "1      Public          0.84         2.45"
      ]
     },
     "execution_count": 61,
     "metadata": {},
     "output_type": "execute_result"
    }
   ],
   "source": [
    "# Average # of violations per school by school type\n",
    "\n",
    "query = \"\"\"\n",
    "SELECT\n",
    "    `School Type`,\n",
    "    \n",
    "    ROUND(CAST(COUNT(CASE WHEN Level = 'C' THEN ViolationDescription ELSE NULL END) AS FLOAT) /\n",
    "    COUNT(DISTINCT \"Record ID\"), 2) as avg_critical,\n",
    "\n",
    "    ROUND(CAST(COUNT(CASE WHEN Level = 'G' THEN ViolationDescription ELSE NULL END) AS FLOAT)/ \n",
    "    COUNT(DISTINCT \"Record ID\"), 2) as avg_general\n",
    "FROM schools\n",
    "WHERE Level != 'no violation'\n",
    "GROUP BY `School Type`\n",
    "ORDER BY `School Type`\n",
    "\n",
    ";\n",
    "\"\"\"\n",
    "\n",
    "pd.read_sql(query, connection)\n",
    "\n"
   ]
  },
  {
   "cell_type": "code",
   "execution_count": 62,
   "metadata": {},
   "outputs": [
    {
     "data": {
      "text/html": [
       "<div>\n",
       "<style scoped>\n",
       "    .dataframe tbody tr th:only-of-type {\n",
       "        vertical-align: middle;\n",
       "    }\n",
       "\n",
       "    .dataframe tbody tr th {\n",
       "        vertical-align: top;\n",
       "    }\n",
       "\n",
       "    .dataframe thead th {\n",
       "        text-align: right;\n",
       "    }\n",
       "</style>\n",
       "<table border=\"1\" class=\"dataframe\">\n",
       "  <thead>\n",
       "    <tr style=\"text-align: right;\">\n",
       "      <th></th>\n",
       "      <th>ViolationLabel</th>\n",
       "      <th>Count</th>\n",
       "    </tr>\n",
       "  </thead>\n",
       "  <tbody>\n",
       "    <tr>\n",
       "      <th>0</th>\n",
       "      <td>Facility</td>\n",
       "      <td>2222</td>\n",
       "    </tr>\n",
       "    <tr>\n",
       "      <th>1</th>\n",
       "      <td>Equipment issues</td>\n",
       "      <td>1309</td>\n",
       "    </tr>\n",
       "    <tr>\n",
       "      <th>2</th>\n",
       "      <td>Insects, pests</td>\n",
       "      <td>476</td>\n",
       "    </tr>\n",
       "    <tr>\n",
       "      <th>3</th>\n",
       "      <td>Mice, rats, vermin</td>\n",
       "      <td>353</td>\n",
       "    </tr>\n",
       "    <tr>\n",
       "      <th>4</th>\n",
       "      <td>Food handling</td>\n",
       "      <td>172</td>\n",
       "    </tr>\n",
       "    <tr>\n",
       "      <th>5</th>\n",
       "      <td>General Hygiene</td>\n",
       "      <td>121</td>\n",
       "    </tr>\n",
       "    <tr>\n",
       "      <th>6</th>\n",
       "      <td>Documents and Signs</td>\n",
       "      <td>85</td>\n",
       "    </tr>\n",
       "  </tbody>\n",
       "</table>\n",
       "</div>"
      ],
      "text/plain": [
       "        ViolationLabel  Count\n",
       "0             Facility   2222\n",
       "1     Equipment issues   1309\n",
       "2       Insects, pests    476\n",
       "3   Mice, rats, vermin    353\n",
       "4        Food handling    172\n",
       "5      General Hygiene    121\n",
       "6  Documents and Signs     85"
      ]
     },
     "execution_count": 62,
     "metadata": {},
     "output_type": "execute_result"
    }
   ],
   "source": [
    "# Top 10 Critical Violations categories\n",
    "\n",
    "query = \"\"\"\n",
    "SELECT DISTINCT ViolationLabel, COUNT(*) AS Count\n",
    "FROM schools\n",
    "WHERE Level = 'G'\n",
    "GROUP BY ViolationLabel\n",
    "ORDER BY Count DESC\n",
    ";\n",
    "\"\"\"\n",
    "pd.read_sql(query, connection)"
   ]
  },
  {
   "cell_type": "code",
   "execution_count": 63,
   "metadata": {},
   "outputs": [
    {
     "data": {
      "text/html": [
       "<div>\n",
       "<style scoped>\n",
       "    .dataframe tbody tr th:only-of-type {\n",
       "        vertical-align: middle;\n",
       "    }\n",
       "\n",
       "    .dataframe tbody tr th {\n",
       "        vertical-align: top;\n",
       "    }\n",
       "\n",
       "    .dataframe thead th {\n",
       "        text-align: right;\n",
       "    }\n",
       "</style>\n",
       "<table border=\"1\" class=\"dataframe\">\n",
       "  <thead>\n",
       "    <tr style=\"text-align: right;\">\n",
       "      <th></th>\n",
       "      <th>ViolationDescription</th>\n",
       "      <th>cnt_violations</th>\n",
       "    </tr>\n",
       "  </thead>\n",
       "  <tbody>\n",
       "    <tr>\n",
       "      <th>0</th>\n",
       "      <td>evidence of mice or live mice in establishment...</td>\n",
       "      <td>393</td>\n",
       "    </tr>\n",
       "    <tr>\n",
       "      <th>1</th>\n",
       "      <td>evidence of mice or live mice present in facil...</td>\n",
       "      <td>288</td>\n",
       "    </tr>\n",
       "    <tr>\n",
       "      <th>2</th>\n",
       "      <td>food protection certificate not held by superv...</td>\n",
       "      <td>206</td>\n",
       "    </tr>\n",
       "    <tr>\n",
       "      <th>3</th>\n",
       "      <td>food contact surface not properly washed, rins...</td>\n",
       "      <td>151</td>\n",
       "    </tr>\n",
       "    <tr>\n",
       "      <th>4</th>\n",
       "      <td>food protection certificate (fpc) not held by ...</td>\n",
       "      <td>145</td>\n",
       "    </tr>\n",
       "    <tr>\n",
       "      <th>5</th>\n",
       "      <td>filth flies or food/refuse/sewage associated w...</td>\n",
       "      <td>129</td>\n",
       "    </tr>\n",
       "    <tr>\n",
       "      <th>6</th>\n",
       "      <td>food, supplies, and equipment not protected fr...</td>\n",
       "      <td>111</td>\n",
       "    </tr>\n",
       "    <tr>\n",
       "      <th>7</th>\n",
       "      <td>food not protected from potential source of co...</td>\n",
       "      <td>104</td>\n",
       "    </tr>\n",
       "    <tr>\n",
       "      <th>8</th>\n",
       "      <td>cold food item held above 41º f (smoked fish a...</td>\n",
       "      <td>98</td>\n",
       "    </tr>\n",
       "    <tr>\n",
       "      <th>9</th>\n",
       "      <td>filth flies or food/refuse/sewage-associated (...</td>\n",
       "      <td>76</td>\n",
       "    </tr>\n",
       "  </tbody>\n",
       "</table>\n",
       "</div>"
      ],
      "text/plain": [
       "                                ViolationDescription  cnt_violations\n",
       "0  evidence of mice or live mice in establishment...             393\n",
       "1  evidence of mice or live mice present in facil...             288\n",
       "2  food protection certificate not held by superv...             206\n",
       "3  food contact surface not properly washed, rins...             151\n",
       "4  food protection certificate (fpc) not held by ...             145\n",
       "5  filth flies or food/refuse/sewage associated w...             129\n",
       "6  food, supplies, and equipment not protected fr...             111\n",
       "7  food not protected from potential source of co...             104\n",
       "8  cold food item held above 41º f (smoked fish a...              98\n",
       "9  filth flies or food/refuse/sewage-associated (...              76"
      ]
     },
     "execution_count": 63,
     "metadata": {},
     "output_type": "execute_result"
    }
   ],
   "source": [
    "# Top 10 Critical Violations types\n",
    "\n",
    "query = \"\"\"\n",
    "SELECT ViolationDescription, COUNT(*) cnt_violations\n",
    "FROM schools\n",
    "WHERE Level = 'C'\n",
    "GROUP BY ViolationDescription\n",
    "ORDER BY cnt_violations DESC\n",
    "LIMIT 10\n",
    ";\n",
    "\"\"\"\n",
    "pd.read_sql(query, connection)"
   ]
  },
  {
   "cell_type": "code",
   "execution_count": 64,
   "metadata": {},
   "outputs": [
    {
     "data": {
      "text/html": [
       "<div>\n",
       "<style scoped>\n",
       "    .dataframe tbody tr th:only-of-type {\n",
       "        vertical-align: middle;\n",
       "    }\n",
       "\n",
       "    .dataframe tbody tr th {\n",
       "        vertical-align: top;\n",
       "    }\n",
       "\n",
       "    .dataframe thead th {\n",
       "        text-align: right;\n",
       "    }\n",
       "</style>\n",
       "<table border=\"1\" class=\"dataframe\">\n",
       "  <thead>\n",
       "    <tr style=\"text-align: right;\">\n",
       "      <th></th>\n",
       "      <th>ViolationLabel</th>\n",
       "      <th>Count</th>\n",
       "    </tr>\n",
       "  </thead>\n",
       "  <tbody>\n",
       "    <tr>\n",
       "      <th>0</th>\n",
       "      <td>Mice, rats, vermin</td>\n",
       "      <td>691</td>\n",
       "    </tr>\n",
       "    <tr>\n",
       "      <th>1</th>\n",
       "      <td>Documents and Signs</td>\n",
       "      <td>352</td>\n",
       "    </tr>\n",
       "    <tr>\n",
       "      <th>2</th>\n",
       "      <td>Insects, pests</td>\n",
       "      <td>307</td>\n",
       "    </tr>\n",
       "    <tr>\n",
       "      <th>3</th>\n",
       "      <td>Food handling</td>\n",
       "      <td>263</td>\n",
       "    </tr>\n",
       "    <tr>\n",
       "      <th>4</th>\n",
       "      <td>Equipment issues</td>\n",
       "      <td>247</td>\n",
       "    </tr>\n",
       "    <tr>\n",
       "      <th>5</th>\n",
       "      <td>Storage temperature</td>\n",
       "      <td>138</td>\n",
       "    </tr>\n",
       "    <tr>\n",
       "      <th>6</th>\n",
       "      <td>General Hygiene</td>\n",
       "      <td>54</td>\n",
       "    </tr>\n",
       "    <tr>\n",
       "      <th>7</th>\n",
       "      <td>Personal Hygiene</td>\n",
       "      <td>42</td>\n",
       "    </tr>\n",
       "    <tr>\n",
       "      <th>8</th>\n",
       "      <td>Facility</td>\n",
       "      <td>31</td>\n",
       "    </tr>\n",
       "  </tbody>\n",
       "</table>\n",
       "</div>"
      ],
      "text/plain": [
       "        ViolationLabel  Count\n",
       "0   Mice, rats, vermin    691\n",
       "1  Documents and Signs    352\n",
       "2       Insects, pests    307\n",
       "3        Food handling    263\n",
       "4     Equipment issues    247\n",
       "5  Storage temperature    138\n",
       "6      General Hygiene     54\n",
       "7     Personal Hygiene     42\n",
       "8             Facility     31"
      ]
     },
     "execution_count": 64,
     "metadata": {},
     "output_type": "execute_result"
    }
   ],
   "source": [
    "# What critical cafeteria violations categories are most common?\n",
    "query = \"\"\"\n",
    "SELECT DISTINCT ViolationLabel, COUNT(*) AS Count\n",
    "FROM schools\n",
    "WHERE Level = 'C'\n",
    "GROUP BY ViolationLabel\n",
    "ORDER BY Count DESC\n",
    ";\n",
    "\"\"\"\n",
    "pd.read_sql(query, connection)"
   ]
  },
  {
   "cell_type": "code",
   "execution_count": 82,
   "metadata": {},
   "outputs": [
    {
     "data": {
      "text/html": [
       "<div>\n",
       "<style scoped>\n",
       "    .dataframe tbody tr th:only-of-type {\n",
       "        vertical-align: middle;\n",
       "    }\n",
       "\n",
       "    .dataframe tbody tr th {\n",
       "        vertical-align: top;\n",
       "    }\n",
       "\n",
       "    .dataframe thead th {\n",
       "        text-align: right;\n",
       "    }\n",
       "</style>\n",
       "<table border=\"1\" class=\"dataframe\">\n",
       "  <thead>\n",
       "    <tr style=\"text-align: right;\">\n",
       "      <th></th>\n",
       "      <th>Borough</th>\n",
       "      <th>Violations count</th>\n",
       "    </tr>\n",
       "  </thead>\n",
       "  <tbody>\n",
       "    <tr>\n",
       "      <th>0</th>\n",
       "      <td>Brooklyn</td>\n",
       "      <td>3781</td>\n",
       "    </tr>\n",
       "    <tr>\n",
       "      <th>1</th>\n",
       "      <td>Queens</td>\n",
       "      <td>1560</td>\n",
       "    </tr>\n",
       "    <tr>\n",
       "      <th>2</th>\n",
       "      <td>Manhattan</td>\n",
       "      <td>1159</td>\n",
       "    </tr>\n",
       "    <tr>\n",
       "      <th>3</th>\n",
       "      <td>Bronx</td>\n",
       "      <td>931</td>\n",
       "    </tr>\n",
       "    <tr>\n",
       "      <th>4</th>\n",
       "      <td>Staten Island</td>\n",
       "      <td>231</td>\n",
       "    </tr>\n",
       "  </tbody>\n",
       "</table>\n",
       "</div>"
      ],
      "text/plain": [
       "         Borough  Violations count\n",
       "0       Brooklyn              3781\n",
       "1         Queens              1560\n",
       "2      Manhattan              1159\n",
       "3          Bronx               931\n",
       "4  Staten Island               231"
      ]
     },
     "execution_count": 82,
     "metadata": {},
     "output_type": "execute_result"
    }
   ],
   "source": [
    "# How do NYC boroughs compare in number of violations per school?\n",
    "\n",
    "query = \"\"\"\n",
    "SELECT Borough, COUNT(*) AS \"Violations count\"\n",
    "FROM schools\n",
    "WHERE Level != 'no violation'\n",
    "\n",
    "GROUP BY Borough\n",
    "ORDER BY \"Violations count\" DESC\n",
    "LIMIT 5\n",
    ";\n",
    "\"\"\"\n",
    "pd.read_sql(query, connection)"
   ]
  },
  {
   "cell_type": "code",
   "execution_count": 66,
   "metadata": {},
   "outputs": [
    {
     "data": {
      "text/html": [
       "<div>\n",
       "<style scoped>\n",
       "    .dataframe tbody tr th:only-of-type {\n",
       "        vertical-align: middle;\n",
       "    }\n",
       "\n",
       "    .dataframe tbody tr th {\n",
       "        vertical-align: top;\n",
       "    }\n",
       "\n",
       "    .dataframe thead th {\n",
       "        text-align: right;\n",
       "    }\n",
       "</style>\n",
       "<table border=\"1\" class=\"dataframe\">\n",
       "  <thead>\n",
       "    <tr style=\"text-align: right;\">\n",
       "      <th></th>\n",
       "      <th>Borough</th>\n",
       "      <th>Average violations</th>\n",
       "      <th>Number of Schools</th>\n",
       "    </tr>\n",
       "  </thead>\n",
       "  <tbody>\n",
       "    <tr>\n",
       "      <th>0</th>\n",
       "      <td>Brooklyn</td>\n",
       "      <td>6.0</td>\n",
       "      <td>635</td>\n",
       "    </tr>\n",
       "    <tr>\n",
       "      <th>1</th>\n",
       "      <td>Queens</td>\n",
       "      <td>3.9</td>\n",
       "      <td>400</td>\n",
       "    </tr>\n",
       "    <tr>\n",
       "      <th>2</th>\n",
       "      <td>Manhattan</td>\n",
       "      <td>3.7</td>\n",
       "      <td>312</td>\n",
       "    </tr>\n",
       "    <tr>\n",
       "      <th>3</th>\n",
       "      <td>Bronx</td>\n",
       "      <td>3.1</td>\n",
       "      <td>297</td>\n",
       "    </tr>\n",
       "    <tr>\n",
       "      <th>4</th>\n",
       "      <td>Staten Island</td>\n",
       "      <td>2.9</td>\n",
       "      <td>79</td>\n",
       "    </tr>\n",
       "  </tbody>\n",
       "</table>\n",
       "</div>"
      ],
      "text/plain": [
       "         Borough  Average violations  Number of Schools\n",
       "0       Brooklyn                 6.0                635\n",
       "1         Queens                 3.9                400\n",
       "2      Manhattan                 3.7                312\n",
       "3          Bronx                 3.1                297\n",
       "4  Staten Island                 2.9                 79"
      ]
     },
     "execution_count": 66,
     "metadata": {},
     "output_type": "execute_result"
    }
   ],
   "source": [
    "# Average # of violations per school by Borough\n",
    "\n",
    "query = \"\"\"\n",
    "SELECT\n",
    "    Borough,\n",
    "    ROUND(CAST(COUNT(ViolationDescription) AS FLOAT) /\n",
    "    COUNT(DISTINCT \"Record ID\"), 1) as \"Average violations\",\n",
    "    COUNT(DISTINCT \"Record ID\") as \"Number of Schools\"\n",
    "\n",
    "FROM schools\n",
    "WHERE ViolationDescription != 'no violation'\n",
    "GROUP BY Borough\n",
    "ORDER BY \"Average violations\" DESC\n",
    "\n",
    ";\n",
    "\"\"\"\n",
    "\n",
    "pd.read_sql(query, connection)\n",
    "\n"
   ]
  },
  {
   "cell_type": "code",
   "execution_count": 67,
   "metadata": {},
   "outputs": [
    {
     "data": {
      "text/html": [
       "<div>\n",
       "<style scoped>\n",
       "    .dataframe tbody tr th:only-of-type {\n",
       "        vertical-align: middle;\n",
       "    }\n",
       "\n",
       "    .dataframe tbody tr th {\n",
       "        vertical-align: top;\n",
       "    }\n",
       "\n",
       "    .dataframe thead th {\n",
       "        text-align: right;\n",
       "    }\n",
       "</style>\n",
       "<table border=\"1\" class=\"dataframe\">\n",
       "  <thead>\n",
       "    <tr style=\"text-align: right;\">\n",
       "      <th></th>\n",
       "      <th>NTA Name</th>\n",
       "      <th>Critical violations</th>\n",
       "    </tr>\n",
       "  </thead>\n",
       "  <tbody>\n",
       "    <tr>\n",
       "      <th>0</th>\n",
       "      <td>Borough Park</td>\n",
       "      <td>250</td>\n",
       "    </tr>\n",
       "    <tr>\n",
       "      <th>1</th>\n",
       "      <td>Williamsburg</td>\n",
       "      <td>80</td>\n",
       "    </tr>\n",
       "    <tr>\n",
       "      <th>2</th>\n",
       "      <td>Bedford</td>\n",
       "      <td>61</td>\n",
       "    </tr>\n",
       "    <tr>\n",
       "      <th>3</th>\n",
       "      <td>Far Rockaway-Bayswater</td>\n",
       "      <td>43</td>\n",
       "    </tr>\n",
       "    <tr>\n",
       "      <th>4</th>\n",
       "      <td>Bensonhurst West</td>\n",
       "      <td>42</td>\n",
       "    </tr>\n",
       "    <tr>\n",
       "      <th>5</th>\n",
       "      <td>Flatbush</td>\n",
       "      <td>38</td>\n",
       "    </tr>\n",
       "    <tr>\n",
       "      <th>6</th>\n",
       "      <td>Canarsie</td>\n",
       "      <td>38</td>\n",
       "    </tr>\n",
       "    <tr>\n",
       "      <th>7</th>\n",
       "      <td>Prospect Lefferts Gardens-Wingate</td>\n",
       "      <td>34</td>\n",
       "    </tr>\n",
       "    <tr>\n",
       "      <th>8</th>\n",
       "      <td>Crown Heights South</td>\n",
       "      <td>34</td>\n",
       "    </tr>\n",
       "    <tr>\n",
       "      <th>9</th>\n",
       "      <td>Hudson Yards-Chelsea-Flatiron-Union Square</td>\n",
       "      <td>32</td>\n",
       "    </tr>\n",
       "  </tbody>\n",
       "</table>\n",
       "</div>"
      ],
      "text/plain": [
       "                                     NTA Name  Critical violations\n",
       "0                                Borough Park                  250\n",
       "1                                Williamsburg                   80\n",
       "2                                     Bedford                   61\n",
       "3                      Far Rockaway-Bayswater                   43\n",
       "4                            Bensonhurst West                   42\n",
       "5                                    Flatbush                   38\n",
       "6                                    Canarsie                   38\n",
       "7           Prospect Lefferts Gardens-Wingate                   34\n",
       "8                         Crown Heights South                   34\n",
       "9  Hudson Yards-Chelsea-Flatiron-Union Square                   32"
      ]
     },
     "execution_count": 67,
     "metadata": {},
     "output_type": "execute_result"
    }
   ],
   "source": [
    "# of violations per neighborhood\n",
    "\n",
    "query = \"\"\"\n",
    "SELECT \"NTA Name\", COUNT(*) AS \"Critical violations\"\n",
    "FROM schools\n",
    "WHERE \"Level\" = 'C'\n",
    "GROUP BY \"NTA Name\"\n",
    "ORDER BY \"Critical violations\" DESC\n",
    "LIMIT 10;\n",
    "\"\"\"\n",
    "pd.read_sql(query, connection)"
   ]
  },
  {
   "cell_type": "code",
   "execution_count": 84,
   "metadata": {},
   "outputs": [
    {
     "data": {
      "text/html": [
       "<div>\n",
       "<style scoped>\n",
       "    .dataframe tbody tr th:only-of-type {\n",
       "        vertical-align: middle;\n",
       "    }\n",
       "\n",
       "    .dataframe tbody tr th {\n",
       "        vertical-align: top;\n",
       "    }\n",
       "\n",
       "    .dataframe thead th {\n",
       "        text-align: right;\n",
       "    }\n",
       "</style>\n",
       "<table border=\"1\" class=\"dataframe\">\n",
       "  <thead>\n",
       "    <tr style=\"text-align: right;\">\n",
       "      <th></th>\n",
       "      <th>NTA Name</th>\n",
       "      <th>Avg Critical Violations per School</th>\n",
       "    </tr>\n",
       "  </thead>\n",
       "  <tbody>\n",
       "    <tr>\n",
       "      <th>0</th>\n",
       "      <td>Kew Gardens</td>\n",
       "      <td>5</td>\n",
       "    </tr>\n",
       "    <tr>\n",
       "      <th>1</th>\n",
       "      <td>New Dorp-Midland Beach</td>\n",
       "      <td>4</td>\n",
       "    </tr>\n",
       "    <tr>\n",
       "      <th>2</th>\n",
       "      <td>Borough Park</td>\n",
       "      <td>4</td>\n",
       "    </tr>\n",
       "    <tr>\n",
       "      <th>3</th>\n",
       "      <td>park-cemetery-etc-Brooklyn</td>\n",
       "      <td>3</td>\n",
       "    </tr>\n",
       "    <tr>\n",
       "      <th>4</th>\n",
       "      <td>Williamsburg</td>\n",
       "      <td>3</td>\n",
       "    </tr>\n",
       "  </tbody>\n",
       "</table>\n",
       "</div>"
      ],
      "text/plain": [
       "                     NTA Name  Avg Critical Violations per School\n",
       "0                 Kew Gardens                                   5\n",
       "1      New Dorp-Midland Beach                                   4\n",
       "2                Borough Park                                   4\n",
       "3  park-cemetery-etc-Brooklyn                                   3\n",
       "4                Williamsburg                                   3"
      ]
     },
     "execution_count": 84,
     "metadata": {},
     "output_type": "execute_result"
    }
   ],
   "source": [
    "# Average # of critical violations per school by Borough\n",
    "\n",
    "query = \"\"\"\n",
    "SELECT \n",
    "    \"NTA Name\", \n",
    "    COUNT(*) / COUNT(DISTINCT \"Record ID\") AS \"Avg Critical Violations per School\"\n",
    "FROM schools\n",
    "WHERE \"Level\" = 'C' AND ViolationLabel != 'No Violation'\n",
    "GROUP BY \"NTA Name\"\n",
    "ORDER BY \"Avg Critical Violations per School\" DESC\n",
    "LIMIT 5;\n",
    "\n",
    "\"\"\"\n",
    "pd.read_sql(query, connection)"
   ]
  },
  {
   "cell_type": "code",
   "execution_count": 69,
   "metadata": {},
   "outputs": [
    {
     "data": {
      "text/html": [
       "<div>\n",
       "<style scoped>\n",
       "    .dataframe tbody tr th:only-of-type {\n",
       "        vertical-align: middle;\n",
       "    }\n",
       "\n",
       "    .dataframe tbody tr th {\n",
       "        vertical-align: top;\n",
       "    }\n",
       "\n",
       "    .dataframe thead th {\n",
       "        text-align: right;\n",
       "    }\n",
       "</style>\n",
       "<table border=\"1\" class=\"dataframe\">\n",
       "  <thead>\n",
       "    <tr style=\"text-align: right;\">\n",
       "      <th></th>\n",
       "      <th>NTA Name</th>\n",
       "      <th>Critical violations</th>\n",
       "      <th>Population Rank</th>\n",
       "      <th>NTA Population</th>\n",
       "    </tr>\n",
       "  </thead>\n",
       "  <tbody>\n",
       "    <tr>\n",
       "      <th>0</th>\n",
       "      <td>Borough Park</td>\n",
       "      <td>78</td>\n",
       "      <td>4</td>\n",
       "      <td>102494</td>\n",
       "    </tr>\n",
       "    <tr>\n",
       "      <th>1</th>\n",
       "      <td>Williamsburg</td>\n",
       "      <td>26</td>\n",
       "      <td>98</td>\n",
       "      <td>34373</td>\n",
       "    </tr>\n",
       "    <tr>\n",
       "      <th>2</th>\n",
       "      <td>Rugby-Remsen Village</td>\n",
       "      <td>16</td>\n",
       "      <td>47</td>\n",
       "      <td>54666</td>\n",
       "    </tr>\n",
       "    <tr>\n",
       "      <th>3</th>\n",
       "      <td>Canarsie</td>\n",
       "      <td>15</td>\n",
       "      <td>9</td>\n",
       "      <td>88522</td>\n",
       "    </tr>\n",
       "    <tr>\n",
       "      <th>4</th>\n",
       "      <td>Bedford</td>\n",
       "      <td>15</td>\n",
       "      <td>17</td>\n",
       "      <td>77847</td>\n",
       "    </tr>\n",
       "  </tbody>\n",
       "</table>\n",
       "</div>"
      ],
      "text/plain": [
       "               NTA Name  Critical violations  Population Rank  NTA Population\n",
       "0          Borough Park                   78                4          102494\n",
       "1          Williamsburg                   26               98           34373\n",
       "2  Rugby-Remsen Village                   16               47           54666\n",
       "3              Canarsie                   15                9           88522\n",
       "4               Bedford                   15               17           77847"
      ]
     },
     "execution_count": 69,
     "metadata": {},
     "output_type": "execute_result"
    }
   ],
   "source": [
    "#Rank NTA neighborhoods by population next to their Mice related Critical violation count\n",
    "query = \"\"\"\n",
    "SELECT \n",
    "    \"NTA Name\",\n",
    "    COUNT(*) AS \"Critical violations\",\n",
    "    RANK() OVER (ORDER BY \"NTA Population\" DESC) AS \"Population Rank\",\n",
    "    \"NTA Population\"\n",
    "FROM schools\n",
    "WHERE \"Level\" = 'C' AND ViolationLabel = 'Mice, rats, vermin'\n",
    "GROUP BY \"NTA Name\"\n",
    "ORDER BY \"Critical violations\" DESC\n",
    "LIMIT 5;\n",
    "\n",
    "\"\"\"\n",
    "pd.read_sql(query, connection)\n",
    "\n"
   ]
  },
  {
   "cell_type": "code",
   "execution_count": 88,
   "metadata": {},
   "outputs": [
    {
     "data": {
      "text/html": [
       "<div>\n",
       "<style scoped>\n",
       "    .dataframe tbody tr th:only-of-type {\n",
       "        vertical-align: middle;\n",
       "    }\n",
       "\n",
       "    .dataframe tbody tr th {\n",
       "        vertical-align: top;\n",
       "    }\n",
       "\n",
       "    .dataframe thead th {\n",
       "        text-align: right;\n",
       "    }\n",
       "</style>\n",
       "<table border=\"1\" class=\"dataframe\">\n",
       "  <thead>\n",
       "    <tr style=\"text-align: right;\">\n",
       "      <th></th>\n",
       "      <th>NTA Name</th>\n",
       "      <th>Mice, rats, vermin violations</th>\n",
       "    </tr>\n",
       "  </thead>\n",
       "  <tbody>\n",
       "    <tr>\n",
       "      <th>0</th>\n",
       "      <td>Borough Park</td>\n",
       "      <td>133</td>\n",
       "    </tr>\n",
       "    <tr>\n",
       "      <th>1</th>\n",
       "      <td>Williamsburg</td>\n",
       "      <td>50</td>\n",
       "    </tr>\n",
       "    <tr>\n",
       "      <th>2</th>\n",
       "      <td>Bedford</td>\n",
       "      <td>30</td>\n",
       "    </tr>\n",
       "    <tr>\n",
       "      <th>3</th>\n",
       "      <td>Canarsie</td>\n",
       "      <td>23</td>\n",
       "    </tr>\n",
       "    <tr>\n",
       "      <th>4</th>\n",
       "      <td>Rugby-Remsen Village</td>\n",
       "      <td>22</td>\n",
       "    </tr>\n",
       "    <tr>\n",
       "      <th>5</th>\n",
       "      <td>Flatbush</td>\n",
       "      <td>21</td>\n",
       "    </tr>\n",
       "    <tr>\n",
       "      <th>6</th>\n",
       "      <td>East New York</td>\n",
       "      <td>20</td>\n",
       "    </tr>\n",
       "    <tr>\n",
       "      <th>7</th>\n",
       "      <td>Sunset Park West</td>\n",
       "      <td>19</td>\n",
       "    </tr>\n",
       "    <tr>\n",
       "      <th>8</th>\n",
       "      <td>Crown Heights South</td>\n",
       "      <td>19</td>\n",
       "    </tr>\n",
       "    <tr>\n",
       "      <th>9</th>\n",
       "      <td>Bushwick South</td>\n",
       "      <td>19</td>\n",
       "    </tr>\n",
       "  </tbody>\n",
       "</table>\n",
       "</div>"
      ],
      "text/plain": [
       "               NTA Name  Mice, rats, vermin violations\n",
       "0          Borough Park                            133\n",
       "1          Williamsburg                             50\n",
       "2               Bedford                             30\n",
       "3              Canarsie                             23\n",
       "4  Rugby-Remsen Village                             22\n",
       "5              Flatbush                             21\n",
       "6         East New York                             20\n",
       "7      Sunset Park West                             19\n",
       "8   Crown Heights South                             19\n",
       "9        Bushwick South                             19"
      ]
     },
     "execution_count": 88,
     "metadata": {},
     "output_type": "execute_result"
    }
   ],
   "source": [
    "## Examining Population Areas\n",
    "\n",
    "# We focused on violations related to mice and vermin, as these represent critical health risks. \n",
    "# The SQL query below was used to rank neighborhoods by these specific violations:\n",
    "\n",
    "query = \"\"\"\n",
    "SELECT \n",
    "    \"NTA Name\", \n",
    "    COUNT(*) AS \"Mice, rats, vermin violations\"\n",
    "FROM schools\n",
    "WHERE ViolationLabel = 'Mice, rats, vermin'\n",
    "GROUP BY \"NTA Name\"\n",
    "ORDER BY \"Mice, rats, vermin violations\" DESC\n",
    "LIMIT 10;\n",
    "\n",
    "\"\"\"\n",
    "pd.read_sql(query, connection)\n"
   ]
  },
  {
   "cell_type": "code",
   "execution_count": 90,
   "metadata": {
    "scrolled": true
   },
   "outputs": [
    {
     "data": {
      "text/html": [
       "<div>\n",
       "<style scoped>\n",
       "    .dataframe tbody tr th:only-of-type {\n",
       "        vertical-align: middle;\n",
       "    }\n",
       "\n",
       "    .dataframe tbody tr th {\n",
       "        vertical-align: top;\n",
       "    }\n",
       "\n",
       "    .dataframe thead th {\n",
       "        text-align: right;\n",
       "    }\n",
       "</style>\n",
       "<table border=\"1\" class=\"dataframe\">\n",
       "  <thead>\n",
       "    <tr style=\"text-align: right;\">\n",
       "      <th></th>\n",
       "      <th>SchoolName</th>\n",
       "      <th>Mice violations count</th>\n",
       "    </tr>\n",
       "  </thead>\n",
       "  <tbody>\n",
       "    <tr>\n",
       "      <th>0</th>\n",
       "      <td>YESHIVA TIFERETH ELIMELECH</td>\n",
       "      <td>9</td>\n",
       "    </tr>\n",
       "    <tr>\n",
       "      <th>1</th>\n",
       "      <td>BOBOVER YESHIVA BNEI ZION</td>\n",
       "      <td>9</td>\n",
       "    </tr>\n",
       "    <tr>\n",
       "      <th>2</th>\n",
       "      <td>TALMUD TORAH IMREI CHAIM</td>\n",
       "      <td>8</td>\n",
       "    </tr>\n",
       "    <tr>\n",
       "      <th>3</th>\n",
       "      <td>BAIS TZIPORAH SCHOOL</td>\n",
       "      <td>8</td>\n",
       "    </tr>\n",
       "    <tr>\n",
       "      <th>4</th>\n",
       "      <td>MOSDOS CHASIDEI SQUARE</td>\n",
       "      <td>7</td>\n",
       "    </tr>\n",
       "  </tbody>\n",
       "</table>\n",
       "</div>"
      ],
      "text/plain": [
       "                   SchoolName  Mice violations count\n",
       "0  YESHIVA TIFERETH ELIMELECH                      9\n",
       "1   BOBOVER YESHIVA BNEI ZION                      9\n",
       "2    TALMUD TORAH IMREI CHAIM                      8\n",
       "3        BAIS TZIPORAH SCHOOL                      8\n",
       "4      MOSDOS CHASIDEI SQUARE                      7"
      ]
     },
     "execution_count": 90,
     "metadata": {},
     "output_type": "execute_result"
    }
   ],
   "source": [
    "# Number of mice-related violations for each school in the Borough Park.\n",
    "query = \"\"\"\n",
    "SELECT \n",
    "    SchoolName,\n",
    "    COUNT(*) AS \"Mice violations count\"\n",
    "FROM schools\n",
    "WHERE ViolationLabel = 'Mice, rats, vermin' AND \"NTA Name\" = 'Borough Park'\n",
    "GROUP BY SchoolName\n",
    "ORDER BY \"Mice violations count\" DESC\n",
    "LIMIT 5\n",
    ";\n",
    "\n",
    "\"\"\"\n",
    "pd.read_sql(query, connection)"
   ]
  },
  {
   "cell_type": "code",
   "execution_count": null,
   "metadata": {},
   "outputs": [],
   "source": []
  }
 ],
 "metadata": {
  "kernelspec": {
   "display_name": "Python 3 (ipykernel)",
   "language": "python",
   "name": "python3"
  },
  "language_info": {
   "codemirror_mode": {
    "name": "ipython",
    "version": 3
   },
   "file_extension": ".py",
   "mimetype": "text/x-python",
   "name": "python",
   "nbconvert_exporter": "python",
   "pygments_lexer": "ipython3",
   "version": "3.13.0"
  }
 },
 "nbformat": 4,
 "nbformat_minor": 4
}
