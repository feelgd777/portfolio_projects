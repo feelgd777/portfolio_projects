{
 "cells": [
  {
   "attachments": {},
   "cell_type": "markdown",
   "metadata": {},
   "source": [
    "# **NYC School Cafeteria Violations Analysis**\n",
    "\n",
    "\n",
    "## **Overview**\n",
    "This project provides a concise analysis of cafeteria violations in **public and private schools**, aiming to compare the quantity and nature of violations across different neighborhoods.  \n",
    "By identifying areas with the greatest potential risk to public health, we uncover key insights, including:\n",
    "- Distribution of violation types\n",
    "- Prevalence of critical violations\n",
    "- Geographic trends of infractions\n",
    "\n",
    "The analysis underscores the **need for increased oversight and regulations** in specific high-risk areas to enhance **public health and food safety** in school cafeterias.\n",
    "\n",
    "---\n",
    "\n",
    "## **Data Understanding**\n",
    "The dataset, provided by the **Department of Health and Mental Hygiene (DOHMH)**, includes current inspection data for school cafeterias in New York City. It covers public and private schools, which must adhere to strict food safety regulations.  \n",
    "\n",
    "**Key points about the dataset:**\n",
    "- Cafeterias are inspected at least annually to ensure compliance.\n",
    "- The data includes information from the permitting process and inspection results over the past three years.\n",
    "- It contains **7,662 recorded violations**, of which:\n",
    "  - **2,125 are classified as critical**, meaning they pose a **substantial public health risk**.\n",
    "\n",
    "⚠️ **Limitations of the dataset:**  \n",
    "- Not suitable for historical comparisons, as it excludes ceased operations.\n",
    "- May change due to adjudication for private, for-profit schools.\n",
    "\n",
    "## **Methodology**\n",
    "This analysis leverages data preprocessing, exploratory data analysis (EDA), and visualization using:\n",
    "\n",
    "- **Python (`Pandas`, `Matplotlib`, `Seaborn`)** for data cleaning and visualization.\n",
    "- **SQL** for querying and aggregating violations data.\n",
    "- **Tableau** for interactive dashboards and deeper insights.\n",
    "\n",
    "---\n",
    "\n",
    "\n",
    "\n"
   ]
  },
  {
   "attachments": {},
   "cell_type": "markdown",
   "metadata": {},
   "source": [
    "### Imports"
   ]
  },
  {
   "cell_type": "code",
   "execution_count": 4,
   "metadata": {},
   "outputs": [
    {
     "name": "stderr",
     "output_type": "stream",
     "text": [
      "Matplotlib is building the font cache; this may take a moment.\n"
     ]
    }
   ],
   "source": [
    "import pandas as pd\n",
    "import numpy as np\n",
    "import sqlite3 \n",
    "import matplotlib.pyplot as plt\n",
    "import seaborn as sns\n",
    "sns.set_theme(style=\"whitegrid\")"
   ]
  },
  {
   "attachments": {},
   "cell_type": "markdown",
   "metadata": {},
   "source": [
    "## Data Cleaning"
   ]
  },
  {
   "cell_type": "markdown",
   "metadata": {},
   "source": [
    "#### Displaying all the Columns"
   ]
  },
  {
   "cell_type": "code",
   "execution_count": 3,
   "metadata": {},
   "outputs": [],
   "source": [
    "pd.set_option('display.max_columns', None)"
   ]
  },
  {
   "cell_type": "markdown",
   "metadata": {},
   "source": [
    "#### Importing Data"
   ]
  },
  {
   "cell_type": "code",
   "execution_count": 5,
   "metadata": {
    "scrolled": true
   },
   "outputs": [
    {
     "data": {
      "text/html": [
       "<div>\n",
       "<style scoped>\n",
       "    .dataframe tbody tr th:only-of-type {\n",
       "        vertical-align: middle;\n",
       "    }\n",
       "\n",
       "    .dataframe tbody tr th {\n",
       "        vertical-align: top;\n",
       "    }\n",
       "\n",
       "    .dataframe thead th {\n",
       "        text-align: right;\n",
       "    }\n",
       "</style>\n",
       "<table border=\"1\" class=\"dataframe\">\n",
       "  <thead>\n",
       "    <tr style=\"text-align: right;\">\n",
       "      <th></th>\n",
       "      <th>Record ID</th>\n",
       "      <th>SchoolName</th>\n",
       "      <th>Number</th>\n",
       "      <th>Street</th>\n",
       "      <th>City</th>\n",
       "      <th>State</th>\n",
       "      <th>Borough</th>\n",
       "      <th>ZipCode</th>\n",
       "      <th>LastInspection</th>\n",
       "      <th>Permittee</th>\n",
       "      <th>InspectionDate</th>\n",
       "      <th>PTET</th>\n",
       "      <th>Site Type</th>\n",
       "      <th>Level</th>\n",
       "      <th>Code</th>\n",
       "      <th>ViolationDescription</th>\n",
       "      <th>LATITUDE</th>\n",
       "      <th>LONGITUDE</th>\n",
       "      <th>COMMUNITYBOARD</th>\n",
       "      <th>COUNCILDISTRICT</th>\n",
       "      <th>CENSUSTRACT</th>\n",
       "      <th>BIN</th>\n",
       "      <th>BBL</th>\n",
       "      <th>NTA</th>\n",
       "      <th>BOROCODE</th>\n",
       "    </tr>\n",
       "  </thead>\n",
       "  <tbody>\n",
       "    <tr>\n",
       "      <th>0</th>\n",
       "      <td>40542839</td>\n",
       "      <td>P.S. 127 MCKINLEY PARK, RALPH A. FABRIZIO SCHO...</td>\n",
       "      <td>7805</td>\n",
       "      <td>7 AVENUE</td>\n",
       "      <td>Brooklyn</td>\n",
       "      <td>NY</td>\n",
       "      <td>Brooklyn</td>\n",
       "      <td>11228.0</td>\n",
       "      <td>02/02/2023</td>\n",
       "      <td>NEW YORK CITY DEPARTMENT OF EDUCATION</td>\n",
       "      <td>07/28/2022</td>\n",
       "      <td>2530</td>\n",
       "      <td>FSE (Public School Cafeteria)</td>\n",
       "      <td>NaN</td>\n",
       "      <td>NaN</td>\n",
       "      <td>NaN</td>\n",
       "      <td>40.624125</td>\n",
       "      <td>-74.018826</td>\n",
       "      <td>310.0</td>\n",
       "      <td>43.0</td>\n",
       "      <td>20600.0</td>\n",
       "      <td>3150481.0</td>\n",
       "      <td>3059730001</td>\n",
       "      <td>BK30</td>\n",
       "      <td>3</td>\n",
       "    </tr>\n",
       "    <tr>\n",
       "      <th>1</th>\n",
       "      <td>40736086</td>\n",
       "      <td>BAIS YITZHAK SCHOOL</td>\n",
       "      <td>141315</td>\n",
       "      <td>45 STREET</td>\n",
       "      <td>BROOKLYN</td>\n",
       "      <td>NY</td>\n",
       "      <td>Brooklyn</td>\n",
       "      <td>NaN</td>\n",
       "      <td>02/15/2023</td>\n",
       "      <td>CONGREGATION KHAL CHASIDEI SKWERE - BAIS YITZA...</td>\n",
       "      <td>03/01/2022</td>\n",
       "      <td>2533</td>\n",
       "      <td>FSE (Private School Cafeteria - Not-For-Profit)</td>\n",
       "      <td>G</td>\n",
       "      <td>10A</td>\n",
       "      <td>Toilet facility not maintained and provided wi...</td>\n",
       "      <td>0.000000</td>\n",
       "      <td>0.000000</td>\n",
       "      <td>NaN</td>\n",
       "      <td>NaN</td>\n",
       "      <td>NaN</td>\n",
       "      <td>NaN</td>\n",
       "      <td>3</td>\n",
       "      <td>NaN</td>\n",
       "      <td>3</td>\n",
       "    </tr>\n",
       "    <tr>\n",
       "      <th>2</th>\n",
       "      <td>40542116</td>\n",
       "      <td>P.S. 135 SHELDON A. BROOKNER</td>\n",
       "      <td>684</td>\n",
       "      <td>LINDEN BOULEVARD</td>\n",
       "      <td>Brooklyn</td>\n",
       "      <td>NY</td>\n",
       "      <td>Brooklyn</td>\n",
       "      <td>11203.0</td>\n",
       "      <td>01/23/2023</td>\n",
       "      <td>NEW YORK CITY DEPARTMENT OF EDUCATION</td>\n",
       "      <td>11/17/2022</td>\n",
       "      <td>2530</td>\n",
       "      <td>FSE (Public School Cafeteria)</td>\n",
       "      <td>C</td>\n",
       "      <td>04A</td>\n",
       "      <td>Food Protection Certificate (FPC) not held by ...</td>\n",
       "      <td>40.653633</td>\n",
       "      <td>-73.933114</td>\n",
       "      <td>317.0</td>\n",
       "      <td>41.0</td>\n",
       "      <td>87000.0</td>\n",
       "      <td>3102005.0</td>\n",
       "      <td>3046730001</td>\n",
       "      <td>BK91</td>\n",
       "      <td>3</td>\n",
       "    </tr>\n",
       "    <tr>\n",
       "      <th>3</th>\n",
       "      <td>40542900</td>\n",
       "      <td>PAN AMERICAN INTERNATIONAL HIGH SCHOOL AT MONR...</td>\n",
       "      <td>1300</td>\n",
       "      <td>BOYNTON AVENUE</td>\n",
       "      <td>Bronx</td>\n",
       "      <td>NY</td>\n",
       "      <td>Bronx</td>\n",
       "      <td>10472.0</td>\n",
       "      <td>03/09/2023</td>\n",
       "      <td>NEW YORK CITY DEPARTMENT OF EDUCATION</td>\n",
       "      <td>03/09/2023</td>\n",
       "      <td>2530</td>\n",
       "      <td>FSE (Public School Cafeteria)</td>\n",
       "      <td>C</td>\n",
       "      <td>04L</td>\n",
       "      <td>Evidence of mice or live mice in establishment...</td>\n",
       "      <td>40.831594</td>\n",
       "      <td>-73.878911</td>\n",
       "      <td>209.0</td>\n",
       "      <td>18.0</td>\n",
       "      <td>5600.0</td>\n",
       "      <td>2027459.0</td>\n",
       "      <td>2038640001</td>\n",
       "      <td>BX08</td>\n",
       "      <td>2</td>\n",
       "    </tr>\n",
       "    <tr>\n",
       "      <th>4</th>\n",
       "      <td>40541560</td>\n",
       "      <td>PS811M @ PS 149M, SUCCESS ACADEMY CHARTER-HARL...</td>\n",
       "      <td>34</td>\n",
       "      <td>WEST  118 STREET</td>\n",
       "      <td>New York</td>\n",
       "      <td>NY</td>\n",
       "      <td>Manhattan</td>\n",
       "      <td>10026.0</td>\n",
       "      <td>01/31/2023</td>\n",
       "      <td>NEW YORK CITY DEPARTMENT OF EDUCATION</td>\n",
       "      <td>08/01/2022</td>\n",
       "      <td>2530</td>\n",
       "      <td>FSE (Public School Cafeteria)</td>\n",
       "      <td>C</td>\n",
       "      <td>04M</td>\n",
       "      <td>Live roaches in facility's food or non-food area.</td>\n",
       "      <td>40.802464</td>\n",
       "      <td>-73.946715</td>\n",
       "      <td>110.0</td>\n",
       "      <td>9.0</td>\n",
       "      <td>19000.0</td>\n",
       "      <td>1051434.0</td>\n",
       "      <td>1016010001</td>\n",
       "      <td>MN11</td>\n",
       "      <td>1</td>\n",
       "    </tr>\n",
       "  </tbody>\n",
       "</table>\n",
       "</div>"
      ],
      "text/plain": [
       "  Record ID                                         SchoolName  Number  \\\n",
       "0  40542839  P.S. 127 MCKINLEY PARK, RALPH A. FABRIZIO SCHO...    7805   \n",
       "1  40736086                                BAIS YITZHAK SCHOOL  141315   \n",
       "2  40542116                       P.S. 135 SHELDON A. BROOKNER     684   \n",
       "3  40542900  PAN AMERICAN INTERNATIONAL HIGH SCHOOL AT MONR...    1300   \n",
       "4  40541560  PS811M @ PS 149M, SUCCESS ACADEMY CHARTER-HARL...      34   \n",
       "\n",
       "             Street      City State    Borough  ZipCode LastInspection  \\\n",
       "0          7 AVENUE  Brooklyn    NY   Brooklyn  11228.0     02/02/2023   \n",
       "1         45 STREET  BROOKLYN    NY   Brooklyn      NaN     02/15/2023   \n",
       "2  LINDEN BOULEVARD  Brooklyn    NY   Brooklyn  11203.0     01/23/2023   \n",
       "3    BOYNTON AVENUE     Bronx    NY      Bronx  10472.0     03/09/2023   \n",
       "4  WEST  118 STREET  New York    NY  Manhattan  10026.0     01/31/2023   \n",
       "\n",
       "                                           Permittee InspectionDate  PTET  \\\n",
       "0              NEW YORK CITY DEPARTMENT OF EDUCATION     07/28/2022  2530   \n",
       "1  CONGREGATION KHAL CHASIDEI SKWERE - BAIS YITZA...     03/01/2022  2533   \n",
       "2              NEW YORK CITY DEPARTMENT OF EDUCATION     11/17/2022  2530   \n",
       "3              NEW YORK CITY DEPARTMENT OF EDUCATION     03/09/2023  2530   \n",
       "4              NEW YORK CITY DEPARTMENT OF EDUCATION     08/01/2022  2530   \n",
       "\n",
       "                                         Site Type Level Code  \\\n",
       "0                    FSE (Public School Cafeteria)   NaN  NaN   \n",
       "1  FSE (Private School Cafeteria - Not-For-Profit)     G  10A   \n",
       "2                    FSE (Public School Cafeteria)     C  04A   \n",
       "3                    FSE (Public School Cafeteria)     C  04L   \n",
       "4                    FSE (Public School Cafeteria)     C  04M   \n",
       "\n",
       "                                ViolationDescription   LATITUDE  LONGITUDE  \\\n",
       "0                                                NaN  40.624125 -74.018826   \n",
       "1  Toilet facility not maintained and provided wi...   0.000000   0.000000   \n",
       "2  Food Protection Certificate (FPC) not held by ...  40.653633 -73.933114   \n",
       "3  Evidence of mice or live mice in establishment...  40.831594 -73.878911   \n",
       "4  Live roaches in facility's food or non-food area.  40.802464 -73.946715   \n",
       "\n",
       "   COMMUNITYBOARD  COUNCILDISTRICT  CENSUSTRACT        BIN         BBL   NTA  \\\n",
       "0           310.0             43.0      20600.0  3150481.0  3059730001  BK30   \n",
       "1             NaN              NaN          NaN        NaN           3   NaN   \n",
       "2           317.0             41.0      87000.0  3102005.0  3046730001  BK91   \n",
       "3           209.0             18.0       5600.0  2027459.0  2038640001  BX08   \n",
       "4           110.0              9.0      19000.0  1051434.0  1016010001  MN11   \n",
       "\n",
       "   BOROCODE  \n",
       "0         3  \n",
       "1         3  \n",
       "2         3  \n",
       "3         2  \n",
       "4         1  "
      ]
     },
     "execution_count": 5,
     "metadata": {},
     "output_type": "execute_result"
    }
   ],
   "source": [
    "df = pd.read_csv('../data/DOHMH_School_Cafeteria_inspections__2020_-_Present_.csv')\n",
    "df.head()"
   ]
  },
  {
   "cell_type": "markdown",
   "metadata": {},
   "source": [
    "<em>Displaying the first few rows of the data to understand its structure.<em/>"
   ]
  },
  {
   "cell_type": "markdown",
   "metadata": {},
   "source": [
    "#### Data Information"
   ]
  },
  {
   "cell_type": "code",
   "execution_count": 6,
   "metadata": {
    "scrolled": true
   },
   "outputs": [
    {
     "name": "stdout",
     "output_type": "stream",
     "text": [
      "<class 'pandas.core.frame.DataFrame'>\n",
      "RangeIndex: 11093 entries, 0 to 11092\n",
      "Data columns (total 25 columns):\n",
      " #   Column                Non-Null Count  Dtype  \n",
      "---  ------                --------------  -----  \n",
      " 0   Record ID             11093 non-null  object \n",
      " 1   SchoolName            11093 non-null  object \n",
      " 2   Number                11093 non-null  object \n",
      " 3   Street                11093 non-null  object \n",
      " 4   City                  10657 non-null  object \n",
      " 5   State                 11093 non-null  object \n",
      " 6   Borough               11093 non-null  object \n",
      " 7   ZipCode               10942 non-null  float64\n",
      " 8   LastInspection        11093 non-null  object \n",
      " 9   Permittee             11093 non-null  object \n",
      " 10  InspectionDate        11093 non-null  object \n",
      " 11  PTET                  11093 non-null  int64  \n",
      " 12  Site Type             11093 non-null  object \n",
      " 13  Level                 7974 non-null   object \n",
      " 14  Code                  7974 non-null   object \n",
      " 15  ViolationDescription  7974 non-null   object \n",
      " 16  LATITUDE              11093 non-null  float64\n",
      " 17  LONGITUDE             11093 non-null  float64\n",
      " 18  COMMUNITYBOARD        10942 non-null  float64\n",
      " 19  COUNCILDISTRICT       10942 non-null  float64\n",
      " 20  CENSUSTRACT           10942 non-null  float64\n",
      " 21  BIN                   10880 non-null  float64\n",
      " 22  BBL                   11093 non-null  int64  \n",
      " 23  NTA                   10942 non-null  object \n",
      " 24  BOROCODE              11093 non-null  int64  \n",
      "dtypes: float64(7), int64(3), object(15)\n",
      "memory usage: 2.1+ MB\n"
     ]
    }
   ],
   "source": [
    "#info of our data\n",
    "df.info()"
   ]
  },
  {
   "cell_type": "markdown",
   "metadata": {},
   "source": [
    "<em>The dataset contains 11,093 rows and 25 columns.<em/>"
   ]
  },
  {
   "cell_type": "markdown",
   "metadata": {},
   "source": [
    "#### Dropping Unneeded Columns"
   ]
  },
  {
   "cell_type": "code",
   "execution_count": 7,
   "metadata": {},
   "outputs": [],
   "source": [
    "\n",
    "columns_to_drop = ['Permittee',\n",
    "       'PTET', 'COMMUNITYBOARD', 'COUNCILDISTRICT',\n",
    "    'BIN', 'BBL', 'BOROCODE']\n",
    "\n",
    "df.drop(columns_to_drop, axis=1, inplace=True)"
   ]
  },
  {
   "cell_type": "markdown",
   "metadata": {},
   "source": [
    "<em>Dropped columns that do not contribute to the analysis.<em/>"
   ]
  },
  {
   "cell_type": "markdown",
   "metadata": {},
   "source": [
    "#### Dropping Null Values"
   ]
  },
  {
   "cell_type": "code",
   "execution_count": 8,
   "metadata": {},
   "outputs": [],
   "source": [
    "df['NTA'].dropna(inplace=True)"
   ]
  },
  {
   "cell_type": "markdown",
   "metadata": {},
   "source": [
    "<em>Removing rows with null values in the 'NTA' column to ensure data consistency.<em/>"
   ]
  },
  {
   "cell_type": "markdown",
   "metadata": {},
   "source": [
    "#### Grouping Violations by Date and Institution"
   ]
  },
  {
   "cell_type": "code",
   "execution_count": 9,
   "metadata": {},
   "outputs": [],
   "source": [
    "df['Inspection event'] = df.apply(lambda row: str(row['Record ID']) + '_' + str(row['InspectionDate']), axis=1)"
   ]
  },
  {
   "cell_type": "markdown",
   "metadata": {},
   "source": [
    "<em>Created an 'Inspection event' column to uniquely identify each inspection by combining 'Record ID' and 'InspectionDate'.<em/>"
   ]
  },
  {
   "cell_type": "markdown",
   "metadata": {},
   "source": [
    "#### Renaming Columns"
   ]
  },
  {
   "cell_type": "code",
   "execution_count": 10,
   "metadata": {},
   "outputs": [],
   "source": [
    "df.rename(columns={'NTA': 'NTA Code'}, inplace=True)"
   ]
  },
  {
   "cell_type": "code",
   "execution_count": 11,
   "metadata": {
    "scrolled": true
   },
   "outputs": [
    {
     "data": {
      "text/plain": [
       "Site Type\n",
       "FSE (Private School Cafeteria - For Profit)         155\n",
       "FSE (Private School Cafeteria - Not-For-Profit)     473\n",
       "FSE (Private School Cafeteria)                      105\n",
       "FSE (Public School Cafeteria)                      1414\n",
       "Name: Record ID, dtype: int64"
      ]
     },
     "execution_count": 11,
     "metadata": {},
     "output_type": "execute_result"
    }
   ],
   "source": [
    "# Types of schools\n",
    "count_unique = df.groupby('Site Type')['Record ID'].nunique()\n",
    "count_unique"
   ]
  },
  {
   "cell_type": "markdown",
   "metadata": {},
   "source": [
    "<em>Renamed 'NTA' to 'NTA Code' for clarity.<em/>"
   ]
  },
  {
   "cell_type": "markdown",
   "metadata": {},
   "source": [
    "### Schools Data Organizing"
   ]
  },
  {
   "cell_type": "code",
   "execution_count": 12,
   "metadata": {
    "scrolled": true
   },
   "outputs": [
    {
     "data": {
      "text/plain": [
       "Site Type\n",
       "FSE (Private School Cafeteria - For Profit)         155\n",
       "FSE (Private School Cafeteria - Not-For-Profit)     473\n",
       "FSE (Private School Cafeteria)                      105\n",
       "FSE (Public School Cafeteria)                      1414\n",
       "Name: Record ID, dtype: int64"
      ]
     },
     "execution_count": 12,
     "metadata": {},
     "output_type": "execute_result"
    }
   ],
   "source": [
    "count_unique = df.groupby('Site Type')['Record ID'].nunique()\n",
    "count_unique"
   ]
  },
  {
   "attachments": {},
   "cell_type": "markdown",
   "metadata": {},
   "source": [
    "<em>Identified four target categories of schools. For analysis, these are aggregated into two main categories: Private and Public.<em/>"
   ]
  },
  {
   "cell_type": "markdown",
   "metadata": {},
   "source": [
    "#### Grouping Schools"
   ]
  },
  {
   "cell_type": "code",
   "execution_count": 13,
   "metadata": {},
   "outputs": [],
   "source": [
    "df['School Type'] = df['Site Type'].apply(lambda x: 'Public' if 'Public' in str(x) else 'Private')"
   ]
  },
  {
   "attachments": {},
   "cell_type": "markdown",
   "metadata": {},
   "source": [
    "<em>Grouped school types into 'Public' and 'Private'.<em/>"
   ]
  },
  {
   "cell_type": "markdown",
   "metadata": {},
   "source": [
    "#### Handling Null Values in Violation Descriptions"
   ]
  },
  {
   "cell_type": "code",
   "execution_count": 14,
   "metadata": {},
   "outputs": [],
   "source": [
    "# Null values in Violation description indicate that no violation was found per data description.\n",
    "df['ViolationDescription'] =  df['ViolationDescription'].apply(lambda x: 'no violation' if pd.isna(x) else x)"
   ]
  },
  {
   "attachments": {},
   "cell_type": "markdown",
   "metadata": {},
   "source": [
    "<em>Replaced null values in 'ViolationDescription' with 'no violation'.<em/>"
   ]
  },
  {
   "cell_type": "markdown",
   "metadata": {},
   "source": [
    "#### Importing demographics information."
   ]
  },
  {
   "cell_type": "code",
   "execution_count": 15,
   "metadata": {
    "scrolled": true
   },
   "outputs": [
    {
     "name": "stdout",
     "output_type": "stream",
     "text": [
      "<class 'pandas.core.frame.DataFrame'>\n",
      "RangeIndex: 193 entries, 0 to 192\n",
      "Data columns (total 8 columns):\n",
      " #   Column                                   Non-Null Count  Dtype  \n",
      "---  ------                                   --------------  -----  \n",
      " 0   Neighborhood Tabulation Area (NTA) Name  193 non-null    object \n",
      " 1   NTA Code                                 189 non-null    object \n",
      " 2   populatio                                193 non-null    int64  \n",
      " 3   Latino                                   193 non-null    float64\n",
      " 4   % White                                  193 non-null    float64\n",
      " 5   % African American                       193 non-null    float64\n",
      " 6   % Asian                                  193 non-null    float64\n",
      " 7   % Other                                  193 non-null    float64\n",
      "dtypes: float64(5), int64(1), object(2)\n",
      "memory usage: 12.2+ KB\n"
     ]
    },
    {
     "data": {
      "text/html": [
       "<div>\n",
       "<style scoped>\n",
       "    .dataframe tbody tr th:only-of-type {\n",
       "        vertical-align: middle;\n",
       "    }\n",
       "\n",
       "    .dataframe tbody tr th {\n",
       "        vertical-align: top;\n",
       "    }\n",
       "\n",
       "    .dataframe thead th {\n",
       "        text-align: right;\n",
       "    }\n",
       "</style>\n",
       "<table border=\"1\" class=\"dataframe\">\n",
       "  <thead>\n",
       "    <tr style=\"text-align: right;\">\n",
       "      <th></th>\n",
       "      <th>Neighborhood Tabulation Area (NTA) Name</th>\n",
       "      <th>NTA Code</th>\n",
       "      <th>populatio</th>\n",
       "      <th>Latino</th>\n",
       "      <th>% White</th>\n",
       "      <th>% African American</th>\n",
       "      <th>% Asian</th>\n",
       "      <th>% Other</th>\n",
       "    </tr>\n",
       "  </thead>\n",
       "  <tbody>\n",
       "    <tr>\n",
       "      <th>0</th>\n",
       "      <td>Claremont-Bathgate</td>\n",
       "      <td>BX01</td>\n",
       "      <td>35560</td>\n",
       "      <td>60.6</td>\n",
       "      <td>1.0</td>\n",
       "      <td>37.3</td>\n",
       "      <td>0.1</td>\n",
       "      <td>0.010</td>\n",
       "    </tr>\n",
       "    <tr>\n",
       "      <th>1</th>\n",
       "      <td>Eastchester-Edenwald-Baychester</td>\n",
       "      <td>BX03</td>\n",
       "      <td>37887</td>\n",
       "      <td>24.6</td>\n",
       "      <td>3.1</td>\n",
       "      <td>66.0</td>\n",
       "      <td>4.2</td>\n",
       "      <td>0.022</td>\n",
       "    </tr>\n",
       "    <tr>\n",
       "      <th>2</th>\n",
       "      <td>Bedford Park-Fordham North</td>\n",
       "      <td>BX05</td>\n",
       "      <td>57685</td>\n",
       "      <td>75.0</td>\n",
       "      <td>4.2</td>\n",
       "      <td>15.6</td>\n",
       "      <td>3.8</td>\n",
       "      <td>0.015</td>\n",
       "    </tr>\n",
       "    <tr>\n",
       "      <th>3</th>\n",
       "      <td>Belmont</td>\n",
       "      <td>BX06</td>\n",
       "      <td>29115</td>\n",
       "      <td>61.0</td>\n",
       "      <td>18.2</td>\n",
       "      <td>16.3</td>\n",
       "      <td>2.1</td>\n",
       "      <td>0.024</td>\n",
       "    </tr>\n",
       "    <tr>\n",
       "      <th>4</th>\n",
       "      <td>Bronxdale</td>\n",
       "      <td>BX07</td>\n",
       "      <td>39423</td>\n",
       "      <td>54.9</td>\n",
       "      <td>13.9</td>\n",
       "      <td>26.1</td>\n",
       "      <td>2.9</td>\n",
       "      <td>0.022</td>\n",
       "    </tr>\n",
       "  </tbody>\n",
       "</table>\n",
       "</div>"
      ],
      "text/plain": [
       "  Neighborhood Tabulation Area (NTA) Name NTA Code  populatio  Latino  \\\n",
       "0                      Claremont-Bathgate     BX01      35560    60.6   \n",
       "1         Eastchester-Edenwald-Baychester     BX03      37887    24.6   \n",
       "2              Bedford Park-Fordham North     BX05      57685    75.0   \n",
       "3                                 Belmont     BX06      29115    61.0   \n",
       "4                               Bronxdale     BX07      39423    54.9   \n",
       "\n",
       "   % White  % African American  % Asian  % Other  \n",
       "0      1.0                37.3      0.1    0.010  \n",
       "1      3.1                66.0      4.2    0.022  \n",
       "2      4.2                15.6      3.8    0.015  \n",
       "3     18.2                16.3      2.1    0.024  \n",
       "4     13.9                26.1      2.9    0.022  "
      ]
     },
     "execution_count": 15,
     "metadata": {},
     "output_type": "execute_result"
    }
   ],
   "source": [
    "nta_demographics_df = pd.read_excel('../data/Demographics_by_NTA.xlsx')\n",
    "nta_demographics_df.info()\n",
    "nta_demographics_df.head()"
   ]
  },
  {
   "attachments": {},
   "cell_type": "markdown",
   "metadata": {},
   "source": [
    "<em>Examined demographic data to compare populations across different neighborhoods.<em/>"
   ]
  },
  {
   "cell_type": "markdown",
   "metadata": {},
   "source": [
    "#### Cleaning Demographics Data"
   ]
  },
  {
   "cell_type": "code",
   "execution_count": 16,
   "metadata": {},
   "outputs": [],
   "source": [
    "nta_demographics_df.dropna(inplace=True)\n",
    "nta_demographics = nta_demographics_df.copy()[['Neighborhood Tabulation Area (NTA) Name','NTA Code','populatio']]\n",
    "nta_demographics.rename(columns={'Neighborhood Tabulation Area (NTA) Name': 'NTA Name', 'populatio': 'NTA Population'}, inplace=True)"
   ]
  },
  {
   "attachments": {},
   "cell_type": "markdown",
   "metadata": {},
   "source": [
    "<em>Dropped nulls and filtered columns needed for merging.<em/>"
   ]
  },
  {
   "cell_type": "markdown",
   "metadata": {},
   "source": [
    "#### Merging Dataframes"
   ]
  },
  {
   "cell_type": "code",
   "execution_count": 17,
   "metadata": {},
   "outputs": [
    {
     "data": {
      "text/html": [
       "<div>\n",
       "<style scoped>\n",
       "    .dataframe tbody tr th:only-of-type {\n",
       "        vertical-align: middle;\n",
       "    }\n",
       "\n",
       "    .dataframe tbody tr th {\n",
       "        vertical-align: top;\n",
       "    }\n",
       "\n",
       "    .dataframe thead th {\n",
       "        text-align: right;\n",
       "    }\n",
       "</style>\n",
       "<table border=\"1\" class=\"dataframe\">\n",
       "  <thead>\n",
       "    <tr style=\"text-align: right;\">\n",
       "      <th></th>\n",
       "      <th>Record ID</th>\n",
       "      <th>SchoolName</th>\n",
       "      <th>Number</th>\n",
       "      <th>Street</th>\n",
       "      <th>City</th>\n",
       "      <th>State</th>\n",
       "      <th>Borough</th>\n",
       "      <th>ZipCode</th>\n",
       "      <th>LastInspection</th>\n",
       "      <th>InspectionDate</th>\n",
       "      <th>Site Type</th>\n",
       "      <th>Level</th>\n",
       "      <th>Code</th>\n",
       "      <th>ViolationDescription</th>\n",
       "      <th>LATITUDE</th>\n",
       "      <th>LONGITUDE</th>\n",
       "      <th>CENSUSTRACT</th>\n",
       "      <th>NTA Code</th>\n",
       "      <th>Inspection event</th>\n",
       "      <th>School Type</th>\n",
       "      <th>NTA Name</th>\n",
       "      <th>NTA Population</th>\n",
       "      <th># of schools in NTA</th>\n",
       "    </tr>\n",
       "  </thead>\n",
       "  <tbody>\n",
       "    <tr>\n",
       "      <th>0</th>\n",
       "      <td>40542839</td>\n",
       "      <td>P.S. 127 MCKINLEY PARK, RALPH A. FABRIZIO SCHO...</td>\n",
       "      <td>7805</td>\n",
       "      <td>7 AVENUE</td>\n",
       "      <td>Brooklyn</td>\n",
       "      <td>NY</td>\n",
       "      <td>Brooklyn</td>\n",
       "      <td>11228.0</td>\n",
       "      <td>02/02/2023</td>\n",
       "      <td>07/28/2022</td>\n",
       "      <td>FSE (Public School Cafeteria)</td>\n",
       "      <td>NaN</td>\n",
       "      <td>NaN</td>\n",
       "      <td>no violation</td>\n",
       "      <td>40.624125</td>\n",
       "      <td>-74.018826</td>\n",
       "      <td>20600.0</td>\n",
       "      <td>BK30</td>\n",
       "      <td>40542839_07/28/2022</td>\n",
       "      <td>Public</td>\n",
       "      <td>Dyker Heights</td>\n",
       "      <td>43888</td>\n",
       "      <td>9</td>\n",
       "    </tr>\n",
       "    <tr>\n",
       "      <th>1</th>\n",
       "      <td>40542116</td>\n",
       "      <td>P.S. 135 SHELDON A. BROOKNER</td>\n",
       "      <td>684</td>\n",
       "      <td>LINDEN BOULEVARD</td>\n",
       "      <td>Brooklyn</td>\n",
       "      <td>NY</td>\n",
       "      <td>Brooklyn</td>\n",
       "      <td>11203.0</td>\n",
       "      <td>01/23/2023</td>\n",
       "      <td>11/17/2022</td>\n",
       "      <td>FSE (Public School Cafeteria)</td>\n",
       "      <td>C</td>\n",
       "      <td>04A</td>\n",
       "      <td>Food Protection Certificate (FPC) not held by ...</td>\n",
       "      <td>40.653633</td>\n",
       "      <td>-73.933114</td>\n",
       "      <td>87000.0</td>\n",
       "      <td>BK91</td>\n",
       "      <td>40542116_11/17/2022</td>\n",
       "      <td>Public</td>\n",
       "      <td>East Flatbush-Farragut</td>\n",
       "      <td>51922</td>\n",
       "      <td>14</td>\n",
       "    </tr>\n",
       "    <tr>\n",
       "      <th>2</th>\n",
       "      <td>40542900</td>\n",
       "      <td>PAN AMERICAN INTERNATIONAL HIGH SCHOOL AT MONR...</td>\n",
       "      <td>1300</td>\n",
       "      <td>BOYNTON AVENUE</td>\n",
       "      <td>Bronx</td>\n",
       "      <td>NY</td>\n",
       "      <td>Bronx</td>\n",
       "      <td>10472.0</td>\n",
       "      <td>03/09/2023</td>\n",
       "      <td>03/09/2023</td>\n",
       "      <td>FSE (Public School Cafeteria)</td>\n",
       "      <td>C</td>\n",
       "      <td>04L</td>\n",
       "      <td>Evidence of mice or live mice in establishment...</td>\n",
       "      <td>40.831594</td>\n",
       "      <td>-73.878911</td>\n",
       "      <td>5600.0</td>\n",
       "      <td>BX08</td>\n",
       "      <td>40542900_03/09/2023</td>\n",
       "      <td>Public</td>\n",
       "      <td>West Farms-Bronx River</td>\n",
       "      <td>36014</td>\n",
       "      <td>6</td>\n",
       "    </tr>\n",
       "    <tr>\n",
       "      <th>3</th>\n",
       "      <td>40541560</td>\n",
       "      <td>PS811M @ PS 149M, SUCCESS ACADEMY CHARTER-HARL...</td>\n",
       "      <td>34</td>\n",
       "      <td>WEST  118 STREET</td>\n",
       "      <td>New York</td>\n",
       "      <td>NY</td>\n",
       "      <td>Manhattan</td>\n",
       "      <td>10026.0</td>\n",
       "      <td>01/31/2023</td>\n",
       "      <td>08/01/2022</td>\n",
       "      <td>FSE (Public School Cafeteria)</td>\n",
       "      <td>C</td>\n",
       "      <td>04M</td>\n",
       "      <td>Live roaches in facility's food or non-food area.</td>\n",
       "      <td>40.802464</td>\n",
       "      <td>-73.946715</td>\n",
       "      <td>19000.0</td>\n",
       "      <td>MN11</td>\n",
       "      <td>40541560_08/01/2022</td>\n",
       "      <td>Public</td>\n",
       "      <td>Central Harlem South</td>\n",
       "      <td>51064</td>\n",
       "      <td>16</td>\n",
       "    </tr>\n",
       "    <tr>\n",
       "      <th>4</th>\n",
       "      <td>40542147</td>\n",
       "      <td>P.S. 244 RICHARD R. GREEN, BROOKLYN SCIENCE AN...</td>\n",
       "      <td>5400</td>\n",
       "      <td>TILDEN AVENUE</td>\n",
       "      <td>Brooklyn</td>\n",
       "      <td>NY</td>\n",
       "      <td>Brooklyn</td>\n",
       "      <td>11203.0</td>\n",
       "      <td>01/23/2023</td>\n",
       "      <td>07/19/2022</td>\n",
       "      <td>FSE (Public School Cafeteria)</td>\n",
       "      <td>C</td>\n",
       "      <td>04L</td>\n",
       "      <td>Evidence of mice or live mice in establishment...</td>\n",
       "      <td>40.648413</td>\n",
       "      <td>-73.925977</td>\n",
       "      <td>94600.0</td>\n",
       "      <td>BK96</td>\n",
       "      <td>40542147_07/19/2022</td>\n",
       "      <td>Public</td>\n",
       "      <td>Rugby-Remsen Village</td>\n",
       "      <td>54666</td>\n",
       "      <td>14</td>\n",
       "    </tr>\n",
       "  </tbody>\n",
       "</table>\n",
       "</div>"
      ],
      "text/plain": [
       "  Record ID                                         SchoolName Number  \\\n",
       "0  40542839  P.S. 127 MCKINLEY PARK, RALPH A. FABRIZIO SCHO...   7805   \n",
       "1  40542116                       P.S. 135 SHELDON A. BROOKNER    684   \n",
       "2  40542900  PAN AMERICAN INTERNATIONAL HIGH SCHOOL AT MONR...   1300   \n",
       "3  40541560  PS811M @ PS 149M, SUCCESS ACADEMY CHARTER-HARL...     34   \n",
       "4  40542147  P.S. 244 RICHARD R. GREEN, BROOKLYN SCIENCE AN...   5400   \n",
       "\n",
       "             Street      City State    Borough  ZipCode LastInspection  \\\n",
       "0          7 AVENUE  Brooklyn    NY   Brooklyn  11228.0     02/02/2023   \n",
       "1  LINDEN BOULEVARD  Brooklyn    NY   Brooklyn  11203.0     01/23/2023   \n",
       "2    BOYNTON AVENUE     Bronx    NY      Bronx  10472.0     03/09/2023   \n",
       "3  WEST  118 STREET  New York    NY  Manhattan  10026.0     01/31/2023   \n",
       "4     TILDEN AVENUE  Brooklyn    NY   Brooklyn  11203.0     01/23/2023   \n",
       "\n",
       "  InspectionDate                      Site Type Level Code  \\\n",
       "0     07/28/2022  FSE (Public School Cafeteria)   NaN  NaN   \n",
       "1     11/17/2022  FSE (Public School Cafeteria)     C  04A   \n",
       "2     03/09/2023  FSE (Public School Cafeteria)     C  04L   \n",
       "3     08/01/2022  FSE (Public School Cafeteria)     C  04M   \n",
       "4     07/19/2022  FSE (Public School Cafeteria)     C  04L   \n",
       "\n",
       "                                ViolationDescription   LATITUDE  LONGITUDE  \\\n",
       "0                                       no violation  40.624125 -74.018826   \n",
       "1  Food Protection Certificate (FPC) not held by ...  40.653633 -73.933114   \n",
       "2  Evidence of mice or live mice in establishment...  40.831594 -73.878911   \n",
       "3  Live roaches in facility's food or non-food area.  40.802464 -73.946715   \n",
       "4  Evidence of mice or live mice in establishment...  40.648413 -73.925977   \n",
       "\n",
       "   CENSUSTRACT NTA Code     Inspection event School Type  \\\n",
       "0      20600.0     BK30  40542839_07/28/2022      Public   \n",
       "1      87000.0     BK91  40542116_11/17/2022      Public   \n",
       "2       5600.0     BX08  40542900_03/09/2023      Public   \n",
       "3      19000.0     MN11  40541560_08/01/2022      Public   \n",
       "4      94600.0     BK96  40542147_07/19/2022      Public   \n",
       "\n",
       "                 NTA Name  NTA Population  # of schools in NTA  \n",
       "0           Dyker Heights           43888                    9  \n",
       "1  East Flatbush-Farragut           51922                   14  \n",
       "2  West Farms-Bronx River           36014                    6  \n",
       "3    Central Harlem South           51064                   16  \n",
       "4    Rugby-Remsen Village           54666                   14  "
      ]
     },
     "execution_count": 17,
     "metadata": {},
     "output_type": "execute_result"
    }
   ],
   "source": [
    "merged_df = df.merge(nta_demographics, on='NTA Code', how='inner')\n",
    "merged_df['# of schools in NTA'] = merged_df.groupby('NTA Code')['Record ID'].transform('nunique')\n",
    "merged_df.head(5)"
   ]
  },
  {
   "attachments": {},
   "cell_type": "markdown",
   "metadata": {},
   "source": [
    "<em>Merged the main dataset with demographics data and calculated the number of schools per NTA.<em/>"
   ]
  },
  {
   "cell_type": "markdown",
   "metadata": {},
   "source": [
    "#### Creating Inspection Event Count Column"
   ]
  },
  {
   "cell_type": "code",
   "execution_count": 18,
   "metadata": {},
   "outputs": [],
   "source": [
    "merged_df['InspectionEventCount'] = merged_df.groupby('Record ID')['Inspection event'].transform('count')"
   ]
  },
  {
   "attachments": {},
   "cell_type": "markdown",
   "metadata": {},
   "source": [
    "<em>Added a column to track how many times each school has been inspected.<em/>"
   ]
  },
  {
   "cell_type": "markdown",
   "metadata": {},
   "source": [
    "#### Transforming Violation Descriptions to Lowercase"
   ]
  },
  {
   "cell_type": "code",
   "execution_count": 19,
   "metadata": {},
   "outputs": [],
   "source": [
    "merged_df['ViolationDescription'] = merged_df['ViolationDescription'].str.lower()"
   ]
  },
  {
   "attachments": {},
   "cell_type": "markdown",
   "metadata": {},
   "source": [
    "<em>Normalized violation descriptions for consistent categorization.<em/>"
   ]
  },
  {
   "cell_type": "markdown",
   "metadata": {},
   "source": [
    "#### Grouping Violations into Categories"
   ]
  },
  {
   "attachments": {},
   "cell_type": "markdown",
   "metadata": {},
   "source": [
    "<em>To simplify the analysis, a dictionary was created to categorize violations into broader groups for easier interpretation.<em/>"
   ]
  },
  {
   "cell_type": "code",
   "execution_count": 20,
   "metadata": {},
   "outputs": [],
   "source": [
    "violations_labels_dict = {'Storage temperature': [\n",
    "'Cold food item held above 41º F',\n",
    "'Hot TCS food item not held at or above 140 °F',\n",
    "'Cold TCS food item held above 41 °F',\n",
    "'Hot food item not held at or above 140º F',\n",
    "'hot tcs food item that has been cooked and  cooled is being held for service without first being reheated'],\n",
    "\n",
    "'Food handling' : ['food not cooked to required minimum internal temperature',\n",
    "'Food not protected from potential source of contamination',\n",
    "'food is adulterated, contaminated',\n",
    "'Food not cooled by an approved method',\n",
    "'TCS food not cooled by an approved method',\n",
    "'TCS food removed from cold holding',\n",
    "'Thawing procedure improper',\n",
    "'thawing procedures improper',\n",
    "'contents are not suitable for human consumption',\n",
    "'Unclean or cracked whole eggs',\n",
    "'Raw food not properly washed',\n",
    "'chemical or pesticide improperly stored',\n",
    "'Food, supplies, and equipment not protected',\n",
    "'Food, supplies, or equipment not protected',\n",
    "'Canned food product observed swollen',\n",
    "'Canned food product observed dented',\n",
    "'damaged canned food to be returned to distributor not segregated'],\n",
    "\n",
    "'Mice, rats, vermin': ['Mice',\n",
    "'Rats',\n",
    "'Live animal',\n",
    "'Vermin'],\n",
    "\n",
    "'Insects, pests': ['roaches',\n",
    "'flies',\n",
    "'insects',\n",
    "'pests'],\n",
    "\n",
    "'Facility': ['Plumbing not properly installed',\n",
    "'Non-food contact surface improperly constructed',\n",
    "'sewage disposal system',\n",
    "'Sanitized equipment or utensil',\n",
    "'Lighting Inadequate',\n",
    "'Toilet facility not maintained',\n",
    "'Toilet facility not provided',\n",
    "'No facilities available to wash',\n",
    "'Mechanical or natural ventilation not provided',\n",
    "'mechanical or natural ventilation system not provided',\n",
    "'facility not free from unsafe, hazardous, offensive or annoying condition',\n",
    "'Bulb not shielded or shatterproof, in areas where there is extreme heat',\n",
    "'contaminated by sewage or liquid waste',\n",
    "'Failure to comply with an Order of the Board of Health',\n",
    "'Lighting fixture',\n",
    "'noxious gas or vapor detected'],\n",
    "\n",
    "'Equipment issues':['Non-food contact surface or equipment',\n",
    "'thermometer not provided',\n",
    "'Single service item reused',\n",
    "'Proper sanitization not provided',\n",
    "'thermometer or thermocouple not provided',\n",
    "'Food contact surface not properly washed',\n",
    "'Food contact surface not properly maintained',\n",
    "'Single service article reused or not protected',\n",
    "'expanded polystyrene',\n",
    "'maintenance of food contact surface improper',\n",
    "'Cleaning and sanitizing of tableware, including dishes, utensils, and equipment deficient',\n",
    "'Garbage receptacle not pest or water resistant'],\n",
    "\n",
    "'General Hygiene': ['chemical improperly used',\n",
    "'Hand washing facility not provided',\n",
    "'Prohibited chemical used',\n",
    "'No hand washing facility',\n",
    "'Wiping cloths not stored clean',\n",
    "'Wiping cloths soiled'],\n",
    "\n",
    "'Personal Hygiene': ['worker does not wash hands thoroughly',\n",
    "'eating, or drinking from open container in food preparation',\n",
    "'vendor does not use utensil or other barrier to eliminate bare hand contact with food that will not receive adequate additional heat treatment',\n",
    "'Personal cleanliness is inadequate',\n",
    "'personal cleanliness inadequate'],\n",
    "\n",
    "'Documents and Signs': ['Food protection certificate',\n",
    "'Current valid permit',\n",
    "'sign not posted',\n",
    "'Establishment permit',\n",
    "'Written Standard Operating Procedure',\n",
    "'chemical improperly labeled',\n",
    "'allergy information poster not conspicuously posted',\n",
    "'acceptable manufacturer’s documentation not maintained on site',\n",
    "'Document issued by the Board of Health',\n",
    "'Permit not conspicuously displayed',\n",
    "'nutritional information statement not posted',\n",
    "'Food Protection Certificate']}\n"
   ]
  },
  {
   "cell_type": "code",
   "execution_count": 21,
   "metadata": {},
   "outputs": [],
   "source": [
    "#transforming the dictionary to lower case \n",
    "lowercase_dict = {k: [v.lower() for v in values] for k, values in violations_labels_dict.items()}"
   ]
  },
  {
   "cell_type": "markdown",
   "metadata": {},
   "source": [
    "#### Function to check if a violation description is contained in the dictionary values"
   ]
  },
  {
   "cell_type": "code",
   "execution_count": 22,
   "metadata": {},
   "outputs": [],
   "source": [
    "\n",
    "def get_violation_label(description):\n",
    "    if isinstance(description, float):\n",
    "        return None  # Return None if the description is a float value\n",
    "    for label, descriptions in lowercase_dict.items():\n",
    "        if any(desc in description for desc in descriptions):\n",
    "            return label\n",
    "    return None"
   ]
  },
  {
   "cell_type": "markdown",
   "metadata": {},
   "source": [
    "#### Applying the function to create a 'ViolationLabel' column"
   ]
  },
  {
   "cell_type": "code",
   "execution_count": 23,
   "metadata": {},
   "outputs": [
    {
     "name": "stdout",
     "output_type": "stream",
     "text": [
      "ViolationLabel\n",
      "Facility               2395\n",
      "Equipment issues       1607\n",
      "Mice, rats, vermin     1044\n",
      "Documents and Signs     807\n",
      "Insects, pests          783\n",
      "Food handling           471\n",
      "Storage temperature     284\n",
      "General Hygiene         227\n",
      "Personal Hygiene         44\n",
      "Name: count, dtype: int64\n"
     ]
    }
   ],
   "source": [
    "merged_df['ViolationLabel'] = merged_df['ViolationDescription'].apply(lambda x: get_violation_label(x))\n",
    "print(merged_df['ViolationLabel'].value_counts())"
   ]
  },
  {
   "cell_type": "markdown",
   "metadata": {},
   "source": [
    "*Created a new 'ViolationLabel' column to categorize violations based on the defined dictionary.*"
   ]
  },
  {
   "cell_type": "markdown",
   "metadata": {},
   "source": [
    "#### Saving Cleaned Data to CSV"
   ]
  },
  {
   "cell_type": "code",
   "execution_count": 24,
   "metadata": {
    "collapsed": true,
    "jupyter": {
     "outputs_hidden": true
    },
    "scrolled": true
   },
   "outputs": [],
   "source": [
    "#Saving the cleaned and labeled DataFrame to a CSV file\n",
    "merged_df.to_csv('../data/clean_data_labels.csv', index=False)"
   ]
  },
  {
   "cell_type": "markdown",
   "metadata": {},
   "source": [
    "*I saved the dataframe containing all fo the cleaned data into a separate CSV file available in the data folder of this project's repository. This file was used for further visualization in Tableau.*"
   ]
  },
  {
   "attachments": {},
   "cell_type": "markdown",
   "metadata": {},
   "source": [
    "## Exploratory Dataset Analysis\n",
    "EDA is conducted using Pandas, SQL and visualization using Seaborn and Matplotlib."
   ]
  },
  {
   "cell_type": "markdown",
   "metadata": {},
   "source": [
    "#### Comparison of Violations by Borough and School Type\n",
    "This visualization provides a side-by-side comparison of total violations and critical violations (Level C) across boroughs, categorized by Public and Private schools. This comparison helps identify which boroughs and school types have higher proportions of critical violations.\n",
    "\n",
    "The data is presented in absolute counts, without standardization, to reflect the real number of violations recorded per category.\n"
   ]
  },
  {
   "cell_type": "code",
   "execution_count": 82,
   "metadata": {},
   "outputs": [
    {
     "data": {
      "image/png": "[encoded data removed]",
      "text/plain": [
       "<Figure size 1200x600 with 1 Axes>"
      ]
     },
     "metadata": {},
     "output_type": "display_data"
    }
   ],
   "source": [
    "import matplotlib.pyplot as plt\n",
    "import seaborn as sns\n",
    "import numpy as np\n",
    "\n",
    "# Calculate total violations per borough and school type\n",
    "borough_school_counts = merged_df.groupby([\"Borough\", \"School Type\"]).size().unstack(fill_value=0)\n",
    "\n",
    "# Calculate Level C violations per borough and school type\n",
    "level_c_school_counts = merged_df[merged_df[\"Level\"] == \"C\"].groupby([\"Borough\", \"School Type\"]).size().unstack(fill_value=0)\n",
    "\n",
    "# Fill missing values with 0\n",
    "borough_school_counts = borough_school_counts.fillna(0)\n",
    "level_c_school_counts = level_c_school_counts.fillna(0)\n",
    "\n",
    "# Convert to DataFrame for plotting\n",
    "borough_school_df = borough_school_counts.copy()\n",
    "borough_school_df[\"Public Critical Violations\"] = level_c_school_counts.get(\"Public\", 0)\n",
    "borough_school_df[\"Private Critical Violations\"] = level_c_school_counts.get(\"Private\", 0)\n",
    "\n",
    "# Reset index to keep \"Borough\" as a column\n",
    "borough_school_df = borough_school_df.reset_index()\n",
    "\n",
    "# Rename columns for clarity\n",
    "borough_school_df = borough_school_df.rename(columns={\"Public\": \"Public Total Violations\", \"Private\": \"Private Total Violations\"})\n",
    "\n",
    "# Set up the side-by-side bar chart\n",
    "fig, ax = plt.subplots(figsize=(12, 6))\n",
    "\n",
    "bar_width = 0.4  # Space bars slightly apart\n",
    "boroughs = np.arange(len(borough_school_df[\"Borough\"]))\n",
    "\n",
    "# Plot total violations (gray for other violations)\n",
    "bars1 = ax.bar(boroughs - bar_width/2, \n",
    "       borough_school_df[\"Public Total Violations\"] - borough_school_df[\"Public Critical Violations\"], \n",
    "       width=bar_width, color=\"gray\")\n",
    "\n",
    "bars2 = ax.bar(boroughs + bar_width/2, \n",
    "       borough_school_df[\"Private Total Violations\"] - borough_school_df[\"Private Critical Violations\"], \n",
    "       width=bar_width, color=\"gray\")\n",
    "\n",
    "# Overlay Critical Violations (red)\n",
    "bars3 = ax.bar(boroughs - bar_width/2, borough_school_df[\"Public Critical Violations\"], width=bar_width, color=\"darkred\")\n",
    "bars4 = ax.bar(boroughs + bar_width/2, borough_school_df[\"Private Critical Violations\"], width=bar_width, color=\"darkred\")\n",
    "\n",
    "# Add labels **underneath** the bars to differentiate Public and Private\n",
    "for borough, x_pos in zip(borough_school_df[\"Borough\"], boroughs):\n",
    "    ax.text(x_pos - bar_width/2, -50, \"Public\", ha=\"center\", fontsize=10, color=\"black\", transform=ax.transData)\n",
    "    ax.text(x_pos + bar_width/2, -50, \"Private\", ha=\"center\", fontsize=10, color=\"black\", transform=ax.transData)\n",
    "\n",
    "# Final touches\n",
    "ax.set_xticks(boroughs)\n",
    "ax.set_xticklabels(borough_school_df[\"Borough\"], rotation=30)\n",
    "plt.title(\"Total Violations by Borough and School Type (Red = Critical Violations)\")\n",
    "plt.xlabel(\"Borough\")\n",
    "plt.ylabel(\"Total Violations\")\n",
    "\n",
    "# Update legend to show only two categories: Critical Violations and Other Violations\n",
    "handles = [\n",
    "    plt.Rectangle((0,0),1,1, color=\"gray\", label=\"Other Violations\"),\n",
    "    plt.Rectangle((0,0),1,1, color=\"darkred\", label=\"Critical Violations\")\n",
    "]\n",
    "\n",
    "plt.legend(handles=handles)\n",
    "plt.show()\n"
   ]
  },
  {
   "cell_type": "markdown",
   "metadata": {},
   "source": [
    "#### SQLite Database Integration"
   ]
  },
  {
   "cell_type": "code",
   "execution_count": 22,
   "metadata": {},
   "outputs": [],
   "source": [
    "# Instantiating SQLite connection and database \n",
    "conn = sqlite3.Connection(\"data.sqlite\")\n",
    "db_path = '../data/school_database.db'  # Name of your SQLite database file\n",
    "connection = sqlite3.connect(db_path)\n",
    "table_name = 'schools'  # Table name                                                                                                                                    \n",
    "merged_df.to_sql(table_name, connection, if_exists='replace', index=False) \n",
    "connection.commit()"
   ]
  },
  {
   "cell_type": "markdown",
   "metadata": {},
   "source": [
    "*Integrated the cleaned data into an SQLite database for advanced querying.*"
   ]
  },
  {
   "cell_type": "markdown",
   "metadata": {},
   "source": [
    "#### Number of Private and Public Schools"
   ]
  },
  {
   "cell_type": "code",
   "execution_count": 26,
   "metadata": {
    "scrolled": true
   },
   "outputs": [
    {
     "data": {
      "text/html": [
       "<div>\n",
       "<style scoped>\n",
       "    .dataframe tbody tr th:only-of-type {\n",
       "        vertical-align: middle;\n",
       "    }\n",
       "\n",
       "    .dataframe tbody tr th {\n",
       "        vertical-align: top;\n",
       "    }\n",
       "\n",
       "    .dataframe thead th {\n",
       "        text-align: right;\n",
       "    }\n",
       "</style>\n",
       "<table border=\"1\" class=\"dataframe\">\n",
       "  <thead>\n",
       "    <tr style=\"text-align: right;\">\n",
       "      <th></th>\n",
       "      <th>School Type</th>\n",
       "      <th>count</th>\n",
       "    </tr>\n",
       "  </thead>\n",
       "  <tbody>\n",
       "    <tr>\n",
       "      <th>0</th>\n",
       "      <td>Private</td>\n",
       "      <td>710</td>\n",
       "    </tr>\n",
       "    <tr>\n",
       "      <th>1</th>\n",
       "      <td>Public</td>\n",
       "      <td>1358</td>\n",
       "    </tr>\n",
       "  </tbody>\n",
       "</table>\n",
       "</div>"
      ],
      "text/plain": [
       "  School Type  count\n",
       "0     Private    710\n",
       "1      Public   1358"
      ]
     },
     "execution_count": 26,
     "metadata": {},
     "output_type": "execute_result"
    }
   ],
   "source": [
    "#How many private and public schools are in our data?\n",
    "\n",
    "query = \"\"\"\n",
    "SELECT `School Type`, COUNT(DISTINCT `Record ID`) count\n",
    "FROM schools\n",
    "GROUP BY `School Type`;\n",
    "\"\"\"\n",
    "pd.read_sql(query, connection)"
   ]
  },
  {
   "cell_type": "markdown",
   "metadata": {},
   "source": [
    "#### Average Number of Violations per School"
   ]
  },
  {
   "cell_type": "code",
   "execution_count": 27,
   "metadata": {},
   "outputs": [
    {
     "data": {
      "text/plain": [
       "3.71"
      ]
     },
     "execution_count": 27,
     "metadata": {},
     "output_type": "execute_result"
    }
   ],
   "source": [
    "round(len(merged_df[merged_df['Level'].notna()])/len(merged_df['Record ID'].unique()), 2)"
   ]
  },
  {
   "cell_type": "markdown",
   "metadata": {},
   "source": [
    "#### Total Count of Violations by Level"
   ]
  },
  {
   "cell_type": "code",
   "execution_count": 28,
   "metadata": {
    "scrolled": true
   },
   "outputs": [
    {
     "data": {
      "text/html": [
       "<div>\n",
       "<style scoped>\n",
       "    .dataframe tbody tr th:only-of-type {\n",
       "        vertical-align: middle;\n",
       "    }\n",
       "\n",
       "    .dataframe tbody tr th {\n",
       "        vertical-align: top;\n",
       "    }\n",
       "\n",
       "    .dataframe thead th {\n",
       "        text-align: right;\n",
       "    }\n",
       "</style>\n",
       "<table border=\"1\" class=\"dataframe\">\n",
       "  <thead>\n",
       "    <tr style=\"text-align: right;\">\n",
       "      <th></th>\n",
       "      <th>Level</th>\n",
       "      <th>ViolationCount</th>\n",
       "    </tr>\n",
       "  </thead>\n",
       "  <tbody>\n",
       "    <tr>\n",
       "      <th>0</th>\n",
       "      <td>G</td>\n",
       "      <td>4738</td>\n",
       "    </tr>\n",
       "    <tr>\n",
       "      <th>1</th>\n",
       "      <td>None</td>\n",
       "      <td>3003</td>\n",
       "    </tr>\n",
       "    <tr>\n",
       "      <th>2</th>\n",
       "      <td>C</td>\n",
       "      <td>2125</td>\n",
       "    </tr>\n",
       "    <tr>\n",
       "      <th>3</th>\n",
       "      <td>AV</td>\n",
       "      <td>472</td>\n",
       "    </tr>\n",
       "    <tr>\n",
       "      <th>4</th>\n",
       "      <td>CH</td>\n",
       "      <td>186</td>\n",
       "    </tr>\n",
       "    <tr>\n",
       "      <th>5</th>\n",
       "      <td>CP</td>\n",
       "      <td>58</td>\n",
       "    </tr>\n",
       "    <tr>\n",
       "      <th>6</th>\n",
       "      <td>A</td>\n",
       "      <td>57</td>\n",
       "    </tr>\n",
       "    <tr>\n",
       "      <th>7</th>\n",
       "      <td>NV</td>\n",
       "      <td>26</td>\n",
       "    </tr>\n",
       "  </tbody>\n",
       "</table>\n",
       "</div>"
      ],
      "text/plain": [
       "  Level  ViolationCount\n",
       "0     G            4738\n",
       "1  None            3003\n",
       "2     C            2125\n",
       "3    AV             472\n",
       "4    CH             186\n",
       "5    CP              58\n",
       "6     A              57\n",
       "7    NV              26"
      ]
     },
     "execution_count": 28,
     "metadata": {},
     "output_type": "execute_result"
    }
   ],
   "source": [
    "query = \"\"\"\n",
    "SELECT Level, COUNT(*) as ViolationCount\n",
    "FROM schools\n",
    "GROUP BY Level\n",
    "ORDER BY ViolationCount DESC;\n",
    "\"\"\"\n",
    "pd.read_sql(query, connection)"
   ]
  },
  {
   "cell_type": "markdown",
   "metadata": {},
   "source": [
    "#### Unique Critical and General Violations"
   ]
  },
  {
   "cell_type": "code",
   "execution_count": 29,
   "metadata": {},
   "outputs": [
    {
     "data": {
      "text/html": [
       "<div>\n",
       "<style scoped>\n",
       "    .dataframe tbody tr th:only-of-type {\n",
       "        vertical-align: middle;\n",
       "    }\n",
       "\n",
       "    .dataframe tbody tr th {\n",
       "        vertical-align: top;\n",
       "    }\n",
       "\n",
       "    .dataframe thead th {\n",
       "        text-align: right;\n",
       "    }\n",
       "</style>\n",
       "<table border=\"1\" class=\"dataframe\">\n",
       "  <thead>\n",
       "    <tr style=\"text-align: right;\">\n",
       "      <th></th>\n",
       "      <th>TotalViolations</th>\n",
       "      <th>CriticalViolations</th>\n",
       "      <th>GeneralViolations</th>\n",
       "    </tr>\n",
       "  </thead>\n",
       "  <tbody>\n",
       "    <tr>\n",
       "      <th>0</th>\n",
       "      <td>98</td>\n",
       "      <td>37</td>\n",
       "      <td>29</td>\n",
       "    </tr>\n",
       "  </tbody>\n",
       "</table>\n",
       "</div>"
      ],
      "text/plain": [
       "   TotalViolations  CriticalViolations  GeneralViolations\n",
       "0               98                  37                 29"
      ]
     },
     "execution_count": 29,
     "metadata": {},
     "output_type": "execute_result"
    }
   ],
   "source": [
    "# Number of unique critical and general violations\n",
    "\n",
    "query = \"\"\"\n",
    "SELECT\n",
    "(SELECT COUNT(DISTINCT ViolationDescription) \n",
    "FROM schools) as TotalViolations,\n",
    "(SELECT COUNT(DISTINCT ViolationDescription)\n",
    "FROM schools\n",
    "WHERE Level = 'C') as CriticalViolations,\n",
    "(SELECT COUNT(DISTINCT ViolationDescription) \n",
    "FROM schools\n",
    "WHERE Level = 'G') as GeneralViolations\n",
    ";\n",
    "\"\"\"\n",
    "pd.read_sql(query, connection)"
   ]
  },
  {
   "cell_type": "markdown",
   "metadata": {},
   "source": [
    "#### Number of Violations by School Type"
   ]
  },
  {
   "cell_type": "code",
   "execution_count": 30,
   "metadata": {},
   "outputs": [
    {
     "data": {
      "text/html": [
       "<div>\n",
       "<style scoped>\n",
       "    .dataframe tbody tr th:only-of-type {\n",
       "        vertical-align: middle;\n",
       "    }\n",
       "\n",
       "    .dataframe tbody tr th {\n",
       "        vertical-align: top;\n",
       "    }\n",
       "\n",
       "    .dataframe thead th {\n",
       "        text-align: right;\n",
       "    }\n",
       "</style>\n",
       "<table border=\"1\" class=\"dataframe\">\n",
       "  <thead>\n",
       "    <tr style=\"text-align: right;\">\n",
       "      <th></th>\n",
       "      <th>School Type</th>\n",
       "      <th>ViolationsCount</th>\n",
       "    </tr>\n",
       "  </thead>\n",
       "  <tbody>\n",
       "    <tr>\n",
       "      <th>0</th>\n",
       "      <td>Public</td>\n",
       "      <td>3848</td>\n",
       "    </tr>\n",
       "    <tr>\n",
       "      <th>1</th>\n",
       "      <td>Private</td>\n",
       "      <td>3814</td>\n",
       "    </tr>\n",
       "  </tbody>\n",
       "</table>\n",
       "</div>"
      ],
      "text/plain": [
       "  School Type  ViolationsCount\n",
       "0      Public             3848\n",
       "1     Private             3814"
      ]
     },
     "execution_count": 30,
     "metadata": {},
     "output_type": "execute_result"
    }
   ],
   "source": [
    "query = \"\"\"\n",
    "SELECT \n",
    "       \"School Type\", \n",
    "       COUNT(*) as ViolationsCount\n",
    "FROM schools\n",
    "WHERE ViolationDescription != 'no violation'\n",
    "GROUP BY \"School Type\"\n",
    "ORDER BY ViolationsCount DESC;\n",
    "\"\"\"\n",
    "pd.read_sql(query, connection)\n"
   ]
  },
  {
   "cell_type": "markdown",
   "metadata": {},
   "source": [
    "#### Distribution of Critical and General Violations per School Type"
   ]
  },
  {
   "cell_type": "code",
   "execution_count": 31,
   "metadata": {},
   "outputs": [
    {
     "data": {
      "text/html": [
       "<div>\n",
       "<style scoped>\n",
       "    .dataframe tbody tr th:only-of-type {\n",
       "        vertical-align: middle;\n",
       "    }\n",
       "\n",
       "    .dataframe tbody tr th {\n",
       "        vertical-align: top;\n",
       "    }\n",
       "\n",
       "    .dataframe thead th {\n",
       "        text-align: right;\n",
       "    }\n",
       "</style>\n",
       "<table border=\"1\" class=\"dataframe\">\n",
       "  <thead>\n",
       "    <tr style=\"text-align: right;\">\n",
       "      <th></th>\n",
       "      <th>School Type</th>\n",
       "      <th>TotalViolations</th>\n",
       "      <th>CriticalViolations</th>\n",
       "      <th>GeneralViolations</th>\n",
       "    </tr>\n",
       "  </thead>\n",
       "  <tbody>\n",
       "    <tr>\n",
       "      <th>0</th>\n",
       "      <td>Private</td>\n",
       "      <td>3814</td>\n",
       "      <td>1199</td>\n",
       "      <td>2041</td>\n",
       "    </tr>\n",
       "    <tr>\n",
       "      <th>1</th>\n",
       "      <td>Public</td>\n",
       "      <td>3848</td>\n",
       "      <td>926</td>\n",
       "      <td>2697</td>\n",
       "    </tr>\n",
       "  </tbody>\n",
       "</table>\n",
       "</div>"
      ],
      "text/plain": [
       "  School Type  TotalViolations  CriticalViolations  GeneralViolations\n",
       "0     Private             3814                1199               2041\n",
       "1      Public             3848                 926               2697"
      ]
     },
     "execution_count": 31,
     "metadata": {},
     "output_type": "execute_result"
    }
   ],
   "source": [
    "query = \"\"\"\n",
    "SELECT\n",
    "    `School Type`,\n",
    "    COUNT(ViolationDescription) as TotalViolations,\n",
    "    COUNT(CASE WHEN Level = 'C' THEN ViolationDescription ELSE NULL END) as CriticalViolations,\n",
    "    COUNT(CASE WHEN Level = 'G' THEN ViolationDescription ELSE NULL END) as GeneralViolations\n",
    "\n",
    "FROM schools \n",
    "WHERE ViolationDescription != 'no violation'\n",
    "GROUP BY `School Type`\n",
    "\n",
    "\n",
    "\n",
    "ORDER BY `School Type`;\n",
    "\n",
    "\"\"\"\n",
    "\n",
    "pd.read_sql(query, connection)"
   ]
  },
  {
   "cell_type": "markdown",
   "metadata": {},
   "source": [
    "#### Ratio of Critical and General Violations to All Violations by School Type"
   ]
  },
  {
   "cell_type": "code",
   "execution_count": 32,
   "metadata": {},
   "outputs": [
    {
     "data": {
      "text/html": [
       "<div>\n",
       "<style scoped>\n",
       "    .dataframe tbody tr th:only-of-type {\n",
       "        vertical-align: middle;\n",
       "    }\n",
       "\n",
       "    .dataframe tbody tr th {\n",
       "        vertical-align: top;\n",
       "    }\n",
       "\n",
       "    .dataframe thead th {\n",
       "        text-align: right;\n",
       "    }\n",
       "</style>\n",
       "<table border=\"1\" class=\"dataframe\">\n",
       "  <thead>\n",
       "    <tr style=\"text-align: right;\">\n",
       "      <th></th>\n",
       "      <th>School Type</th>\n",
       "      <th>CriticalViolationsRatio</th>\n",
       "      <th>GeneralViolationsRatio</th>\n",
       "    </tr>\n",
       "  </thead>\n",
       "  <tbody>\n",
       "    <tr>\n",
       "      <th>0</th>\n",
       "      <td>Private</td>\n",
       "      <td>0.31</td>\n",
       "      <td>0.54</td>\n",
       "    </tr>\n",
       "    <tr>\n",
       "      <th>1</th>\n",
       "      <td>Public</td>\n",
       "      <td>0.24</td>\n",
       "      <td>0.70</td>\n",
       "    </tr>\n",
       "  </tbody>\n",
       "</table>\n",
       "</div>"
      ],
      "text/plain": [
       "  School Type  CriticalViolationsRatio  GeneralViolationsRatio\n",
       "0     Private                     0.31                    0.54\n",
       "1      Public                     0.24                    0.70"
      ]
     },
     "execution_count": 32,
     "metadata": {},
     "output_type": "execute_result"
    }
   ],
   "source": [
    "query = \"\"\"\n",
    "SELECT\n",
    "    `School Type`,\n",
    "    ROUND(CAST(COUNT(CASE WHEN Level = 'C' THEN ViolationDescription ELSE NULL END) AS FLOAT) / (COUNT(*)), 2) as CriticalViolationsRatio,\n",
    "    ROUND(CAST(COUNT(CASE WHEN Level = 'G' THEN ViolationDescription ELSE NULL END) AS FLOAT) / COUNT(*), 2) as GeneralViolationsRatio\n",
    "\n",
    "FROM \n",
    "\n",
    "schools\n",
    "WHERE ViolationDescription != 'no violation'\n",
    "\n",
    "GROUP BY `School Type`\n",
    "ORDER BY `School Type`;\n",
    "\n",
    "\"\"\"\n",
    "\n",
    "pd.read_sql(query, connection)"
   ]
  },
  {
   "cell_type": "markdown",
   "metadata": {},
   "source": [
    "#### Average Number of Violations per School by School Type"
   ]
  },
  {
   "cell_type": "code",
   "execution_count": 33,
   "metadata": {},
   "outputs": [
    {
     "data": {
      "text/html": [
       "<div>\n",
       "<style scoped>\n",
       "    .dataframe tbody tr th:only-of-type {\n",
       "        vertical-align: middle;\n",
       "    }\n",
       "\n",
       "    .dataframe tbody tr th {\n",
       "        vertical-align: top;\n",
       "    }\n",
       "\n",
       "    .dataframe thead th {\n",
       "        text-align: right;\n",
       "    }\n",
       "</style>\n",
       "<table border=\"1\" class=\"dataframe\">\n",
       "  <thead>\n",
       "    <tr style=\"text-align: right;\">\n",
       "      <th></th>\n",
       "      <th>School Type</th>\n",
       "      <th>avg_critical</th>\n",
       "      <th>avg_general</th>\n",
       "    </tr>\n",
       "  </thead>\n",
       "  <tbody>\n",
       "    <tr>\n",
       "      <th>0</th>\n",
       "      <td>Private</td>\n",
       "      <td>1.93</td>\n",
       "      <td>3.29</td>\n",
       "    </tr>\n",
       "    <tr>\n",
       "      <th>1</th>\n",
       "      <td>Public</td>\n",
       "      <td>0.84</td>\n",
       "      <td>2.45</td>\n",
       "    </tr>\n",
       "  </tbody>\n",
       "</table>\n",
       "</div>"
      ],
      "text/plain": [
       "  School Type  avg_critical  avg_general\n",
       "0     Private          1.93         3.29\n",
       "1      Public          0.84         2.45"
      ]
     },
     "execution_count": 33,
     "metadata": {},
     "output_type": "execute_result"
    }
   ],
   "source": [
    "query = \"\"\"\n",
    "SELECT\n",
    "    `School Type`,\n",
    "    \n",
    "    ROUND(CAST(COUNT(CASE WHEN Level = 'C' THEN ViolationDescription ELSE NULL END) AS FLOAT) /\n",
    "    COUNT(DISTINCT \"Record ID\"), 2) as avg_critical,\n",
    "\n",
    "    ROUND(CAST(COUNT(CASE WHEN Level = 'G' THEN ViolationDescription ELSE NULL END) AS FLOAT)/ \n",
    "    COUNT(DISTINCT \"Record ID\"), 2) as avg_general\n",
    "FROM schools\n",
    "WHERE Level != 'no violation'\n",
    "GROUP BY `School Type`\n",
    "ORDER BY `School Type`\n",
    "\n",
    ";\n",
    "\"\"\"\n",
    "\n",
    "pd.read_sql(query, connection)\n",
    "\n"
   ]
  },
  {
   "cell_type": "markdown",
   "metadata": {},
   "source": [
    "#### Top 10 Critical Violation Categories"
   ]
  },
  {
   "cell_type": "code",
   "execution_count": 34,
   "metadata": {},
   "outputs": [
    {
     "data": {
      "text/html": [
       "<div>\n",
       "<style scoped>\n",
       "    .dataframe tbody tr th:only-of-type {\n",
       "        vertical-align: middle;\n",
       "    }\n",
       "\n",
       "    .dataframe tbody tr th {\n",
       "        vertical-align: top;\n",
       "    }\n",
       "\n",
       "    .dataframe thead th {\n",
       "        text-align: right;\n",
       "    }\n",
       "</style>\n",
       "<table border=\"1\" class=\"dataframe\">\n",
       "  <thead>\n",
       "    <tr style=\"text-align: right;\">\n",
       "      <th></th>\n",
       "      <th>ViolationLabel</th>\n",
       "      <th>Count</th>\n",
       "    </tr>\n",
       "  </thead>\n",
       "  <tbody>\n",
       "    <tr>\n",
       "      <th>0</th>\n",
       "      <td>Facility</td>\n",
       "      <td>2222</td>\n",
       "    </tr>\n",
       "    <tr>\n",
       "      <th>1</th>\n",
       "      <td>Equipment issues</td>\n",
       "      <td>1309</td>\n",
       "    </tr>\n",
       "    <tr>\n",
       "      <th>2</th>\n",
       "      <td>Insects, pests</td>\n",
       "      <td>476</td>\n",
       "    </tr>\n",
       "    <tr>\n",
       "      <th>3</th>\n",
       "      <td>Mice, rats, vermin</td>\n",
       "      <td>353</td>\n",
       "    </tr>\n",
       "    <tr>\n",
       "      <th>4</th>\n",
       "      <td>Food handling</td>\n",
       "      <td>172</td>\n",
       "    </tr>\n",
       "    <tr>\n",
       "      <th>5</th>\n",
       "      <td>General Hygiene</td>\n",
       "      <td>121</td>\n",
       "    </tr>\n",
       "    <tr>\n",
       "      <th>6</th>\n",
       "      <td>Documents and Signs</td>\n",
       "      <td>85</td>\n",
       "    </tr>\n",
       "  </tbody>\n",
       "</table>\n",
       "</div>"
      ],
      "text/plain": [
       "        ViolationLabel  Count\n",
       "0             Facility   2222\n",
       "1     Equipment issues   1309\n",
       "2       Insects, pests    476\n",
       "3   Mice, rats, vermin    353\n",
       "4        Food handling    172\n",
       "5      General Hygiene    121\n",
       "6  Documents and Signs     85"
      ]
     },
     "execution_count": 34,
     "metadata": {},
     "output_type": "execute_result"
    }
   ],
   "source": [
    "query = \"\"\"\n",
    "SELECT DISTINCT ViolationLabel, COUNT(*) AS Count\n",
    "FROM schools\n",
    "WHERE Level = 'G'\n",
    "GROUP BY ViolationLabel\n",
    "ORDER BY Count DESC\n",
    ";\n",
    "\"\"\"\n",
    "pd.read_sql(query, connection)"
   ]
  },
  {
   "cell_type": "markdown",
   "metadata": {},
   "source": [
    "#### Top 10 Critical Violations types"
   ]
  },
  {
   "cell_type": "code",
   "execution_count": 35,
   "metadata": {},
   "outputs": [
    {
     "data": {
      "text/html": [
       "<div>\n",
       "<style scoped>\n",
       "    .dataframe tbody tr th:only-of-type {\n",
       "        vertical-align: middle;\n",
       "    }\n",
       "\n",
       "    .dataframe tbody tr th {\n",
       "        vertical-align: top;\n",
       "    }\n",
       "\n",
       "    .dataframe thead th {\n",
       "        text-align: right;\n",
       "    }\n",
       "</style>\n",
       "<table border=\"1\" class=\"dataframe\">\n",
       "  <thead>\n",
       "    <tr style=\"text-align: right;\">\n",
       "      <th></th>\n",
       "      <th>ViolationDescription</th>\n",
       "      <th>cnt_violations</th>\n",
       "    </tr>\n",
       "  </thead>\n",
       "  <tbody>\n",
       "    <tr>\n",
       "      <th>0</th>\n",
       "      <td>evidence of mice or live mice in establishment...</td>\n",
       "      <td>393</td>\n",
       "    </tr>\n",
       "    <tr>\n",
       "      <th>1</th>\n",
       "      <td>evidence of mice or live mice present in facil...</td>\n",
       "      <td>288</td>\n",
       "    </tr>\n",
       "    <tr>\n",
       "      <th>2</th>\n",
       "      <td>food protection certificate not held by superv...</td>\n",
       "      <td>206</td>\n",
       "    </tr>\n",
       "    <tr>\n",
       "      <th>3</th>\n",
       "      <td>food contact surface not properly washed, rins...</td>\n",
       "      <td>151</td>\n",
       "    </tr>\n",
       "    <tr>\n",
       "      <th>4</th>\n",
       "      <td>food protection certificate (fpc) not held by ...</td>\n",
       "      <td>145</td>\n",
       "    </tr>\n",
       "    <tr>\n",
       "      <th>5</th>\n",
       "      <td>filth flies or food/refuse/sewage associated w...</td>\n",
       "      <td>129</td>\n",
       "    </tr>\n",
       "    <tr>\n",
       "      <th>6</th>\n",
       "      <td>food, supplies, and equipment not protected fr...</td>\n",
       "      <td>111</td>\n",
       "    </tr>\n",
       "    <tr>\n",
       "      <th>7</th>\n",
       "      <td>food not protected from potential source of co...</td>\n",
       "      <td>104</td>\n",
       "    </tr>\n",
       "    <tr>\n",
       "      <th>8</th>\n",
       "      <td>cold food item held above 41º f (smoked fish a...</td>\n",
       "      <td>98</td>\n",
       "    </tr>\n",
       "    <tr>\n",
       "      <th>9</th>\n",
       "      <td>filth flies or food/refuse/sewage-associated (...</td>\n",
       "      <td>76</td>\n",
       "    </tr>\n",
       "  </tbody>\n",
       "</table>\n",
       "</div>"
      ],
      "text/plain": [
       "                                ViolationDescription  cnt_violations\n",
       "0  evidence of mice or live mice in establishment...             393\n",
       "1  evidence of mice or live mice present in facil...             288\n",
       "2  food protection certificate not held by superv...             206\n",
       "3  food contact surface not properly washed, rins...             151\n",
       "4  food protection certificate (fpc) not held by ...             145\n",
       "5  filth flies or food/refuse/sewage associated w...             129\n",
       "6  food, supplies, and equipment not protected fr...             111\n",
       "7  food not protected from potential source of co...             104\n",
       "8  cold food item held above 41º f (smoked fish a...              98\n",
       "9  filth flies or food/refuse/sewage-associated (...              76"
      ]
     },
     "execution_count": 35,
     "metadata": {},
     "output_type": "execute_result"
    }
   ],
   "source": [
    "query = \"\"\"\n",
    "SELECT ViolationDescription, COUNT(*) cnt_violations\n",
    "FROM schools\n",
    "WHERE Level = 'C'\n",
    "GROUP BY ViolationDescription\n",
    "ORDER BY cnt_violations DESC\n",
    "LIMIT 10\n",
    ";\n",
    "\"\"\"\n",
    "pd.read_sql(query, connection)"
   ]
  },
  {
   "cell_type": "markdown",
   "metadata": {},
   "source": [
    "#### What critical cafeteria violations categories are most common?"
   ]
  },
  {
   "cell_type": "code",
   "execution_count": 36,
   "metadata": {},
   "outputs": [
    {
     "data": {
      "text/html": [
       "<div>\n",
       "<style scoped>\n",
       "    .dataframe tbody tr th:only-of-type {\n",
       "        vertical-align: middle;\n",
       "    }\n",
       "\n",
       "    .dataframe tbody tr th {\n",
       "        vertical-align: top;\n",
       "    }\n",
       "\n",
       "    .dataframe thead th {\n",
       "        text-align: right;\n",
       "    }\n",
       "</style>\n",
       "<table border=\"1\" class=\"dataframe\">\n",
       "  <thead>\n",
       "    <tr style=\"text-align: right;\">\n",
       "      <th></th>\n",
       "      <th>ViolationLabel</th>\n",
       "      <th>Count</th>\n",
       "    </tr>\n",
       "  </thead>\n",
       "  <tbody>\n",
       "    <tr>\n",
       "      <th>0</th>\n",
       "      <td>Mice, rats, vermin</td>\n",
       "      <td>691</td>\n",
       "    </tr>\n",
       "    <tr>\n",
       "      <th>1</th>\n",
       "      <td>Documents and Signs</td>\n",
       "      <td>352</td>\n",
       "    </tr>\n",
       "    <tr>\n",
       "      <th>2</th>\n",
       "      <td>Insects, pests</td>\n",
       "      <td>307</td>\n",
       "    </tr>\n",
       "    <tr>\n",
       "      <th>3</th>\n",
       "      <td>Food handling</td>\n",
       "      <td>263</td>\n",
       "    </tr>\n",
       "    <tr>\n",
       "      <th>4</th>\n",
       "      <td>Equipment issues</td>\n",
       "      <td>247</td>\n",
       "    </tr>\n",
       "    <tr>\n",
       "      <th>5</th>\n",
       "      <td>Storage temperature</td>\n",
       "      <td>138</td>\n",
       "    </tr>\n",
       "    <tr>\n",
       "      <th>6</th>\n",
       "      <td>General Hygiene</td>\n",
       "      <td>54</td>\n",
       "    </tr>\n",
       "    <tr>\n",
       "      <th>7</th>\n",
       "      <td>Personal Hygiene</td>\n",
       "      <td>42</td>\n",
       "    </tr>\n",
       "    <tr>\n",
       "      <th>8</th>\n",
       "      <td>Facility</td>\n",
       "      <td>31</td>\n",
       "    </tr>\n",
       "  </tbody>\n",
       "</table>\n",
       "</div>"
      ],
      "text/plain": [
       "        ViolationLabel  Count\n",
       "0   Mice, rats, vermin    691\n",
       "1  Documents and Signs    352\n",
       "2       Insects, pests    307\n",
       "3        Food handling    263\n",
       "4     Equipment issues    247\n",
       "5  Storage temperature    138\n",
       "6      General Hygiene     54\n",
       "7     Personal Hygiene     42\n",
       "8             Facility     31"
      ]
     },
     "execution_count": 36,
     "metadata": {},
     "output_type": "execute_result"
    }
   ],
   "source": [
    "query = \"\"\"\n",
    "SELECT DISTINCT ViolationLabel, COUNT(*) AS Count\n",
    "FROM schools\n",
    "WHERE Level = 'C'\n",
    "GROUP BY ViolationLabel\n",
    "ORDER BY Count DESC\n",
    ";\n",
    "\"\"\"\n",
    "pd.read_sql(query, connection)"
   ]
  },
  {
   "cell_type": "markdown",
   "metadata": {},
   "source": [
    "#### Comparison of NYC Boroughs by Number of Violations per School"
   ]
  },
  {
   "cell_type": "code",
   "execution_count": 37,
   "metadata": {},
   "outputs": [
    {
     "data": {
      "text/html": [
       "<div>\n",
       "<style scoped>\n",
       "    .dataframe tbody tr th:only-of-type {\n",
       "        vertical-align: middle;\n",
       "    }\n",
       "\n",
       "    .dataframe tbody tr th {\n",
       "        vertical-align: top;\n",
       "    }\n",
       "\n",
       "    .dataframe thead th {\n",
       "        text-align: right;\n",
       "    }\n",
       "</style>\n",
       "<table border=\"1\" class=\"dataframe\">\n",
       "  <thead>\n",
       "    <tr style=\"text-align: right;\">\n",
       "      <th></th>\n",
       "      <th>Borough</th>\n",
       "      <th>Violations count</th>\n",
       "    </tr>\n",
       "  </thead>\n",
       "  <tbody>\n",
       "    <tr>\n",
       "      <th>0</th>\n",
       "      <td>Brooklyn</td>\n",
       "      <td>3781</td>\n",
       "    </tr>\n",
       "    <tr>\n",
       "      <th>1</th>\n",
       "      <td>Queens</td>\n",
       "      <td>1560</td>\n",
       "    </tr>\n",
       "    <tr>\n",
       "      <th>2</th>\n",
       "      <td>Manhattan</td>\n",
       "      <td>1159</td>\n",
       "    </tr>\n",
       "    <tr>\n",
       "      <th>3</th>\n",
       "      <td>Bronx</td>\n",
       "      <td>931</td>\n",
       "    </tr>\n",
       "    <tr>\n",
       "      <th>4</th>\n",
       "      <td>Staten Island</td>\n",
       "      <td>231</td>\n",
       "    </tr>\n",
       "  </tbody>\n",
       "</table>\n",
       "</div>"
      ],
      "text/plain": [
       "         Borough  Violations count\n",
       "0       Brooklyn              3781\n",
       "1         Queens              1560\n",
       "2      Manhattan              1159\n",
       "3          Bronx               931\n",
       "4  Staten Island               231"
      ]
     },
     "execution_count": 37,
     "metadata": {},
     "output_type": "execute_result"
    }
   ],
   "source": [
    "query = \"\"\"\n",
    "SELECT Borough, COUNT(*) AS \"Violations count\"\n",
    "FROM schools\n",
    "WHERE Level != 'no violation'\n",
    "\n",
    "GROUP BY Borough\n",
    "ORDER BY \"Violations count\" DESC\n",
    "LIMIT 5\n",
    ";\n",
    "\"\"\"\n",
    "pd.read_sql(query, connection)"
   ]
  },
  {
   "cell_type": "markdown",
   "metadata": {},
   "source": [
    "#### Average # of violations per school by Borough"
   ]
  },
  {
   "cell_type": "code",
   "execution_count": 38,
   "metadata": {},
   "outputs": [
    {
     "data": {
      "text/html": [
       "<div>\n",
       "<style scoped>\n",
       "    .dataframe tbody tr th:only-of-type {\n",
       "        vertical-align: middle;\n",
       "    }\n",
       "\n",
       "    .dataframe tbody tr th {\n",
       "        vertical-align: top;\n",
       "    }\n",
       "\n",
       "    .dataframe thead th {\n",
       "        text-align: right;\n",
       "    }\n",
       "</style>\n",
       "<table border=\"1\" class=\"dataframe\">\n",
       "  <thead>\n",
       "    <tr style=\"text-align: right;\">\n",
       "      <th></th>\n",
       "      <th>Borough</th>\n",
       "      <th>Average violations</th>\n",
       "      <th>Number of Schools</th>\n",
       "    </tr>\n",
       "  </thead>\n",
       "  <tbody>\n",
       "    <tr>\n",
       "      <th>0</th>\n",
       "      <td>Brooklyn</td>\n",
       "      <td>6.0</td>\n",
       "      <td>635</td>\n",
       "    </tr>\n",
       "    <tr>\n",
       "      <th>1</th>\n",
       "      <td>Queens</td>\n",
       "      <td>3.9</td>\n",
       "      <td>400</td>\n",
       "    </tr>\n",
       "    <tr>\n",
       "      <th>2</th>\n",
       "      <td>Manhattan</td>\n",
       "      <td>3.7</td>\n",
       "      <td>312</td>\n",
       "    </tr>\n",
       "    <tr>\n",
       "      <th>3</th>\n",
       "      <td>Bronx</td>\n",
       "      <td>3.1</td>\n",
       "      <td>297</td>\n",
       "    </tr>\n",
       "    <tr>\n",
       "      <th>4</th>\n",
       "      <td>Staten Island</td>\n",
       "      <td>2.9</td>\n",
       "      <td>79</td>\n",
       "    </tr>\n",
       "  </tbody>\n",
       "</table>\n",
       "</div>"
      ],
      "text/plain": [
       "         Borough  Average violations  Number of Schools\n",
       "0       Brooklyn                 6.0                635\n",
       "1         Queens                 3.9                400\n",
       "2      Manhattan                 3.7                312\n",
       "3          Bronx                 3.1                297\n",
       "4  Staten Island                 2.9                 79"
      ]
     },
     "execution_count": 38,
     "metadata": {},
     "output_type": "execute_result"
    }
   ],
   "source": [
    "query = \"\"\"\n",
    "SELECT\n",
    "    Borough,\n",
    "    ROUND(CAST(COUNT(ViolationDescription) AS FLOAT) /\n",
    "    COUNT(DISTINCT \"Record ID\"), 1) as \"Average violations\",\n",
    "    COUNT(DISTINCT \"Record ID\") as \"Number of Schools\"\n",
    "\n",
    "FROM schools\n",
    "WHERE ViolationDescription != 'no violation'\n",
    "GROUP BY Borough\n",
    "ORDER BY \"Average violations\" DESC\n",
    "\n",
    ";\n",
    "\"\"\"\n",
    "\n",
    "pd.read_sql(query, connection)\n",
    "\n"
   ]
  },
  {
   "cell_type": "markdown",
   "metadata": {},
   "source": [
    "  - *“Calculating the average number of violations school in different boroughs allows for an easy comparison of regulatory compliance across different regions.”*\n"
   ]
  },
  {
   "cell_type": "markdown",
   "metadata": {},
   "source": [
    "#### Number of Critical Violations per School by Neighborhood"
   ]
  },
  {
   "cell_type": "code",
   "execution_count": 39,
   "metadata": {},
   "outputs": [
    {
     "data": {
      "text/html": [
       "<div>\n",
       "<style scoped>\n",
       "    .dataframe tbody tr th:only-of-type {\n",
       "        vertical-align: middle;\n",
       "    }\n",
       "\n",
       "    .dataframe tbody tr th {\n",
       "        vertical-align: top;\n",
       "    }\n",
       "\n",
       "    .dataframe thead th {\n",
       "        text-align: right;\n",
       "    }\n",
       "</style>\n",
       "<table border=\"1\" class=\"dataframe\">\n",
       "  <thead>\n",
       "    <tr style=\"text-align: right;\">\n",
       "      <th></th>\n",
       "      <th>NTA Name</th>\n",
       "      <th>Critical violations</th>\n",
       "    </tr>\n",
       "  </thead>\n",
       "  <tbody>\n",
       "    <tr>\n",
       "      <th>0</th>\n",
       "      <td>Borough Park</td>\n",
       "      <td>250</td>\n",
       "    </tr>\n",
       "    <tr>\n",
       "      <th>1</th>\n",
       "      <td>Williamsburg</td>\n",
       "      <td>80</td>\n",
       "    </tr>\n",
       "    <tr>\n",
       "      <th>2</th>\n",
       "      <td>Bedford</td>\n",
       "      <td>61</td>\n",
       "    </tr>\n",
       "    <tr>\n",
       "      <th>3</th>\n",
       "      <td>Far Rockaway-Bayswater</td>\n",
       "      <td>43</td>\n",
       "    </tr>\n",
       "    <tr>\n",
       "      <th>4</th>\n",
       "      <td>Bensonhurst West</td>\n",
       "      <td>42</td>\n",
       "    </tr>\n",
       "    <tr>\n",
       "      <th>5</th>\n",
       "      <td>Flatbush</td>\n",
       "      <td>38</td>\n",
       "    </tr>\n",
       "    <tr>\n",
       "      <th>6</th>\n",
       "      <td>Canarsie</td>\n",
       "      <td>38</td>\n",
       "    </tr>\n",
       "    <tr>\n",
       "      <th>7</th>\n",
       "      <td>Prospect Lefferts Gardens-Wingate</td>\n",
       "      <td>34</td>\n",
       "    </tr>\n",
       "    <tr>\n",
       "      <th>8</th>\n",
       "      <td>Crown Heights South</td>\n",
       "      <td>34</td>\n",
       "    </tr>\n",
       "    <tr>\n",
       "      <th>9</th>\n",
       "      <td>Hudson Yards-Chelsea-Flatiron-Union Square</td>\n",
       "      <td>32</td>\n",
       "    </tr>\n",
       "  </tbody>\n",
       "</table>\n",
       "</div>"
      ],
      "text/plain": [
       "                                     NTA Name  Critical violations\n",
       "0                                Borough Park                  250\n",
       "1                                Williamsburg                   80\n",
       "2                                     Bedford                   61\n",
       "3                      Far Rockaway-Bayswater                   43\n",
       "4                            Bensonhurst West                   42\n",
       "5                                    Flatbush                   38\n",
       "6                                    Canarsie                   38\n",
       "7           Prospect Lefferts Gardens-Wingate                   34\n",
       "8                         Crown Heights South                   34\n",
       "9  Hudson Yards-Chelsea-Flatiron-Union Square                   32"
      ]
     },
     "execution_count": 39,
     "metadata": {},
     "output_type": "execute_result"
    }
   ],
   "source": [
    "query = \"\"\"\n",
    "SELECT \"NTA Name\", COUNT(*) AS \"Critical violations\"\n",
    "FROM schools\n",
    "WHERE \"Level\" = 'C'\n",
    "GROUP BY \"NTA Name\"\n",
    "ORDER BY \"Critical violations\" DESC\n",
    "LIMIT 10;\n",
    "\"\"\"\n",
    "pd.read_sql(query, connection)"
   ]
  },
  {
   "cell_type": "markdown",
   "metadata": {},
   "source": [
    "#### Average Number of Critical Violations per School by Neighborhood"
   ]
  },
  {
   "cell_type": "code",
   "execution_count": 40,
   "metadata": {},
   "outputs": [
    {
     "data": {
      "text/html": [
       "<div>\n",
       "<style scoped>\n",
       "    .dataframe tbody tr th:only-of-type {\n",
       "        vertical-align: middle;\n",
       "    }\n",
       "\n",
       "    .dataframe tbody tr th {\n",
       "        vertical-align: top;\n",
       "    }\n",
       "\n",
       "    .dataframe thead th {\n",
       "        text-align: right;\n",
       "    }\n",
       "</style>\n",
       "<table border=\"1\" class=\"dataframe\">\n",
       "  <thead>\n",
       "    <tr style=\"text-align: right;\">\n",
       "      <th></th>\n",
       "      <th>NTA Name</th>\n",
       "      <th>Avg Critical Violations per School</th>\n",
       "    </tr>\n",
       "  </thead>\n",
       "  <tbody>\n",
       "    <tr>\n",
       "      <th>0</th>\n",
       "      <td>Kew Gardens</td>\n",
       "      <td>5</td>\n",
       "    </tr>\n",
       "    <tr>\n",
       "      <th>1</th>\n",
       "      <td>New Dorp-Midland Beach</td>\n",
       "      <td>4</td>\n",
       "    </tr>\n",
       "    <tr>\n",
       "      <th>2</th>\n",
       "      <td>Borough Park</td>\n",
       "      <td>4</td>\n",
       "    </tr>\n",
       "    <tr>\n",
       "      <th>3</th>\n",
       "      <td>park-cemetery-etc-Brooklyn</td>\n",
       "      <td>3</td>\n",
       "    </tr>\n",
       "    <tr>\n",
       "      <th>4</th>\n",
       "      <td>Williamsburg</td>\n",
       "      <td>3</td>\n",
       "    </tr>\n",
       "  </tbody>\n",
       "</table>\n",
       "</div>"
      ],
      "text/plain": [
       "                     NTA Name  Avg Critical Violations per School\n",
       "0                 Kew Gardens                                   5\n",
       "1      New Dorp-Midland Beach                                   4\n",
       "2                Borough Park                                   4\n",
       "3  park-cemetery-etc-Brooklyn                                   3\n",
       "4                Williamsburg                                   3"
      ]
     },
     "execution_count": 40,
     "metadata": {},
     "output_type": "execute_result"
    }
   ],
   "source": [
    "query = \"\"\"\n",
    "SELECT \n",
    "    \"NTA Name\", \n",
    "    COUNT(*) / COUNT(DISTINCT \"Record ID\") AS \"Avg Critical Violations per School\"\n",
    "FROM schools\n",
    "WHERE \"Level\" = 'C' AND ViolationLabel != 'No Violation'\n",
    "GROUP BY \"NTA Name\"\n",
    "ORDER BY \"Avg Critical Violations per School\" DESC\n",
    "LIMIT 5;\n",
    "\n",
    "\"\"\"\n",
    "pd.read_sql(query, connection)"
   ]
  },
  {
   "cell_type": "markdown",
   "metadata": {},
   "source": [
    "#### Ranking Neighborhoods by Population and Mice-Related Critical Violations"
   ]
  },
  {
   "cell_type": "code",
   "execution_count": 41,
   "metadata": {},
   "outputs": [
    {
     "data": {
      "text/html": [
       "<div>\n",
       "<style scoped>\n",
       "    .dataframe tbody tr th:only-of-type {\n",
       "        vertical-align: middle;\n",
       "    }\n",
       "\n",
       "    .dataframe tbody tr th {\n",
       "        vertical-align: top;\n",
       "    }\n",
       "\n",
       "    .dataframe thead th {\n",
       "        text-align: right;\n",
       "    }\n",
       "</style>\n",
       "<table border=\"1\" class=\"dataframe\">\n",
       "  <thead>\n",
       "    <tr style=\"text-align: right;\">\n",
       "      <th></th>\n",
       "      <th>NTA Name</th>\n",
       "      <th>Critical violations</th>\n",
       "      <th>Population Rank</th>\n",
       "      <th>NTA Population</th>\n",
       "    </tr>\n",
       "  </thead>\n",
       "  <tbody>\n",
       "    <tr>\n",
       "      <th>0</th>\n",
       "      <td>Borough Park</td>\n",
       "      <td>78</td>\n",
       "      <td>4</td>\n",
       "      <td>102494</td>\n",
       "    </tr>\n",
       "    <tr>\n",
       "      <th>1</th>\n",
       "      <td>Williamsburg</td>\n",
       "      <td>26</td>\n",
       "      <td>98</td>\n",
       "      <td>34373</td>\n",
       "    </tr>\n",
       "    <tr>\n",
       "      <th>2</th>\n",
       "      <td>Rugby-Remsen Village</td>\n",
       "      <td>16</td>\n",
       "      <td>47</td>\n",
       "      <td>54666</td>\n",
       "    </tr>\n",
       "    <tr>\n",
       "      <th>3</th>\n",
       "      <td>Canarsie</td>\n",
       "      <td>15</td>\n",
       "      <td>9</td>\n",
       "      <td>88522</td>\n",
       "    </tr>\n",
       "    <tr>\n",
       "      <th>4</th>\n",
       "      <td>Bedford</td>\n",
       "      <td>15</td>\n",
       "      <td>17</td>\n",
       "      <td>77847</td>\n",
       "    </tr>\n",
       "  </tbody>\n",
       "</table>\n",
       "</div>"
      ],
      "text/plain": [
       "               NTA Name  Critical violations  Population Rank  NTA Population\n",
       "0          Borough Park                   78                4          102494\n",
       "1          Williamsburg                   26               98           34373\n",
       "2  Rugby-Remsen Village                   16               47           54666\n",
       "3              Canarsie                   15                9           88522\n",
       "4               Bedford                   15               17           77847"
      ]
     },
     "execution_count": 41,
     "metadata": {},
     "output_type": "execute_result"
    }
   ],
   "source": [
    "query = \"\"\"\n",
    "SELECT \n",
    "    \"NTA Name\",\n",
    "    COUNT(*) AS \"Critical violations\",\n",
    "    RANK() OVER (ORDER BY \"NTA Population\" DESC) AS \"Population Rank\",\n",
    "    \"NTA Population\"\n",
    "FROM schools\n",
    "WHERE \"Level\" = 'C' AND ViolationLabel = 'Mice, rats, vermin'\n",
    "GROUP BY \"NTA Name\"\n",
    "ORDER BY \"Critical violations\" DESC\n",
    "LIMIT 5;\n",
    "\n",
    "\"\"\"\n",
    "pd.read_sql(query, connection)\n",
    "\n"
   ]
  },
  {
   "cell_type": "markdown",
   "metadata": {},
   "source": [
    "#### Examining Mice and Vermin Violations"
   ]
  },
  {
   "cell_type": "code",
   "execution_count": 42,
   "metadata": {},
   "outputs": [
    {
     "data": {
      "text/html": [
       "<div>\n",
       "<style scoped>\n",
       "    .dataframe tbody tr th:only-of-type {\n",
       "        vertical-align: middle;\n",
       "    }\n",
       "\n",
       "    .dataframe tbody tr th {\n",
       "        vertical-align: top;\n",
       "    }\n",
       "\n",
       "    .dataframe thead th {\n",
       "        text-align: right;\n",
       "    }\n",
       "</style>\n",
       "<table border=\"1\" class=\"dataframe\">\n",
       "  <thead>\n",
       "    <tr style=\"text-align: right;\">\n",
       "      <th></th>\n",
       "      <th>NTA Name</th>\n",
       "      <th>Mice, rats, vermin violations</th>\n",
       "    </tr>\n",
       "  </thead>\n",
       "  <tbody>\n",
       "    <tr>\n",
       "      <th>0</th>\n",
       "      <td>Borough Park</td>\n",
       "      <td>133</td>\n",
       "    </tr>\n",
       "    <tr>\n",
       "      <th>1</th>\n",
       "      <td>Williamsburg</td>\n",
       "      <td>50</td>\n",
       "    </tr>\n",
       "    <tr>\n",
       "      <th>2</th>\n",
       "      <td>Bedford</td>\n",
       "      <td>30</td>\n",
       "    </tr>\n",
       "    <tr>\n",
       "      <th>3</th>\n",
       "      <td>Canarsie</td>\n",
       "      <td>23</td>\n",
       "    </tr>\n",
       "    <tr>\n",
       "      <th>4</th>\n",
       "      <td>Rugby-Remsen Village</td>\n",
       "      <td>22</td>\n",
       "    </tr>\n",
       "    <tr>\n",
       "      <th>5</th>\n",
       "      <td>Flatbush</td>\n",
       "      <td>21</td>\n",
       "    </tr>\n",
       "    <tr>\n",
       "      <th>6</th>\n",
       "      <td>East New York</td>\n",
       "      <td>20</td>\n",
       "    </tr>\n",
       "    <tr>\n",
       "      <th>7</th>\n",
       "      <td>Sunset Park West</td>\n",
       "      <td>19</td>\n",
       "    </tr>\n",
       "    <tr>\n",
       "      <th>8</th>\n",
       "      <td>Crown Heights South</td>\n",
       "      <td>19</td>\n",
       "    </tr>\n",
       "    <tr>\n",
       "      <th>9</th>\n",
       "      <td>Bushwick South</td>\n",
       "      <td>19</td>\n",
       "    </tr>\n",
       "  </tbody>\n",
       "</table>\n",
       "</div>"
      ],
      "text/plain": [
       "               NTA Name  Mice, rats, vermin violations\n",
       "0          Borough Park                            133\n",
       "1          Williamsburg                             50\n",
       "2               Bedford                             30\n",
       "3              Canarsie                             23\n",
       "4  Rugby-Remsen Village                             22\n",
       "5              Flatbush                             21\n",
       "6         East New York                             20\n",
       "7      Sunset Park West                             19\n",
       "8   Crown Heights South                             19\n",
       "9        Bushwick South                             19"
      ]
     },
     "execution_count": 42,
     "metadata": {},
     "output_type": "execute_result"
    }
   ],
   "source": [
    "# We focused on violations related to mice and vermin, as these represent critical health risks. \n",
    "# The SQL query below was used to rank neighborhoods by these specific violations:\n",
    "\n",
    "query = \"\"\"\n",
    "SELECT \n",
    "    \"NTA Name\", \n",
    "    COUNT(*) AS \"Mice, rats, vermin violations\"\n",
    "FROM schools\n",
    "WHERE ViolationLabel = 'Mice, rats, vermin'\n",
    "GROUP BY \"NTA Name\"\n",
    "ORDER BY \"Mice, rats, vermin violations\" DESC\n",
    "LIMIT 10;\n",
    "\n",
    "\"\"\"\n",
    "pd.read_sql(query, connection)\n"
   ]
  },
  {
   "cell_type": "markdown",
   "metadata": {},
   "source": [
    "  - *These results highlight neighborhoods with the highest incidence of mice-related violations, suggesting areas that may require targeted pest control measures.*"
   ]
  },
  {
   "cell_type": "markdown",
   "metadata": {},
   "source": [
    "#### Mice Violations in Borough Park"
   ]
  },
  {
   "cell_type": "code",
   "execution_count": 46,
   "metadata": {
    "scrolled": true
   },
   "outputs": [
    {
     "data": {
      "text/html": [
       "<div>\n",
       "<style scoped>\n",
       "    .dataframe tbody tr th:only-of-type {\n",
       "        vertical-align: middle;\n",
       "    }\n",
       "\n",
       "    .dataframe tbody tr th {\n",
       "        vertical-align: top;\n",
       "    }\n",
       "\n",
       "    .dataframe thead th {\n",
       "        text-align: right;\n",
       "    }\n",
       "</style>\n",
       "<table border=\"1\" class=\"dataframe\">\n",
       "  <thead>\n",
       "    <tr style=\"text-align: right;\">\n",
       "      <th></th>\n",
       "      <th>SchoolName</th>\n",
       "      <th>Mice violations count</th>\n",
       "    </tr>\n",
       "  </thead>\n",
       "  <tbody>\n",
       "    <tr>\n",
       "      <th>0</th>\n",
       "      <td>YESHIVA TIFERETH ELIMELECH</td>\n",
       "      <td>9</td>\n",
       "    </tr>\n",
       "    <tr>\n",
       "      <th>1</th>\n",
       "      <td>BOBOVER YESHIVA BNEI ZION</td>\n",
       "      <td>9</td>\n",
       "    </tr>\n",
       "    <tr>\n",
       "      <th>2</th>\n",
       "      <td>TALMUD TORAH IMREI CHAIM</td>\n",
       "      <td>8</td>\n",
       "    </tr>\n",
       "    <tr>\n",
       "      <th>3</th>\n",
       "      <td>BAIS TZIPORAH SCHOOL</td>\n",
       "      <td>8</td>\n",
       "    </tr>\n",
       "    <tr>\n",
       "      <th>4</th>\n",
       "      <td>MOSDOS CHASIDEI SQUARE</td>\n",
       "      <td>7</td>\n",
       "    </tr>\n",
       "  </tbody>\n",
       "</table>\n",
       "</div>"
      ],
      "text/plain": [
       "                   SchoolName  Mice violations count\n",
       "0  YESHIVA TIFERETH ELIMELECH                      9\n",
       "1   BOBOVER YESHIVA BNEI ZION                      9\n",
       "2    TALMUD TORAH IMREI CHAIM                      8\n",
       "3        BAIS TZIPORAH SCHOOL                      8\n",
       "4      MOSDOS CHASIDEI SQUARE                      7"
      ]
     },
     "execution_count": 46,
     "metadata": {},
     "output_type": "execute_result"
    }
   ],
   "source": [
    "# Number of mice-related violations for each school in the Borough Park.\n",
    "query = \"\"\"\n",
    "SELECT \n",
    "    SchoolName,\n",
    "    COUNT(*) AS \"Mice violations count\"\n",
    "FROM schools\n",
    "WHERE ViolationLabel = 'Mice, rats, vermin' AND \"NTA Name\" = 'Borough Park'\n",
    "GROUP BY SchoolName\n",
    "ORDER BY \"Mice violations count\" DESC\n",
    "LIMIT 5\n",
    ";\n",
    "\n",
    "\"\"\"\n",
    "pd.read_sql(query, connection)"
   ]
  },
  {
   "cell_type": "markdown",
   "metadata": {},
   "source": [
    "*Completed the exploratory analysis for school cafeteria violations, focusing on critical violations and geographic distribution.*\n",
    "______________________\n",
    "<p>With the basic exploratory analysis complete, we can delve into more complex SQL queries to draw deeper insights.\n"
   ]
  },
  {
   "cell_type": "markdown",
   "metadata": {},
   "source": [
    "### Advanced SQL Query Context Additions\n",
    "To showcase more complex SQL skills, this section highlights advanced techniques such as subqueries, CTEs, and window functions for deeper analysis.\n"
   ]
  },
  {
   "cell_type": "markdown",
   "metadata": {},
   "source": [
    "#### Using CTEs for Analysis"
   ]
  },
  {
   "cell_type": "markdown",
   "metadata": {},
   "source": [
    "**CTE Explanation**:\n",
    "   - *Common Table Expressions (CTEs) simplify complex aggregations by breaking queries into manageable parts, especially helpful for multi-step queries where intermediary results are needed.* <br>\n",
    "\n",
    "**Window Function Clarification**:\n",
    "   - *The `RANK()` function provides a ranked order of neighborhoods based on violations, enabling clear identification of priority areas for intervention.*"
   ]
  },
  {
   "cell_type": "code",
   "execution_count": 47,
   "metadata": {
    "scrolled": true
   },
   "outputs": [
    {
     "data": {
      "text/html": [
       "<div>\n",
       "<style scoped>\n",
       "    .dataframe tbody tr th:only-of-type {\n",
       "        vertical-align: middle;\n",
       "    }\n",
       "\n",
       "    .dataframe tbody tr th {\n",
       "        vertical-align: top;\n",
       "    }\n",
       "\n",
       "    .dataframe thead th {\n",
       "        text-align: right;\n",
       "    }\n",
       "</style>\n",
       "<table border=\"1\" class=\"dataframe\">\n",
       "  <thead>\n",
       "    <tr style=\"text-align: right;\">\n",
       "      <th></th>\n",
       "      <th>NTA Name</th>\n",
       "      <th>Total Violations</th>\n",
       "      <th>Violation Rank</th>\n",
       "    </tr>\n",
       "  </thead>\n",
       "  <tbody>\n",
       "    <tr>\n",
       "      <th>0</th>\n",
       "      <td>Borough Park</td>\n",
       "      <td>743</td>\n",
       "      <td>1</td>\n",
       "    </tr>\n",
       "    <tr>\n",
       "      <th>1</th>\n",
       "      <td>Williamsburg</td>\n",
       "      <td>243</td>\n",
       "      <td>2</td>\n",
       "    </tr>\n",
       "    <tr>\n",
       "      <th>2</th>\n",
       "      <td>Bedford</td>\n",
       "      <td>193</td>\n",
       "      <td>3</td>\n",
       "    </tr>\n",
       "    <tr>\n",
       "      <th>3</th>\n",
       "      <td>Far Rockaway-Bayswater</td>\n",
       "      <td>126</td>\n",
       "      <td>4</td>\n",
       "    </tr>\n",
       "    <tr>\n",
       "      <th>4</th>\n",
       "      <td>Canarsie</td>\n",
       "      <td>118</td>\n",
       "      <td>5</td>\n",
       "    </tr>\n",
       "    <tr>\n",
       "      <th>5</th>\n",
       "      <td>Bensonhurst West</td>\n",
       "      <td>117</td>\n",
       "      <td>6</td>\n",
       "    </tr>\n",
       "    <tr>\n",
       "      <th>6</th>\n",
       "      <td>Midwood</td>\n",
       "      <td>113</td>\n",
       "      <td>7</td>\n",
       "    </tr>\n",
       "    <tr>\n",
       "      <th>7</th>\n",
       "      <td>Stuyvesant Heights</td>\n",
       "      <td>107</td>\n",
       "      <td>8</td>\n",
       "    </tr>\n",
       "    <tr>\n",
       "      <th>8</th>\n",
       "      <td>Crown Heights North</td>\n",
       "      <td>106</td>\n",
       "      <td>9</td>\n",
       "    </tr>\n",
       "    <tr>\n",
       "      <th>9</th>\n",
       "      <td>Crown Heights South</td>\n",
       "      <td>105</td>\n",
       "      <td>10</td>\n",
       "    </tr>\n",
       "  </tbody>\n",
       "</table>\n",
       "</div>"
      ],
      "text/plain": [
       "                 NTA Name  Total Violations  Violation Rank\n",
       "0            Borough Park               743               1\n",
       "1            Williamsburg               243               2\n",
       "2                 Bedford               193               3\n",
       "3  Far Rockaway-Bayswater               126               4\n",
       "4                Canarsie               118               5\n",
       "5        Bensonhurst West               117               6\n",
       "6                 Midwood               113               7\n",
       "7      Stuyvesant Heights               107               8\n",
       "8     Crown Heights North               106               9\n",
       "9     Crown Heights South               105              10"
      ]
     },
     "execution_count": 47,
     "metadata": {},
     "output_type": "execute_result"
    }
   ],
   "source": [
    "query = \"\"\"\n",
    "WITH ViolationCounts AS (\n",
    "    SELECT\n",
    "        `NTA Name`,\n",
    "        COUNT(*) AS `Total Violations`\n",
    "    FROM schools\n",
    "    WHERE Level != 'no violation'\n",
    "    GROUP BY `NTA Name`\n",
    ")\n",
    "SELECT\n",
    "    `NTA Name`,\n",
    "    `Total Violations`,\n",
    "    RANK() OVER (ORDER BY `Total Violations` DESC) AS `Violation Rank`\n",
    "FROM ViolationCounts\n",
    "LIMIT 10;\n",
    "\"\"\"\n",
    "\n",
    "pd.read_sql(query, connection)"
   ]
  },
  {
   "cell_type": "markdown",
   "metadata": {},
   "source": [
    "*This query uses a Common Table Expression (CTE) to create a temporary result set (`ViolationCounts`) that lists the total number of violations for each neighborhood. It then ranks these neighborhoods by the number of violations.* \n",
    "__________________________________"
   ]
  },
  {
   "cell_type": "markdown",
   "metadata": {},
   "source": [
    "#### Applying CTEs to Analyze Specific Violations in Borough Park ####\n"
   ]
  },
  {
   "cell_type": "code",
   "execution_count": 37,
   "metadata": {},
   "outputs": [
    {
     "data": {
      "text/html": [
       "<div>\n",
       "<style scoped>\n",
       "    .dataframe tbody tr th:only-of-type {\n",
       "        vertical-align: middle;\n",
       "    }\n",
       "\n",
       "    .dataframe tbody tr th {\n",
       "        vertical-align: top;\n",
       "    }\n",
       "\n",
       "    .dataframe thead th {\n",
       "        text-align: right;\n",
       "    }\n",
       "</style>\n",
       "<table border=\"1\" class=\"dataframe\">\n",
       "  <thead>\n",
       "    <tr style=\"text-align: right;\">\n",
       "      <th></th>\n",
       "      <th>School Type</th>\n",
       "      <th>MiceVerminViolations</th>\n",
       "      <th>TotalViolations</th>\n",
       "    </tr>\n",
       "  </thead>\n",
       "  <tbody>\n",
       "    <tr>\n",
       "      <th>0</th>\n",
       "      <td>Private</td>\n",
       "      <td>121</td>\n",
       "      <td>674</td>\n",
       "    </tr>\n",
       "    <tr>\n",
       "      <th>1</th>\n",
       "      <td>Public</td>\n",
       "      <td>12</td>\n",
       "      <td>69</td>\n",
       "    </tr>\n",
       "  </tbody>\n",
       "</table>\n",
       "</div>"
      ],
      "text/plain": [
       "  School Type  MiceVerminViolations  TotalViolations\n",
       "0     Private                   121              674\n",
       "1      Public                    12               69"
      ]
     },
     "execution_count": 37,
     "metadata": {},
     "output_type": "execute_result"
    }
   ],
   "source": [
    "query = \"\"\"\n",
    "WITH BoroughParkViolations AS (\n",
    "    SELECT \n",
    "        \"School Type\",\n",
    "        ViolationLabel,\n",
    "        COUNT(*) AS ViolationCount\n",
    "    FROM schools\n",
    "    WHERE \n",
    "        \"NTA Name\" = 'Borough Park'\n",
    "        AND (ViolationDescription != 'no violation')\n",
    "    GROUP BY \"School Type\", ViolationLabel\n",
    ")\n",
    "\n",
    "SELECT \n",
    "    \"School Type\",\n",
    "    SUM(CASE WHEN ViolationLabel = 'Mice, rats, vermin' THEN ViolationCount ELSE 0 END) AS MiceVerminViolations,\n",
    "    SUM(ViolationCount) AS TotalViolations\n",
    "FROM BoroughParkViolations\n",
    "GROUP BY \"School Type\";\n",
    "\n",
    "\"\"\"\n",
    "\n",
    "pd.read_sql(query, connection)"
   ]
  },
  {
   "cell_type": "markdown",
   "metadata": {},
   "source": [
    "*This query uses a CTE to filter for true violations in Borough Park, comparing mice/vermin-specific and total health violations between private and public schools for a clear side-by-side view of compliance levels.*\n",
    "_________________"
   ]
  },
  {
   "cell_type": "markdown",
   "metadata": {},
   "source": [
    "#### Combining Subqueries for Detailed Comparisons"
   ]
  },
  {
   "cell_type": "markdown",
   "metadata": {},
   "source": [
    "**Subquery Insight**:\n",
    "   - *Subqueries allow for cross-referencing and more detailed comparisons within a single query. This showcases the ability to integrate multiple layers of data for comprehensive insights.*"
   ]
  },
  {
   "cell_type": "code",
   "execution_count": 51,
   "metadata": {},
   "outputs": [
    {
     "data": {
      "text/html": [
       "<div>\n",
       "<style scoped>\n",
       "    .dataframe tbody tr th:only-of-type {\n",
       "        vertical-align: middle;\n",
       "    }\n",
       "\n",
       "    .dataframe tbody tr th {\n",
       "        vertical-align: top;\n",
       "    }\n",
       "\n",
       "    .dataframe thead th {\n",
       "        text-align: right;\n",
       "    }\n",
       "</style>\n",
       "<table border=\"1\" class=\"dataframe\">\n",
       "  <thead>\n",
       "    <tr style=\"text-align: right;\">\n",
       "      <th></th>\n",
       "      <th>School Type</th>\n",
       "      <th>Critical Violations</th>\n",
       "      <th>General Violations</th>\n",
       "    </tr>\n",
       "  </thead>\n",
       "  <tbody>\n",
       "    <tr>\n",
       "      <th>0</th>\n",
       "      <td>Private</td>\n",
       "      <td>1199</td>\n",
       "      <td>2041</td>\n",
       "    </tr>\n",
       "    <tr>\n",
       "      <th>1</th>\n",
       "      <td>Public</td>\n",
       "      <td>926</td>\n",
       "      <td>2697</td>\n",
       "    </tr>\n",
       "  </tbody>\n",
       "</table>\n",
       "</div>"
      ],
      "text/plain": [
       "  School Type  Critical Violations  General Violations\n",
       "0     Private                 1199                2041\n",
       "1      Public                  926                2697"
      ]
     },
     "execution_count": 51,
     "metadata": {},
     "output_type": "execute_result"
    }
   ],
   "source": [
    "query = \"\"\"\n",
    "SELECT\n",
    "    `School Type`,\n",
    "    (SELECT COUNT(*) FROM schools WHERE `School Type` = s.`School Type` AND Level = 'C') AS `Critical Violations`,\n",
    "    (SELECT COUNT(*) FROM schools WHERE `School Type` = s.`School Type` AND Level = 'G') AS `General Violations`\n",
    "FROM schools s\n",
    "GROUP BY `School Type`\n",
    "ORDER BY `Critical Violations` DESC;\n",
    "\"\"\"\n",
    "\n",
    "pd.read_sql(query, connection)"
   ]
  },
  {
   "cell_type": "markdown",
   "metadata": {},
   "source": [
    "*Explanation*: This query uses subqueries to calculate the number of critical and general violations for each school type.\n",
    "___________________________________________________________\n"
   ]
  },
  {
   "cell_type": "markdown",
   "metadata": {},
   "source": [
    "#### Enhanced Filtering with Conditional Logic"
   ]
  },
  {
   "cell_type": "markdown",
   "metadata": {},
   "source": [
    "**Conditional Logic Clarification**:\n",
    "   - *Using CASE statements in SQL allows for row-level conditional operations, providing flexibility to create custom counts or classifications within a query. This approach helps in identifying specific data trends, such as isolating counts of particular violation types.* <br>\n"
   ]
  },
  {
   "cell_type": "code",
   "execution_count": 59,
   "metadata": {},
   "outputs": [
    {
     "data": {
      "text/html": [
       "<div>\n",
       "<style scoped>\n",
       "    .dataframe tbody tr th:only-of-type {\n",
       "        vertical-align: middle;\n",
       "    }\n",
       "\n",
       "    .dataframe tbody tr th {\n",
       "        vertical-align: top;\n",
       "    }\n",
       "\n",
       "    .dataframe thead th {\n",
       "        text-align: right;\n",
       "    }\n",
       "</style>\n",
       "<table border=\"1\" class=\"dataframe\">\n",
       "  <thead>\n",
       "    <tr style=\"text-align: right;\">\n",
       "      <th></th>\n",
       "      <th>NTA Name</th>\n",
       "      <th>Mice Violations</th>\n",
       "      <th>Food Handling Violations</th>\n",
       "    </tr>\n",
       "  </thead>\n",
       "  <tbody>\n",
       "    <tr>\n",
       "      <th>0</th>\n",
       "      <td>Borough Park</td>\n",
       "      <td>133</td>\n",
       "      <td>70</td>\n",
       "    </tr>\n",
       "    <tr>\n",
       "      <th>1</th>\n",
       "      <td>Williamsburg</td>\n",
       "      <td>50</td>\n",
       "      <td>18</td>\n",
       "    </tr>\n",
       "    <tr>\n",
       "      <th>2</th>\n",
       "      <td>Bedford</td>\n",
       "      <td>30</td>\n",
       "      <td>14</td>\n",
       "    </tr>\n",
       "    <tr>\n",
       "      <th>3</th>\n",
       "      <td>Canarsie</td>\n",
       "      <td>23</td>\n",
       "      <td>11</td>\n",
       "    </tr>\n",
       "    <tr>\n",
       "      <th>4</th>\n",
       "      <td>Rugby-Remsen Village</td>\n",
       "      <td>22</td>\n",
       "      <td>5</td>\n",
       "    </tr>\n",
       "  </tbody>\n",
       "</table>\n",
       "</div>"
      ],
      "text/plain": [
       "               NTA Name  Mice Violations  Food Handling Violations\n",
       "0          Borough Park              133                        70\n",
       "1          Williamsburg               50                        18\n",
       "2               Bedford               30                        14\n",
       "3              Canarsie               23                        11\n",
       "4  Rugby-Remsen Village               22                         5"
      ]
     },
     "execution_count": 59,
     "metadata": {},
     "output_type": "execute_result"
    }
   ],
   "source": [
    "query = \"\"\"\n",
    "SELECT\n",
    "    `NTA Name`,\n",
    "    SUM(CASE WHEN ViolationLabel = 'Mice, rats, vermin' THEN 1 ELSE 0 END) AS `Mice Violations`,\n",
    "    SUM(CASE WHEN ViolationLabel = 'Food handling' THEN 1 ELSE 0 END) AS `Food Handling Violations`\n",
    "FROM schools\n",
    "GROUP BY `NTA Name`\n",
    "ORDER BY `Mice Violations` DESC\n",
    "LIMIT 5;\n",
    "\"\"\"\n",
    "\n",
    "pd.read_sql(query, connection)"
   ]
  },
  {
   "cell_type": "markdown",
   "metadata": {},
   "source": [
    "*Explanation*: By applying CASE statements, we can highlight which neighborhoods face the most significant issues related to specific violations, guiding targeted actions and resource allocation.\n",
    "_________________"
   ]
  },
  {
   "cell_type": "markdown",
   "metadata": {},
   "source": [
    "#### Analyzing Compliance Disparities by School Type in Borough Park with focus on Mice/Vermin violations."
   ]
  },
  {
   "cell_type": "code",
   "execution_count": 67,
   "metadata": {},
   "outputs": [
    {
     "data": {
      "text/html": [
       "<div>\n",
       "<style scoped>\n",
       "    .dataframe tbody tr th:only-of-type {\n",
       "        vertical-align: middle;\n",
       "    }\n",
       "\n",
       "    .dataframe tbody tr th {\n",
       "        vertical-align: top;\n",
       "    }\n",
       "\n",
       "    .dataframe thead th {\n",
       "        text-align: right;\n",
       "    }\n",
       "</style>\n",
       "<table border=\"1\" class=\"dataframe\">\n",
       "  <thead>\n",
       "    <tr style=\"text-align: right;\">\n",
       "      <th></th>\n",
       "      <th>School Type</th>\n",
       "      <th>Mice Vermin Violations by School Type</th>\n",
       "      <th>Total Mice Vermin Violations in Borough Park</th>\n",
       "      <th>Percentage of All Mice Vermin Violations in Borrough Park</th>\n",
       "    </tr>\n",
       "  </thead>\n",
       "  <tbody>\n",
       "    <tr>\n",
       "      <th>0</th>\n",
       "      <td>Private</td>\n",
       "      <td>121</td>\n",
       "      <td>133</td>\n",
       "      <td>90.98</td>\n",
       "    </tr>\n",
       "    <tr>\n",
       "      <th>1</th>\n",
       "      <td>Public</td>\n",
       "      <td>12</td>\n",
       "      <td>133</td>\n",
       "      <td>9.02</td>\n",
       "    </tr>\n",
       "  </tbody>\n",
       "</table>\n",
       "</div>"
      ],
      "text/plain": [
       "  School Type  Mice Vermin Violations by School Type  \\\n",
       "0     Private                                    121   \n",
       "1      Public                                     12   \n",
       "\n",
       "   Total Mice Vermin Violations in Borough Park  \\\n",
       "0                                           133   \n",
       "1                                           133   \n",
       "\n",
       "   Percentage of All Mice Vermin Violations in Borrough Park  \n",
       "0                                              90.98          \n",
       "1                                               9.02          "
      ]
     },
     "execution_count": 67,
     "metadata": {},
     "output_type": "execute_result"
    }
   ],
   "source": [
    "query = \"\"\"\n",
    "WITH BoroughParkMiceVerminViolations AS (\n",
    "    SELECT \n",
    "        \"School Type\",\n",
    "        COUNT(*) AS \"Mice Vermin Violations by School Type\"\n",
    "    FROM schools\n",
    "    WHERE \n",
    "        \"NTA Name\" = 'Borough Park'\n",
    "        AND \"ViolationDescription\" != 'no violation'\n",
    "        AND ViolationLabel = 'Mice, rats, vermin'\n",
    "    GROUP BY \"School Type\"\n",
    "),\n",
    "TotalMiceVerminViolations AS (\n",
    "    SELECT \n",
    "        SUM(\"Mice Vermin Violations by School Type\") AS \"Total Mice Vermin Violations in Borough Park\"\n",
    "    FROM BoroughParkMiceVerminViolations\n",
    ")\n",
    "SELECT \n",
    "    bp.\"School Type\",\n",
    "    bp.\"Mice Vermin Violations by School Type\",\n",
    "    tbp.\"Total Mice Vermin Violations in Borough Park\",\n",
    "    ROUND((bp.\"Mice Vermin Violations by School Type\" * 100.0 / tbp.\"Total Mice Vermin Violations in Borough Park\"), 2) AS \"Percentage of All Mice Vermin Violations in Borrough Park\"\n",
    "FROM BoroughParkMiceVerminViolations bp\n",
    "JOIN TotalMiceVerminViolations tbp ON 1=1;\n",
    "\"\"\"\n",
    "\n",
    "pd.read_sql_query(query, connection)\n"
   ]
  },
  {
   "cell_type": "markdown",
   "metadata": {
    "jp-MarkdownHeadingCollapsed": true
   },
   "source": [
    "#### Query Explanation\n",
    "\n",
    "This query analyzes mice/vermin violations in Borough Park, breaking down the data by school type (public vs. private) to identify compliance disparities. The query uses Common Table Expressions (CTEs) to structure the analysis as follows:\n",
    "\n",
    "1. **`BoroughParkViolations` CTE**:\n",
    "   - Filters for all mice/vermin violations within Borough Park, excluding records labeled \"no violation.\"\n",
    "   - Counts the number of mice/vermin violations for each school type (public and private).\n",
    "\n",
    "2. **`TotalBoroughParkViolations` CTE**:\n",
    "   - Calculates the total number of mice/vermin violations across all schools in Borough Park, regardless of school type.\n",
    "   \n",
    "3. **Final Query**:\n",
    "   - Joins the CTEs to produce a summary of violations by school type.\n",
    "   - Calculates the percentage of total mice/vermin violations in Borough Park attributed to each school type, highlighting any significant disparities in compliance.\n",
    "\n",
    "This structure provides a clear side-by-side view of mice/vermin violations, showing if one school type (e.g., private schools) is responsible for a disproportionately high number of violations.\n"
   ]
  },
  {
   "cell_type": "markdown",
   "metadata": {},
   "source": [
    "---\n",
    "## Takeaways for Key Results\n",
    "\n",
    "The analysis reveals a stark difference in the distribution of mice/vermin-related violations in Borough Park, with **private schools responsible for 91% of all such violations** and **public schools accounting for only 9%**. This significant disparity highlights a few key insights and potential action points:\n",
    "\n",
    "1. **Differences in Compliance Practices**: The higher rate of violations in private schools suggests there may be gaps in compliance practices, resources, or oversight compared to public schools. This finding indicates a need to examine private schools' sanitation and health standards more closely.\n",
    "\n",
    "2. **Targeted Oversight and Inspections**: Given that nearly 9 out of 10 mice/vermin violations occur in private schools, targeted health inspections and stricter regulations could be implemented specifically for private institutions. Focused intervention here could substantially reduce health risks within Borough Park.\n",
    "\n",
    "3. **Resource Allocation and Support**: The data suggests that private schools may require additional resources or support to address sanitation issues effectively. Policies or programs aimed at improving facilities and pest control in private schools could help close the gap in compliance.\n",
    "\n",
    "In summary, these findings underscore the need for tailored public health policies that address compliance disparities. Ensuring that private schools meet the same standards as public schools could significantly improve the overall health and safety of school environments in Borough Park.\n"
   ]
  },
  {
   "cell_type": "code",
   "execution_count": null,
   "metadata": {},
   "outputs": [],
   "source": []
  }
 ],
 "metadata": {
  "kernelspec": {
   "display_name": "venv",
   "language": "python",
   "name": "python3"
  },
  "language_info": {
   "codemirror_mode": {
    "name": "ipython",
    "version": 3
   },
   "file_extension": ".py",
   "mimetype": "text/x-python",
   "name": "python",
   "nbconvert_exporter": "python",
   "pygments_lexer": "ipython3",
   "version": "3.13.0"
  }
 },
 "nbformat": 4,
 "nbformat_minor": 4
}
